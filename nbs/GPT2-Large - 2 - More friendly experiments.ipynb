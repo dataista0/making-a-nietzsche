{
 "cells": [
  {
   "cell_type": "markdown",
   "metadata": {},
   "source": [
    "# GPT-2 - Large - 2 - More friendly experiments\n",
    "\n",
    "# This notebook\n",
    "\n",
    "In this notebook we will run the recently release and ported GPT2 large pytorch version on the samples shown in the original blogpost.\n",
    "\n",
    "We originally ran an *out-of-the-box zero-shot experiment* obtaining not that impressing results in [this](https://www.kaggle.com/julian3833/gpt2-large-774m-w-pytorch-not-that-impressive/) notebook (also [here](https://github.com/dataista0/making-a-nietzsche/blob/master/nbs/GPT2-Large%20-774M-%20with%20Pytorch%20-%20Not%20that%20impressive.ipynb) in github). \n",
    "\n",
    "\n",
    "In this notebook we will have an opossite experimentation approach, **making it easy for the model to show its best face**.  We will post-process the generated text removing trivial problems and generate various samples and manually pick the best ones. \n",
    "\n",
    "We will discuss the results with that perspective later on.\n",
    "\n",
    "\n",
    "## Experimentation framework\n",
    "\n",
    "We will do the following:\n",
    "* Run 10 trials with some parameters for different inputs\n",
    "* Manually remove repeated sequences.\n",
    "* Ignore results which are shorter than certain threshold (33% the original requested amount of words in the first experiment, less than an absolute value in the second one)\n",
    "* Manually pick the best generated texts\n",
    "\n",
    "\n",
    "## About the post processing\n",
    "\n",
    "Removing repeated sequences seems a fair thing to do, since it's a solvable issue - trivially solvable - and it doesn't compromise the big picture. Repeating information is a problem of second level compared to generating coherent speech, since removing the repetitions is something we can trivially do with a post-filter. Although this filter can be done at generation time, we are doing it _a posteriori_ for simplicity of implementation (but it takes more time). Also, we are removing the last uncompleted sentence.\n",
    "\n",
    "A good example of the aplication of this rule is the following output from the experiment with the WW2 paragraph, take a look at how this problem affect the perception about coherence:\n",
    "\n",
    "\n",
    "#### Curated result\n",
    "\n",
    "> The war was fought on two fronts: the Western Front (Western Europe) and the Eastern Front (Eastern Europe). The Western Front was the front that the Allies controlled, and the Eastern Front was the front that the Axis controlled. The war was fought in Europe, the Middle East, Africa, and Asia. The Allies were led by the United States, the Soviet Union, and Great Britain. The Axis were led by Germany, Italy, and Japan. The Allies and Axis were divided into two major factions: the Allies and the Axis. \n",
    "\n",
    "#### Original result\n",
    "\n",
    "> The war was fought on two fronts: the Western Front (Western Europe) and the Eastern Front (Eastern Europe). The Western Front was the front that the Allies controlled, and the Eastern Front was the front that the Axis controlled. The Western Front was the front that the Allies controlled, and the Eastern Front was the front that the Axis controlled. The Western Front was the front that the Allies controlled, and the Eastern Front was the front that the Axis controlled.The war was fought in Europe, the Middle East, Africa, and Asia. The Allies were led by the United States, the Soviet Union, and Great Britain. The Axis were led by Germany, Italy, and Japan. The Allies and Axis were divided into two major factions: the Allies and the Axis. The Allies were led by the United States, the Soviet Union, and Great Britain. The Axis were led by Germany, Italy, and Japan. The Allies and Axis were divided into two major factions: the Allies and the Axis. The Allies were led by the United States, the Soviet Union, and Great Britain. The Axis were led by Germany, Italy, and Japan. The Allies and Axis were divided into two major factions: the Allies and the Axis. The Allies were led by the United States, the Soviet Union, and Great Britain. The Axis were led by Germany, Italy, and Japan. The Allies and Axis were divided into two major factions: the Allies and the Axis. The Allies were led by the United States, the Soviet Union, and Great Britain. The Axis were led by Germany, Italy, and Japan. The Allies and Axis were divided into two major factions: the Allies and the Axis. The Allies were led by the United States, the Soviet Union, and Great Britain. The Axis were led by Germany, Italy, and Japan. The Allies and Axis were divided into two major factions: the Allies and the Axis. The Allies were led by the United States, the Soviet Union, and Great Britain. The Axis were led by Germany, Italy, and Japan. The Allies and Axis were divided into two major factions: the Allies and the Axis. The Allies were led by the United States, the Soviet Union, and Great Britain. The Axis were led by Germany, Italy, and Japan. The Allies and Axis were divided into two major factions: the Allies and the Axis. The Allies were led by the United States, the Soviet Union, and Great Britain. The Axis were\n",
    "\n",
    "\n",
    "#### Please, if you know a native -deep learning- way for managing the repetitions, comment!\n",
    "\n",
    "\n",
    "# Results"
   ]
  },
  {
   "cell_type": "code",
   "execution_count": 1,
   "metadata": {},
   "outputs": [],
   "source": [
    "import sys\n",
    "import logging\n",
    "logging.basicConfig(level=logging.CRITICAL) # Disable and annoying warning\n",
    "sys.path.append(\"pytorch-transformers/\")\n",
    "\n",
    "import torch\n",
    "import numpy as np\n",
    "from pytorch_transformers import GPT2Tokenizer, GPT2LMHeadModel\n",
    "import torch.nn.functional as F\n",
    "\n",
    "SAMPLE_INPUTS = [\n",
    "    \"In a shocking finding, scientist discovered a herd of unicorns living in a remote, previously unexplored valley, in the Andes Mountains. Even more surprising to the researchers was the fact that the unicorns spoke perfect English.\",\n",
    "    \"A train carriage containing controlled nuclear materials was stolen in Cincinnati today. Its whereabouts are unknown.\",\n",
    "    \"Miley Cyrus was caught shoplifting from Abercrombie and Fitch on Hollywood Boulevard today.\",\n",
    "    \"We’ve trained a large language model called GPT-2 that generates realistic paragraphs of text, while also exhibiting zero shot generalization on tasks like machine translation, question answering, reading comprehension, and summarization - problems usually approached by using training datasets and models designed explicitly for these tasks.\",\n",
    "    \"Legolas and Gimli advanced on the orcs, raising their weapons with a harrowing war cry.\",\n",
    "    \"For today’s homework assignment, please describe the reasons for the US Civil War.\",\n",
    "    \"John F. Kennedy was just elected President of the United States after rising from the grave decades after his assassination. Due to miraculous developments in nanotechnology, Kennedy’s brain was rebuilt from his remains and installed in the control center of a state-of-the art humanoid robot. Below is a transcript of his acceptance speech.\",\n",
    "    \"Recycling is good for the world.\\n\\nNO! YOU COULD NOT BE MORE WRONG!!\"\n",
    "    ]\n",
    "\n",
    "def fix_randomness(seed=np.random.randint(1000)):\n",
    "    np.random.seed(seed)\n",
    "    torch.random.manual_seed(seed)\n",
    "    torch.cuda.manual_seed(seed)\n",
    "    \n",
    "def get_tokenizer_and_model(model_id):\n",
    "    assert model_id in ['gpt2', 'gpt2-medium', 'gpt2-large']\n",
    "    tokenizer = GPT2Tokenizer.from_pretrained(model_id)\n",
    "    model = GPT2LMHeadModel.from_pretrained(model_id).eval().to('cuda')\n",
    "    return tokenizer, model\n",
    "\n",
    "def stoi(tokenizer, text):\n",
    "    indexed_tokens = tokenizer.encode(text)\n",
    "    tokens = torch.tensor([indexed_tokens]).to('cuda')\n",
    "    return tokens\n",
    "\n",
    "def top_k_logits(logits, k):\n",
    "    if k == 0:\n",
    "        return logits\n",
    "    values, _ = torch.topk(logits, k)\n",
    "    min_values = values[:, -1]\n",
    "    return torch.where(logits < min_values, torch.ones_like(logits, dtype=logits.dtype) * -1e10, logits)\n",
    "\n",
    "def add_n_tokens(model, tokens, n_tokens, temperature=1.0, top_k=40):\n",
    "    generated = []\n",
    "    with torch.no_grad():\n",
    "        for i in range(n_tokens):\n",
    "            res = model(tokens)\n",
    "            logits = res[0]\n",
    "            logits = logits[:, -1, :] / temperature\n",
    "            logits = top_k_logits(logits, k=top_k)\n",
    "            log_probs = F.softmax(logits, dim=-1)\n",
    "            new = torch.multinomial(log_probs, num_samples=1)\n",
    "            \n",
    "            tokens = torch.cat((tokens, new), dim=1)\n",
    "            generated.append(new[0][0].item())\n",
    "    return tokens, generated\n",
    "\n",
    "def remove_repetitions(text):\n",
    "    first_ocurrences = []\n",
    "    for sentence in text.split(\".\"):\n",
    "        if sentence not in first_ocurrences:\n",
    "            first_ocurrences.append(sentence)\n",
    "    return '.'.join(first_ocurrences)\n",
    "\n",
    "def trim_last_sentence(text):\n",
    "    return text[:text.rfind(\".\")+1]\n",
    "\n",
    "def postprocess(text):\n",
    "    return trim_last_sentence(remove_repetitions(text))\n",
    "\n",
    "def benchmark(model_id, n_words, n_trials=10, top_k=40, temperature=0.1, texts=SAMPLE_INPUTS):\n",
    "    print(f\"{model_id} with n_words={n_words}\\n=========================\")\n",
    "    \n",
    "    tokenizer, model = get_tokenizer_and_model(model_id)\n",
    "    results = {}\n",
    "    \n",
    "    for text in texts:\n",
    "        results[text] = []\n",
    "        print(\"---------------------------------------\")\n",
    "        print(\"INPUT: {}\".format(text.replace('\\n', '')))\n",
    "        \n",
    "        for trial in range(n_trials):\n",
    "            tokens = stoi(tokenizer, text)\n",
    "            tokens, generated = add_n_tokens(model, tokens, n_words, temperature=temperature, top_k=top_k)\n",
    "            generated_text = postprocess(tokenizer.decode(generated))\n",
    "            n_gen_words = len(generated_text.split(\" \"))\n",
    "            results[text].append(generated_text)\n",
    "            if n_gen_words > 0.33*n_words:\n",
    "                print(\"OUTPUT {:2d}: {}\".format(trial+1, generated_text.replace('\\n', '')))\n",
    "                print(\"\\n====\\n\")\n",
    "        print(\"---------------------------------------\")\n",
    "    return results"
   ]
  },
  {
   "cell_type": "code",
   "execution_count": 2,
   "metadata": {},
   "outputs": [
    {
     "name": "stdout",
     "output_type": "stream",
     "text": [
      "fatal: destination path 'pytorch-transformers' already exists and is not an empty directory.\r\n"
     ]
    }
   ],
   "source": [
    "# git cloning because the `pip` version of the library doesn't have the commit we need\n",
    "!git clone https://github.com/huggingface/pytorch-transformers.git\n",
    "!rm -rf ./pytorch-transformers/.git\n",
    "fix_randomness()"
   ]
  },
  {
   "cell_type": "markdown",
   "metadata": {},
   "source": [
    "# GPT-2 large on the first paragraph of the wikipedia article for World War II.\n",
    "\n",
    "In this block we ran GPT-2 large feeding it with the first paragraph of the wikipedia article for World War II.\n",
    "We are generating 500 words and making 10 trials.\n",
    "\n",
    "\n"
   ]
  },
  {
   "cell_type": "code",
   "execution_count": 3,
   "metadata": {
    "scrolled": false
   },
   "outputs": [
    {
     "name": "stdout",
     "output_type": "stream",
     "text": [
      "gpt2-large with n_words=500\n",
      "=========================\n",
      "---------------------------------------\n",
      "INPUT: World War II (often abbreviated to WWII or WW2), also known as the Second World War, was a global war that lasted from 1939 to 1945. The vast majority of the world's countries—including all the great powers—eventually formed two opposing military alliances: the Allies and the Axis. A state of total war emerged, directly involving more than 100 million people from over 30 countries. The major participants threw their entire economic, industrial, and scientific capabilities behind the war effort, blurring the distinction between civilian and military resources. World War II was the deadliest conflict in human history, marked by 70 to 85 million fatalities, most of whom were civilians in the Soviet Union and China. It included massacres, the genocide of the Holocaust, strategic bombing, premeditated death from starvation and disease, and the only use of nuclear weapons in war.[1][2][3][4]\n",
      "OUTPUT  4: The war was fought in Europe, Asia, and the Pacific, and involved the United States, Great Britain, and the Soviet Union. The war was fought in the name of the United Nations, which was created in the aftermath of World War I. The United States was the first to declare war, on Germany on September 1, 1939, and the Soviet Union followed on September 2, 1939. The United States and Great Britain were joined by the Soviet Union on September 3, 1939. The Soviet Union and the United States were joined by France, Italy, and Japan on September 4, 1939. The United States and Great Britain were joined by Germany on September 5, 1939. The Soviet Union and the United States were joined by Japan on September 6, 1939. The Soviet Union and the United States were joined by France, Italy, and Japan on September 7, 1939. The Soviet Union and the United States were joined by Germany on September 8, 1939. The Soviet Union and the United States were joined by Japan on September 9, 1939. The Soviet Union and the United States were joined by France, Italy, and Japan on September 10, 1939. The Soviet Union and the United States were joined by Germany on September 11, 1939. The Soviet Union and the United States were joined by Japan on September 12, 1939. The Soviet Union and the United States were joined by France, Italy, and Japan on September 13, 1939. The Soviet Union and the United States were joined by Germany on September 14, 1939. The Soviet Union and the United States were joined by Japan on September 15, 1939. The Soviet Union and the United States were joined by France, Italy, and Japan on September 16, 1939. The Soviet Union and the United States were joined by Germany on September 17, 1939. The Soviet Union and the United States were joined by France, Italy, and Japan on September 18, 1939. The Soviet Union and the United States were joined by Germany on September 19, 1939. The Soviet Union and the United States were joined by France, Italy, and Japan on September 20, 1939. The Soviet Union and the United States were joined by Germany on September 21, 1939. The Soviet Union and the United States were joined by France, Italy, and Japan on September 22, 1939. The Soviet Union and the United States were joined by Germany on September 23, 1939. The Soviet Union and the United States were joined by France, Italy, and Japan on September 24, 1939.\n",
      "\n",
      "====\n",
      "\n",
      "OUTPUT  8: The war was fought in Europe, Asia, and the Pacific, with the United States and the Soviet Union leading the Allied forces. The war was also fought in the Middle East, Africa, and Latin America, with the United States and the Soviet Union leading the Axis forces. The war was also fought in the Pacific, with the United States and the Soviet Union leading the Japanese forces. The war was also fought in the Atlantic Ocean, with the United States and the Soviet Union leading the British forces. The war was also fought in the Mediterranean Sea, with the United States and the Soviet Union leading the French forces. The war was also fought in the Indian Ocean, with the United States and the Soviet Union leading the Japanese forces. The war was also fought in the Pacific Ocean, with the United States and the Soviet Union leading the Japanese forces. The war was also fought in the Pacific Ocean, with the United States and the Soviet Union leading the British forces.\n",
      "\n",
      "====\n",
      "\n",
      "OUTPUT  9: The war was fought in Europe, Asia, and the Pacific. The Allied forces were led by the United States, Britain, and the Soviet Union. The Axis forces were led by Germany, Italy, and Japan. The war was fought in the Pacific, with the United States, Britain, and the Soviet Union fighting in the Pacific. The war was fought in the Mediterranean, with the United States, Britain, and the Soviet Union fighting in the Mediterranean. The war was fought in Africa, with the United States, Britain, and the Soviet Union fighting in Africa. The war was fought in the Middle East, with the United States, Britain, and the Soviet Union fighting in the Middle East. The war was fought in the Far East, with the United States, Britain, and the Soviet Union fighting in the Far East. The war was fought in the Americas, with the United States, Britain, and the Soviet Union fighting in the Americas. The war was fought in Asia, with the United States, Britain, and the Soviet Union fighting in Asia. The war was fought in Europe, with the United States, Britain, and the Soviet Union fighting in Europe.\n",
      "\n",
      "====\n",
      "\n",
      "---------------------------------------\n",
      "CPU times: user 33min 47s, sys: 17min 23s, total: 51min 11s\n",
      "Wall time: 51min 9s\n"
     ]
    }
   ],
   "source": [
    "%%time \n",
    "ww2 = \"\"\"World War II (often abbreviated to WWII or WW2), also known as the Second World War, was a global war that lasted from 1939 to 1945. The vast majority of the world's countries—including all the great powers—eventually formed two opposing military alliances: the Allies and the Axis. A state of total war emerged, directly involving more than 100 million people from over 30 countries. The major participants threw their entire economic, industrial, and scientific capabilities behind the war effort, blurring the distinction between civilian and military resources. World War II was the deadliest conflict in human history, marked by 70 to 85 million fatalities, most of whom were civilians in the Soviet Union and China. It included massacres, the genocide of the Holocaust, strategic bombing, premeditated death from starvation and disease, and the only use of nuclear weapons in war.[1][2][3][4]\"\"\"\n",
    "results_ww2 = benchmark('gpt2-large', n_words=500, texts=[ww2], n_trials=10, top_k=10, temperature=0.1)"
   ]
  },
  {
   "cell_type": "markdown",
   "metadata": {},
   "source": [
    "# English-speaking Unicorns"
   ]
  },
  {
   "cell_type": "code",
   "execution_count": 6,
   "metadata": {},
   "outputs": [
    {
     "name": "stdout",
     "output_type": "stream",
     "text": [
      "gpt2-large with n_words=500\n",
      "=========================\n",
      "---------------------------------------\n",
      "INPUT: In a shocking finding, scientist discovered a herd of unicorns living in a remote, previously unexplored valley, in the Andes Mountains. Even more surprising to the researchers was the fact that the unicorns spoke perfect English.\n",
      "OUTPUT  1: The researchers, from the University of California, Santa Cruz, and the University of Colorado, Boulder, were studying the behavior of the animals in the Andes Mountains when they stumbled upon the unicorns.\"We were surprised to find that the animals were able to communicate with each other in English,\" said lead author Dr. Michael W. Smith, a professor of ecology and evolutionary biology at UC Santa Cruz. \"We were also surprised to find that the animals were able to communicate in English, which is not a common language in the Andes.\"The researchers found that the animals were able to communicate with each other in English because they had learned to use the language of the animals.\"The animals were able to communicate with each other in English because they had learned to use the language of the animals,\" Smith said. \"The animals were able to communicate with each other in English because they had learned to use the language of the animals.\"The researchers also found that the animals were able to communicate with each other in English because they had learned to use the language of the animals.\n",
      "\n",
      "====\n",
      "\n",
      "OUTPUT  3: The researchers, from the University of Colorado, Boulder, and the University of Colorado, Boulder, were studying the effects of climate change on the Andes Mountains when they discovered the unicorns.\"We were surprised to find that the unicorns were living in a valley that was previously unexplored,\" said Dr. David R. Smith, a professor of ecology and evolutionary biology at the University of Colorado, Boulder. \"We were also surprised to find that they spoke English.\"The researchers were able to track the unicorns' movements using GPS technology. They found that the unicorns were traveling in a circle, and that they were traveling at a speed of about 10 miles per hour.\"We were surprised to find that they were traveling in a circle, and that they were traveling at a speed of about 10 miles per hour,\" said Smith.\"The researchers believe that the unicorns are descendants of the ancient llamas that once roamed the Andes Mountains.\"We think that the llamas were once the dominant animals in the Andes Mountains, and that they were hunted to extinction,\" said Smith. \"We think that the llamas were hunted to extinction because they were too large and too aggressive.\"The researchers believe that the llamas were hunted to extinction because they were too large and too aggressive.\"We think that the llamas were hunted to extinction because they were too large and too aggressive,\" said Smith.The researchers believe that the llamas were hunted to extinction because they were too large and too aggressive.\n",
      "\n",
      "====\n",
      "\n",
      "OUTPUT  7: The researchers, led by Dr. David M. Smith of the University of California, Santa Cruz, discovered the unicorns in the Andes Mountains of Peru. The area is known for its unique geology and is home to a number of rare species of animals.The researchers found the unicorns in the Andes Mountains of Peru.\"We were surprised to find that the unicorns were able to communicate with each other in English,\" Smith said. \"We were also surprised to find that they were able to communicate with each other in English, but not in Spanish.\"The researchers believe that the unicorns were born in the Andes Mountains and were brought to the valley by humans.\"We think that the unicorns were brought to the valley by humans, and that they were brought to the valley by humans because they were able to communicate with each other in English,\" Smith said.The researchers believe that the unicorns were brought to the valley by humans, and that they were brought to the valley by humans because they were able to communicate with each other in English.\n",
      "\n",
      "====\n",
      "\n",
      "---------------------------------------\n",
      "CPU times: user 24min 3s, sys: 11min 9s, total: 35min 13s\n",
      "Wall time: 35min 12s\n"
     ]
    }
   ],
   "source": [
    "%%time \n",
    "results_unicorns = benchmark('gpt2-large', n_words=500, texts=[SAMPLE_INPUTS[0]], n_trials=10, top_k=10, temperature=0.1)"
   ]
  },
  {
   "cell_type": "markdown",
   "metadata": {},
   "source": [
    "# Train carriage and Miley Cyrus shoplifting"
   ]
  },
  {
   "cell_type": "code",
   "execution_count": 8,
   "metadata": {},
   "outputs": [
    {
     "data": {
      "text/plain": [
       "['A train carriage containing controlled nuclear materials was stolen in Cincinnati today. Its whereabouts are unknown.',\n",
       " 'Miley Cyrus was caught shoplifting from Abercrombie and Fitch on Hollywood Boulevard today.']"
      ]
     },
     "execution_count": 8,
     "metadata": {},
     "output_type": "execute_result"
    }
   ],
   "source": [
    "SAMPLE_INPUTS[1:3]"
   ]
  },
  {
   "cell_type": "code",
   "execution_count": 10,
   "metadata": {},
   "outputs": [
    {
     "data": {
      "text/plain": [
       "dict_keys([\"World War II (often abbreviated to WWII or WW2), also known as the Second World War, was a global war that lasted from 1939 to 1945. The vast majority of the world's countries—including all the great powers—eventually formed two opposing military alliances: the Allies and the Axis. A state of total war emerged, directly involving more than 100 million people from over 30 countries. The major participants threw their entire economic, industrial, and scientific capabilities behind the war effort, blurring the distinction between civilian and military resources. World War II was the deadliest conflict in human history, marked by 70 to 85 million fatalities, most of whom were civilians in the Soviet Union and China. It included massacres, the genocide of the Holocaust, strategic bombing, premeditated death from starvation and disease, and the only use of nuclear weapons in war.[1][2][3][4]\", 'In a shocking finding, scientist discovered a herd of unicorns living in a remote, previously unexplored valley, in the Andes Mountains. Even more surprising to the researchers was the fact that the unicorns spoke perfect English.'])"
      ]
     },
     "execution_count": 10,
     "metadata": {},
     "output_type": "execute_result"
    }
   ],
   "source": [
    "results = {}\n",
    "results.update(results_ww2)\n",
    "results.update(results_unicorns)\n",
    "results.keys()"
   ]
  },
  {
   "cell_type": "code",
   "execution_count": 11,
   "metadata": {},
   "outputs": [
    {
     "name": "stdout",
     "output_type": "stream",
     "text": [
      "gpt2-large with n_words=500\n",
      "=========================\n",
      "---------------------------------------\n",
      "INPUT: A train carriage containing controlled nuclear materials was stolen in Cincinnati today. Its whereabouts are unknown.\n",
      "OUTPUT  6: The theft occurred at about 4:30 p.m. in the area of North Main Street and East Market Street, according to the Cincinnati Police Department.The train was carrying a shipment of nuclear materials, including a fuel rod, a control rod and a control rod assembly, according to the Cincinnati Police Department.The train was stopped at the railroad crossing at East Market Street and North Main Street, police said.The train was loaded with a total of 1,000 pounds of nuclear material.The train was taken to a secure location for further investigation.The investigation is ongoing.The Cincinnati Police Department is asking anyone with information to call the department at 614-645-5200.AlertMe<|endoftext|>The U.S. Department of Justice has filed a lawsuit against the city of Chicago, alleging that the city's \"stop and frisk\" policy is unconstitutional.The lawsuit, filed in federal court in Chicago, alleges that the policy violates the Fourth Amendment, which prohibits unreasonable searches and seizures.The lawsuit alleges that the policy violates the U. Constitution's Fourth Amendment, which prohibits unreasonable searches and seizures.The U.\n",
      "\n",
      "====\n",
      "\n",
      "---------------------------------------\n",
      "---------------------------------------\n",
      "INPUT: Miley Cyrus was caught shoplifting from Abercrombie and Fitch on Hollywood Boulevard today.\n",
      "---------------------------------------\n",
      "CPU times: user 43min 59s, sys: 20min 12s, total: 1h 4min 11s\n",
      "Wall time: 1h 4min 10s\n"
     ]
    }
   ],
   "source": [
    "%%time \n",
    "x = benchmark('gpt2-large', n_words=500, texts=SAMPLE_INPUTS[1:3], n_trials=10, top_k=10, temperature=0.1)\n",
    "results.update(x)"
   ]
  },
  {
   "cell_type": "markdown",
   "metadata": {},
   "source": [
    "# The rest of the samples"
   ]
  },
  {
   "cell_type": "code",
   "execution_count": 15,
   "metadata": {},
   "outputs": [
    {
     "name": "stdout",
     "output_type": "stream",
     "text": [
      "gpt2-large with n_words=500\n",
      "=========================\n",
      "---------------------------------------\n",
      "INPUT: We’ve trained a large language model called GPT-2 that generates realistic paragraphs of text, while also exhibiting zero shot generalization on tasks like machine translation, question answering, reading comprehension, and summarization - problems usually approached by using training datasets and models designed explicitly for these tasks.\n",
      "---------------------------------------\n",
      "---------------------------------------\n",
      "INPUT: Legolas and Gimli advanced on the orcs, raising their weapons with a harrowing war cry.\n",
      "OUTPUT  1:  The orcs were not prepared for the onslaught of the two heroes. The battle raged for hours, and the orcs were forced to retreat.The two heroes then returned to the city of Minas Tirith, where they were greeted by the King of Gondor, Aragorn. Aragorn was pleased to see that the orcs had been defeated, and he offered them a place in his kingdom. The two heroes accepted, and Aragorn gave them the name of the new king, Celebrimbor.The two heroes then set out to find the Ring of Power, which was hidden in the depths of the Misty Mountains. The Ring was guarded by the evil wizard Saruman, who had been sent by Sauron to destroy the Ring. The two heroes were able to defeat Saruman, and the Ring was returned to the Lonely Mountain.The two heroes then set out to find the One Ring, which was hidden in the depths of Mordor. The One Ring was guarded by the evil wizard Sauron, who had been sent by Sauron to destroy the One Ring.The two heroes were able to defeat Sauron, and the One Ring was returned to the Lonely Mountain.\n",
      "\n",
      "====\n",
      "\n",
      "---------------------------------------\n",
      "---------------------------------------\n",
      "INPUT: For today’s homework assignment, please describe the reasons for the US Civil War.\n",
      "---------------------------------------\n",
      "---------------------------------------\n",
      "INPUT: John F. Kennedy was just elected President of the United States after rising from the grave decades after his assassination. Due to miraculous developments in nanotechnology, Kennedy’s brain was rebuilt from his remains and installed in the control center of a state-of-the art humanoid robot. Below is a transcript of his acceptance speech.\n",
      "---------------------------------------\n",
      "---------------------------------------\n",
      "INPUT: Recycling is good for the world.NO! YOU COULD NOT BE MORE WRONG!!\n",
      "---------------------------------------\n",
      "CPU times: user 1h 55min 24s, sys: 54min 4s, total: 2h 49min 28s\n",
      "Wall time: 2h 49min 24s\n"
     ]
    }
   ],
   "source": [
    "%%time \n",
    "x = benchmark('gpt2-large', n_words=500, texts=SAMPLE_INPUTS[3:], n_trials=10, top_k=10, temperature=0.1)\n",
    "results.update(x)\n"
   ]
  },
  {
   "cell_type": "markdown",
   "metadata": {},
   "source": [
    "# Second experiment: generate 800 words and keep results with at least 250 words after post processing.\n",
    "\n",
    "Also affected `top_k` and `temperature` to `top_k=20, temperature=0.5`"
   ]
  },
  {
   "cell_type": "code",
   "execution_count": 17,
   "metadata": {},
   "outputs": [],
   "source": [
    "def benchmark_v2(model_id, n_words, min_words=250, n_trials=10, top_k=40, temperature=0.1, texts=SAMPLE_INPUTS):\n",
    "    print(f\"{model_id} with n_words={n_words}\\n=========================\")\n",
    "    \n",
    "    tokenizer, model = get_tokenizer_and_model(model_id)\n",
    "    results = {}\n",
    "    \n",
    "    for text in texts:\n",
    "        results[text] = []\n",
    "        print(\"---------------------------------------\")\n",
    "        print(\"INPUT: {}\".format(text.replace('\\n', '')))\n",
    "        \n",
    "        for trial in range(n_trials):\n",
    "            tokens = stoi(tokenizer, text)\n",
    "            tokens, generated = add_n_tokens(model, tokens, n_words, temperature=temperature, top_k=top_k)\n",
    "            generated_text = postprocess(tokenizer.decode(generated))\n",
    "            n_gen_words = len(generated_text.split(\" \"))\n",
    "            results[text].append(generated_text)\n",
    "            if n_gen_words > min_words:\n",
    "                print(\"OUTPUT {:2d}: {}\".format(trial+1, generated_text.replace('\\n', '')))\n",
    "                print(\"\\n====\\n\")\n",
    "        print(\"---------------------------------------\")\n",
    "    return results"
   ]
  },
  {
   "cell_type": "code",
   "execution_count": 18,
   "metadata": {
    "scrolled": false
   },
   "outputs": [
    {
     "name": "stdout",
     "output_type": "stream",
     "text": [
      "gpt2-large with n_words=800\n",
      "=========================\n",
      "---------------------------------------\n",
      "INPUT: World War II (often abbreviated to WWII or WW2), also known as the Second World War, was a global war that lasted from 1939 to 1945. The vast majority of the world's countries—including all the great powers—eventually formed two opposing military alliances: the Allies and the Axis. A state of total war emerged, directly involving more than 100 million people from over 30 countries. The major participants threw their entire economic, industrial, and scientific capabilities behind the war effort, blurring the distinction between civilian and military resources. World War II was the deadliest conflict in human history, marked by 70 to 85 million fatalities, most of whom were civilians in the Soviet Union and China. It included massacres, the genocide of the Holocaust, strategic bombing, premeditated death from starvation and disease, and the only use of nuclear weapons in war.[1][2][3][4]\n",
      "OUTPUT  2: The war began in Europe and continued in the Middle East, Asia, and Africa. The Allied powers—the United States, the Soviet Union, Britain, and France—were able to achieve victory thanks to the superior technology of the United States, the Soviet Union, and Britain. The German and Japanese armies were defeated by the Allies, and the Axis powers were defeated by the Allies. The war ended with the signing of the Treaty of Versailles, which divided the world into two superpowers: the United States of America and the Soviet Union.World War II was the longest and bloodiest war in history. The Allied forces were able to defeat the Axis powers in the battle of the Atlantic Ocean, but the war was ended when the United States launched the atomic bomb on Japan. The war was also the deadliest conflict in history, with more than 100 million fatalities, most of whom were civilians in the Soviet Union and China.A total of five major conflicts occurred during the war:The Great War (1939–1945)The Second World War (1945–1953)The Korean War (1950–1953)The Vietnam War (1954–1975)The Cold War (1973–1991)The Cold War was the longest and bloodiest war in history. The Soviet Union and China were the primary antagonists of the Cold War, with the United States and the Soviet Union often fighting one another. The Cold War was a period of conflict between the superpowers, with the United States and the Soviet Union often fighting one another.The Cold War began in the early 1950s, when the Soviet Union began testing nuclear weapons in the atmosphere. The Soviet Union also began a massive expansion of its nuclear arsenal, which it used to threaten the United States and other Western powers. The United States and the Soviet Union fought a war of words, with the United States accusing the Soviet Union of developing nuclear weapons and the Soviet Union accusing the United States of developing ballistic missiles. The Cold War was a time of intense political and economic tensions between the superpowers. The United States and the Soviet Union were at odds over the Cold War, with the United States trying to maintain its dominance in the world, and the Soviet Union trying to maintain its influence in the world. The Cold War brought great economic benefits to the United States, including the creation of the American economy, the creation of the United States Space Agency, and the creation of the United States Space Command.The Cold War was the first major conflict between superpowers, and it was a significant factor in the formation of the United Nations (UN). The Cold War was also the beginning of the end of the Soviet Union, which was the primary antagonist of the Cold War. The Cold War was the most destructive war in history.The Cold War was the longest and bloodiest war in history.\n",
      "\n",
      "====\n",
      "\n",
      "OUTPUT  3: The Allied and Axis powers fought the war in Europe, Asia, Africa, and the Middle East. The United States and its allies were victorious in the Allied victory in Europe, but the Allies were unable to hold onto the Soviet Union, which was defeated in the Pacific. The Axis lost the war in Asia and Africa, but were able to retain the Middle East, the former Soviet Union, and North Africa. The Axis also lost the war in the Pacific, but were able to hold onto the Philippines and Hawaii.The war was the first major conflict in which the United States and the Soviet Union were directly involved. The Soviet Union and the United States were both directly involved in the war, but the Soviet Union was defeated and the United States was able to retain its territories and control over the Pacific. The Soviet Union was forced to surrender its empire in 1945, and the United States was able to maintain its control over the United States and the Western Hemisphere.History [ edit ]The Second World War [ edit ]The first major event of the Second World War was the invasion of Poland by Nazi Germany and the subsequent occupation of the country by the Soviet Union. Poland, a country of approximately 10 million people, was invaded by Nazi Germany in 1939. The Nazi invasion was preceded by a series of acts of aggression against the country that included the forced deportation of over 6 million Poles to the Soviet Union. The Soviet Union was able to hold onto the Polish territories for several years, but the occupation of Poland was an initial blow to the Soviet Union and the United States as the Soviet Union's most important ally in the war.The Soviet Union and the United States were both directly involved in the war, but the Soviet Union was defeated and the United States was able to retain its territories and control over the Pacific.The Second World War [ edit ]The Soviet Union and the United States both contributed to the war effort. The United States was able to maintain a large military presence in Europe and Asia, and the Soviet Union was able to keep its territories in the Pacific. The United States and the Soviet Union were both directly involved in the war, but the Soviet Union was defeated and the United States was able to retain its territories and control over the Pacific.The United States and the Soviet Union were both directly involved in the war, but the Soviet Union was defeated and the United States was able to retain its territories and control over the Pacific.The German invasion of Poland and the Soviet Union [ edit ]The German invasion of Poland, which began on September 1, 1939, is often referred to as the \"Second World War\". The invasion was initiated by the German Army of the Wehrmacht, which was commanded by Adolf Hitler. The invasion began with the German Army, commanded by General Franz Halder, advancing through the Polish capital of Warsaw. The invasion was initially unsuccessful, as the Polish Army was able to repel the German advance. The German Army was able to make a number of breakthroughs, including the capture of Warsaw. The invasion of Poland was the first major war in which the Soviet Union was directly involved. The Soviet Union was able to hold onto its territories in the West and the East, but was unable to hold onto its territories in the East and the Western Hemisphere.\n",
      "\n",
      "====\n",
      "\n",
      "OUTPUT  4: The war was fought on two fronts: the Western Front and the Eastern Front. The Western Front was the main battlefront, with the armies of Britain, France, and the United States fighting against the forces of the Axis Powers, including Germany, Italy, and Japan. The Eastern Front was the main battlefront, with the armies of the Soviet Union and China fighting against the forces of the Nazis, including the Soviet Union, China, and Japan, as well as the United States, Britain, and the United Nations. The war was also fought in the Pacific, where the Allied and Axis forces fought for control of the Pacific islands of the Pacific Ocean. At the end of the war, the Allies won the war, and the Axis surrendered. The United States did not participate in the war because of the United States' neutrality during World War I and the United States' refusal to send troops into the war. The Soviet Union, however, did participate in the war, and the Soviet Union and China were the only two countries to participate in both the Western and Eastern fronts.The war lasted for almost six years, from 1939 to 1945. The war was the most costly and longest in human history. It cost the lives of over a million people, and the cost of the war was immense. The war cost the United States over $4 trillion in lost GDP, and the war cost Britain over $6 trillion in lost GDP. The war also cost the United States over $3 trillion in lost military earnings.Contents show]HistoryThe First World WarThe First World War was the most important war in human history. It was the first war in which two major powers, the United States and Great Britain, formed a coalition to fight the Axis powers, including Germany, Italy, and Japan. The United States and Great Britain agreed to join forces because they were in a state of war with Germany and Japan. The war began in September 1939 with a declaration of war by Germany and Italy. The war lasted for almost six years, from 1939 to 1945. The war was also fought in the Pacific, where the Allied and Axis forces fought for control of the Pacific Islands of the Pacific Ocean.\n",
      "\n",
      "====\n",
      "\n"
     ]
    },
    {
     "name": "stdout",
     "output_type": "stream",
     "text": [
      "OUTPUT  5: The war was fought in Europe, Asia, and the Middle East. The war began on June 20, 1939, when Germany invaded the Soviet Union. The German invasion of the Soviet Union was led by Adolf Hitler and his SS, the Nazi Party, and the Luftwaffe. The invasion was a surprise to the Soviet Union, which had been preparing for an invasion of Germany for the past eight months. The Soviet Union's response was to attack the German invasion force, and to launch a massive offensive against the German army. The Soviet Union's offensive was successful, and the German army retreated to the Eastern Front, where the war was fought for the next three years.The war was a major turning point in world history. It was the first major conflict in which the United States was involved, and it marked the beginning of the Cold War. The war was also a turning point in the history of the United States, as it marked the beginning of the decline of the American empire and the beginning of the rise of the United Nations. It also marked the beginning of the end of the Cold War.Contents show]Background EditThe German invasion of the Soviet Union was a surprise to the Soviet Union, which had been preparing for an invasion of Germany for the past eight months. It was the first major conflict in which the United States was involved, and it marked the beginning of the decline of the American empire and the beginning of the rise of the United Nations.World War II EditThe war began on June 20, 1939, when Germany invaded the Soviet Union.\n",
      "\n",
      "====\n",
      "\n",
      "OUTPUT  7: The war was fought in Europe, the Pacific, and the Middle East, with the United States playing a major role in the fighting in Europe and the Pacific. The conflict was fought on the basis of a belief in the supremacy of the German and Japanese empires, the superiority of the Axis and the need to contain a communist threat. The United States was the first to declare war on the Axis powers, after World War I, and the United States became the only country to declare war on both the Axis and Allies. The United States and its allies were victorious in the end, but the war cost hundreds of millions of lives.[5]Background [ edit ]The war was sparked by the German invasion of Poland in 1939, which began a series of conflicts between the German and Polish governments. The Soviets invaded the Soviet Union in August 1939, but were defeated by the Germans in June 1940. In the summer of 1940, the Soviet Union and the United States signed the Molotov–Ribbentrop Pact, which established the Soviet Union as an occupying power in Europe. The Soviet Union's occupation of Poland, Lithuania, Estonia, Latvia, and Lithuania followed in September. The Soviet Union invaded the Baltic States in August 1941, and the United States responded by declaring war on Germany. The United States and its allies invaded the Soviet Union in June 1941, and the war lasted until July 1945.The war ended with the surrender of Germany and the dissolution of the German Empire. The Soviet Union and the United States remained allies, but the Soviet Union withdrew its forces from the Western Front in June 1945. In the Soviet Union, the Communist Party was banned, and the Communist Party of the Soviet Union (CPSU) was created as the successor to the Communist Party of the Soviet Union.The United States and the Soviet Union were divided into two countries, with the United States being located in the North Atlantic Treaty Organization (NATO), and the Soviet Union in the Eastern European Treaty Organization (EETO).World War II [ edit ]The war started in Europe, with Germany invading Poland in September 1939. The Soviet Union invaded the Soviet Union in June 1941, and the United States responded by declaring war on Germany.The United States and the Soviet Union were divided into two countries, with the United States located in the North Atlantic Treaty Organization (NATO), and the Soviet Union in the Eastern European Treaty Organization (EETO).The two countries were not officially at war, but the Soviet Union was the dominant military power in the Western European theatre, and the United States was the dominant military power in the Eastern European theatre, and the two countries were at war. In the Soviet Union, the Communist Party was banned, and the Communist Party of the Soviet Union (CPSU) was created as the successor to the Communist Party of the Soviet Union (CPSU).The Cold War [ edit ]The Cold War was a period of political and military tension between the United States and the Soviet Union, which was fueled by the Cold War between the United States and the Soviet Union. The Cold War was a period of political and military tension between the United States and the Soviet Union, which was fueled by the Cold War between the United States and the Soviet Union.The Cold War was a period of political and military tension between the United States and the Soviet Union, which was fueled by the Cold War between the United States and the Soviet Union.\n",
      "\n",
      "====\n",
      "\n",
      "OUTPUT  8: The war was the result of a global conflict between the dominant powers of the day, Germany and Japan, which had been fighting a war of aggression since 1871. The two countries' leaders, Adolf Hitler and Hirohito, were both born in Germany but grew up in Japan, and both were deeply influenced by the Japanese culture and traditions. The two countries were also close allies during the war.The Axis powers of Germany and Japan were both in decline after World War II. Germany had lost the war and was under the rule of the Weimar Republic, while Japan was still in the process of rebuilding after the war and was facing a severe economic crisis. Both countries were also in the process of developing nuclear weapons, and both had the potential to use them against each other. The two countries were also at war with each other, and Germany had taken the initiative in this conflict by attacking the Soviet Union. Germany's invasion of the Soviet Union in June 1941, and the subsequent Soviet invasion of the Baltic States in August 1941, were the beginning of the war.The war took place in Europe, the Middle East, and the Far East. The war was fought in the first few months of World War II. The war was not won by either side, but it was a costly and bloody defeat for both sides.The war was fought in the North Atlantic, the South Atlantic, and the Indian Ocean. The war was fought in Europe, the Middle East, and the Far East.\n",
      "\n",
      "====\n",
      "\n",
      "OUTPUT  9: The Allied and Axis powers fought against one another for control of the world's resources, and the victor was determined by the strength of their military. The war ended with the defeat of the Axis powers, and the Soviet Union and China were liberated from Nazi occupation. The war also marked the beginning of the Cold War, in which the United States and the Soviet Union were at odds with each other over their competing visions of a world government.The war also brought about the end of the Cold War. The Soviet Union and the United States signed the Treaty of Versailles, which ended World War I.The war was preceded by the Great Depression and World War I. The war ended with the defeat of Hitler's Germany, and the end of the Second World War.Contents show]Background EditThe war began in 1939 as a result of the German invasion of Poland. The German invasion was a precursor of the First World War, which would end with the defeat of the Third Reich.The war was fought on two fronts: the Western Front (Westphalia) and the Eastern Front (Poland, Hungary, Romania, Czechoslovakia, Poland, and France). The Western Front was the area between the Rhine River and the Elbe River, and the Eastern Front was the area between the Danube River and the Elbe River.The Allies had a strong military advantage in the Western Front, but the Soviets had a military advantage in the Eastern Front.The war was fought in Europe, Asia, and Africa. The Allies were the dominant force in Europe, with the Soviet Union and China providing support behind the front lines. The Soviet Union and China were allies of Germany during the Second World War, but the two countries were enemies of each other during the war.The fighting was intense and long, lasting from 1939 to 1945. The United States and the Soviet Union were both involved in both the Western and Eastern Fronts, and the United States was the dominant power in Europe.The war was a major test of the United States' ability to wage war. The United States, with its vast resources, was able to win the war by overwhelming the Soviet Union and China. The United States had the advantage of being the most powerful military power, but the Soviet Union and China were both able to defeat the United States.The war cost an estimated $2.5 trillion in lost lives, $1.5 trillion in economic losses, and $1.5 trillion in military losses. The war also left more than 1.5 million dead, and millions more wounded.The United States was the largest contributor to the war effort, with more than $1.3 trillion in aid, while the Soviet Union and China were the largest suppliers of military aid. The United States was also the largest contributor to the war effort, with more than $1.3 trillion in war bonds, and more than $1.3 trillion in war reparations. The Soviet Union and China were the largest suppliers of military aid, with more than $1.\n",
      "\n",
      "====\n",
      "\n"
     ]
    },
    {
     "name": "stdout",
     "output_type": "stream",
     "text": [
      "---------------------------------------\n",
      "---------------------------------------\n",
      "INPUT: In a shocking finding, scientist discovered a herd of unicorns living in a remote, previously unexplored valley, in the Andes Mountains. Even more surprising to the researchers was the fact that the unicorns spoke perfect English.\n",
      "OUTPUT  1: The study was conducted by the University of Colorado, Boulder, and published in the journal PLOS One. The researchers found that the unicorns had been living in the region for about 20,000 years.The researchers are not the first to find a unicorn herd in the Andes Mountains, as the phenomenon has been documented in the region for years. However, this is the first time the phenomenon has been documented in the Andes Mountains.The researchers spent five years studying the area, and discovered that the unicorns had been living in an area known as the Huayhuash Valley, which is located in the middle of the Andes Mountains.The researchers were able to observe the unicorns using satellite imagery and remote sensing technology. The team of scientists discovered that the unicorns had been living in the area for hundreds of years, and that they were able to communicate with one another using a language that is not known to science.The researchers believe that the unicorns were able to communicate to one another using a language known as \"panglish.\" The researchers believe that the unicorns were able to communicate because the unicorns were able to communicate with one another through the use of panglish.The scientists believe that this kind of communication is very rare in the world, and that this is the first time that this kind of communication has been documented in the Andes Mountains.The researchers believe that the unicorns are able to communicate because they have been living in the area for hundreds of years.The scientists believe that the unicorns are able to communicate because they have been living in the area for hundreds of years.\n",
      "\n",
      "====\n",
      "\n",
      "OUTPUT  2: The researchers, from the University of Texas at Austin and the University of Colorado, Boulder, spent a year studying the animals. They discovered that the unicorns are actually a hybrid between a wild horse and a domestic donkey.The researchers believe that the animals are a new species of horse or a new species of donkey.\"There are some wild horses in the Andes Mountains, but they are not very common,\" said study author Dr. Mark A. Laughlin, professor of ecology and evolutionary biology at the University of Texas at Austin.\"The majority of the animals in the study were domestic horses, but there were some wild horses there as well,\" Laughlin said.The researchers collected DNA samples from the animals, and compared them with DNA samples from wild horses. The researchers found that the DNA of the wild horses was more closely related to the DNA of the domestic horses.The researchers believe that the wild horses were domesticated by humans, who brought them to the Andes Mountains, where they were domesticated and bred.The researchers believe that the animals were brought to the Andes Mountains by humans who brought them to the Andes Mountains, where they were domesticated and bred.The scientists are calling the new species of unicorns, \"The unicorns of the Andes.\"\"It's the first time that there has been a species of horse that can speak English,\" Laughlin said.The study was published in the journal Science.<|endoftext|>The U.S. Supreme Court said on Monday it would not hear a case challenging a California law that requires transgender people to use public bathrooms corresponding to the gender on their birth certificates.The justices said they would not hear the case, which was filed by the American Civil Liberties Union and the National Center for Lesbian Rights. The case was brought by Gavin Grimm, a transgender student at Gloucester High School in Virginia, who was forced to use the boys' restroom at school.The high court's decision means the case will be heard by a lower court, which must decide if the law violates the U. Constitution's ban on sex discrimination.The Supreme Court's decision leaves in place a lower court ruling that said the law violates the federal Title IX law prohibiting sex discrimination in education.The high court's decision leaves in place a lower court ruling that said the law violates the federal Title IX law prohibiting sex discrimination in education.The U. Supreme Court on Monday said it would not hear a case challenging a California law that requires transgender people to use public bathrooms corresponding to the gender on their birth certificates. Supreme Court's decision leaves in place a lower court ruling that said the law violates the federal Title IX law prohibiting sex discrimination in education.\n",
      "\n",
      "====\n",
      "\n",
      "OUTPUT  3: The study, published in the journal PLOS One, is described in a new paper by University of Cambridge biologist Dr. John Bradshaw and his colleagues.The team's findings suggest that the unicorns are native to the Andes and have been living in the area for thousands of years.\"This is the first time we've ever seen this kind of evidence in the wild,\" Bradshaw told Discovery News. \"They were in the area for about 100 years and we never saw them before.\"The team found the unicorns in a valley in the Andes Mountains of South America, which is known for its high altitude.\"We were really surprised that they were still there after all these years,\" Bradshaw said. \"They've been there for at least 10,000 years. We didn't expect them to be there.\"Bradshaw and his team were able to track the unicorns' movements by using GPS technology and satellite imagery.The researchers were able to determine the herd's location by using a GPS device and satellite imagery.The team also found that the unicorns were able to communicate with each other using English words.\"The unicorns were able to recognize each other by their distinctive vocalizations,\" Bradshaw said. \"They can recognize each other by the sounds they make. They can understand each other's language. They're able to understand each other's vocalizations.\"\"They're able to understand each other's language.\"The scientists also found that the unicorns were able to communicate with each other using English words.\"They can recognize each other by the sounds they make,\" Bradshaw said. \"They can understand each other's language.\"They can recognize each other by the sounds they make.\"Bradshaw said that the scientists also found evidence of a herd of sheep, goats, and other animals living in the area.\"We found the evidence of a herd of sheep, goats, and other animals living in the area,\" Bradshaw said.The team also found evidence of a herd of sheep, goats, and other animals living in the area.\"We found the evidence of a herd of sheep, goats, and other animals living in the area.\"Bradshaw said that the team found evidence of a herd of sheep, goats, and other animals living in the area.\"The scientists also found evidence of a herd of sheep, goats, and other animals living in the area.\n",
      "\n",
      "====\n",
      "\n",
      "OUTPUT  4: The finding, which was published in the journal PLOS One, is the first to show that unicorns actually communicate in English, a language that is not spoken in the wild.\"We're very excited about this finding,\" said lead author Dr. Robert H. Wootton, a professor of biology at the University of Oxford. \"We hope that this finding will help to explain the remarkable diversity of the animal kingdom, and that it will help us to understand why such animals are so rare.\"Wootton and his colleagues were conducting research in the Andes Mountains in Peru, when they discovered a herd of unicorns living in a valley called Cerro Torre.\"We were surprised to find a herd of unicorns in a valley that is not inhabited by any other animals,\" Wootton said. \"We were also surprised that the animals were able to speak English, a language that is not spoken in the wild. We think that this is a very good example of the benefits of living in a large, remote area with a large population of animals that are not only able to communicate with each other, but also with us.\"The researchers first discovered the unicorns in a nearby valley where they had been monitoring the animals for a year.\"We noticed that they were moving around in a way that was unusual,\" Wootton said. \"We wondered if they were trying to avoid us, and we thought that maybe they were trying to avoid us because they were afraid of us.\"The researchers then discovered that the animals were actually using a special type of communication called vocal mimicry. In this form of communication, the animals mimic sounds that they hear in the wild, and they also use this communication to communicate with one another.\"Vocal mimicry is a form of communication that involves the use of vocal sounds that are produced by animals in the wild,\" Wootton said. \"Vocal mimicry is a very effective means of communication because it is not limited to the use of vocal sounds that are produced by animals. In addition, vocal mimicry is a very efficient way of communication because it is not limited to the use of sounds produced by animals. Instead, vocal mimicry is used to communicate with other animals, and it is used to communicate with humans as well.\"The researchers then used a microphone to record the sounds produced by the animals. These sounds were then translated into English and played back to the animals.\"We heard a lot of different sounds,\" Wootton said. \"We heard the animals talking and laughing, and we also heard them talking about something that was not in the wild. We heard the animals talking about the weather, and about things that they had seen in the wild.\"The researchers then used a computer program to analyze the sounds the animals were making. The computer program was able to translate the sounds into English, and the researchers were able to find out that the animals were using vocal mimicry to communicate with one another.\"Vocal mimicry is a very effective form of communication because it is not limited to the use of vocal sounds that are produced by animals,\" Wootton said. \"In addition, vocal mimicry is a very efficient way of communication because it is not limited to the use of sounds produced by animals.\"The researchers are now working to determine how the animals communicate, and how they communicate with humans.\"We will have to see how they communicate with us, and how we communicate with them,\" Wootton said. \"We are very interested in understanding how this communication works, and we are also interested in how we can use it to help conserve the species.\n",
      "\n",
      "====\n",
      "\n"
     ]
    },
    {
     "name": "stdout",
     "output_type": "stream",
     "text": [
      "OUTPUT  6: \"It's a little bit like a unicorn, but not quite,\" one of the researchers, Dr. David R. G. Rood, told CNN.The researchers said that the unicorns were not domesticated, but were a natural phenomenon that had been around for thousands of years.The animals were discovered in the Andean region of Bolivia, which is about 2,000 miles west of the equator. The researchers were able to travel to the valley because the animals are not found in other areas of the Andes.The researchers found the animals in a valley that is known as the Cajamarca Valley, which is about 2,500 miles northwest of the capital, La Paz.\"We can see the animals as they are walking along the valley floor,\" Rood said. \"We can see the animals as they are eating grasses, eating leaves, and eating leaves and grasses. We can see them as they are feeding on the leaves of the trees.\"The animals are so far removed from any human culture that they don't speak English.\"They are not domesticated, they are not even close to domesticated,\" Rood said. \"But they are close enough to it that they are not domesticated, and so they are not quite as exotic as they could be.\"The researchers said the animals have been around for thousands of years, and that they were likely domesticated by humans.\"We can't say for certain that they are domesticated, but we can say that they are very close to it,\" Rood said.The researchers said the animals may have been domesticated by humans, who used them as pets, or in some cases, for food.\"They are very close to domestication, and they are very close to being domesticated,\" Rood said. \"They could be used as pets, or for food, or for entertainment. They could be used for transportation.\"Rood said that the animals' behavior was similar to that of a horse.\"They are very intelligent, very intelligent, and they are very, very good at communicating,\" Rood said. \"They are very good at communicating, and so they are very good at communicating in English, and they are very good at communicating in Spanish.\"The researchers said the animals are likely to be extinct, but that there are no signs that they have been domesticated.\"We don't have any evidence that they have been domesticated, and we don't have any evidence that they've been domesticated,\" Rood said. \"We don't know for sure if they are extinct, but we don't have any evidence that they are extinct.\"The researchers said that the animals are likely to be extinct, but that there are no signs that they have been domesticated.\"We don't know for sure if they are extinct, and we don't know for sure if they are extinct,\" Rood said. \"But we don't have any evidence that they are extinct, and we don't have any evidence that they are extinct.\"<|endoftext|>When I first heard about the new \"S\" Series from the folks at T-Mobile, I was a little skeptical. I've had a Galaxy S III for a while, and I've been impressed with the design and software experience, but I'm not sure if I was ready for the price point.However, the S3 was a great phone, and I've been looking forward to the new S4. So when they announced the S4, I was excited.The S4 is the first phone from T-Mobile to offer a 4G LTE modem, and it's also the first phone from T-Mobile to support 4G LTE.\n",
      "\n",
      "====\n",
      "\n",
      "OUTPUT  7: The researchers, led by Dr. David Hone of the University of California, Los Angeles, have published their findings in the journal Science.\"We were surprised by the level of communication that the unicorns had,\" said Hone. \"They were able to communicate with each other, they were able to understand each other's language and they were able to communicate with us. They were not just a bunch of little animals, they were actually communicating with each other.\"The researchers were astonished by the sheer amount of communication that the unicorns had, and the fact that they were able to communicate with each other.\"We could see that they were communicating with each other, they were using gestures and facial expressions, and they were communicating with each other in a very complex way,\" said Hone.The researchers found that the unicorns were able to communicate with each other using gestures, facial expressions and sounds.\"We were surprised to find that they could use a language that we've never seen before in an animal,\" said Hone. \"We've never seen a language that they could use. They were using a language that we've never seen before in an animal. They were using a language that we've never seen before in a language in an animal.\"The researchers believe that they have found the first evidence of a language in an animal, and that the language is a form of speech.\"The fact that they were able to communicate with each other, that's a very important finding,\" said Hone. \"The fact that they were able to communicate with each other, that's a very important finding. The fact that they were able to communicate with each other, that's a very important finding.\"The researchers believe that the unicorns are related to the llamas, which are known as the world's largest animals.\"The llamas are known to be the world's largest animals, and we've known that for over a century,\" said Hone.The scientists believe that the llamas could have been domesticated by humans, and that they could have been domesticated by the llamas.\"We think that they were domesticated by humans, and that they were domesticated by the llamas,\" said Hone.The llamas were domesticated by humans, and are now used to make hats, and to make clothing.\"The llamas are used to make hats, and to make clothing,\" said Hone. \"The llamas are used to make hats, and to make clothing.\"The scientists believe that the llamas were domesticated by humans, and that they were domesticated by the llamas.The scientists believe that the llamas were domesticated by humans, and that they were domesticated by the llamas.\n",
      "\n",
      "====\n",
      "\n",
      "OUTPUT  8: The scientists, from the University of Cambridge, found the unicorn herd in the Andes Mountains, on the border of Colombia and Peru. The area is known to be a breeding ground for unicorns, but the scientists were astonished to discover that the animals were living in the forest.The researchers said the unicorns are \"an unusual species\" and are likely to be a new species.\"We have found that the animals are quite intelligent, and have a very high intelligence, and are very intelligent in the language they use. They are very intelligent in their social behaviour, they are very intelligent in their grooming and they are very intelligent in their hunting behaviour,\" said Dr. John Hardman, a member of the research team.The scientists believe the animals were brought to the area by humans.\"It is likely that the animals were brought to the area by humans, and the humans have probably been here for millennia,\" Dr. Hardman said.The scientists believe the animals are very intelligent, and are very intelligent in the language they use. They are very intelligent in their social behaviour, they are very intelligent in their grooming and they are very intelligent in their hunting behaviour.The researchers were able to identify the language by analyzing the sounds the animals make.\"The animals are quite intelligent in their social behaviour, they are very intelligent in their grooming and they are very intelligent in their hunting behaviour,\" Dr.The researchers believe the animals are very intelligent, and are very intelligent in the language they use.\n",
      "\n",
      "====\n",
      "\n",
      "OUTPUT  9: The animals, which are believed to be a cross between a horse and a llama, were found in the Andes Mountains of Peru, and were described by the scientists as \"a perfect example of a hybrid species\".The study, published in the journal Science, found that the animals were not only capable of speaking English, but were also able to communicate with each other, and even make jokes.The animals were found in a small valley surrounded by mountains, and were described as a cross between a horse and a llama.\"The animals were a cross between a horse and a llama, and they were very intelligent,\" said lead author Dr. David Macdonald, from the University of Bristol.The scientists found that the unicorns were able to communicate with each other, and even make jokes.Dr. Macdonald said: \"It's amazing that they could talk to each other, and that they were able to make jokes.\"It's amazing that they could talk to each other, and that they were able to make jokes.\"It's not a surprise that they were able to communicate, but it's amazing that they were able to make jokes.\"The researchers were able to identify the species by the fact that they were able to produce a unique sound, which was unique to the species.The scientists believe that the animals are a cross between a horse and a llama, and that they are a hybrid between a horse and a llama.They believe that the animals are a cross between a horse and a llama, and that they are a hybrid between a horse and a llama.\n",
      "\n",
      "====\n",
      "\n"
     ]
    },
    {
     "name": "stdout",
     "output_type": "stream",
     "text": [
      "OUTPUT 10: The study was conducted by a team of scientists from the University of California, Santa Cruz, and the Smithsonian Institution. They believe the unicorns are descendants of a herd of unicorns that were once found in the Andes Mountains. The researchers believe the unicorns were brought to the valley by a group of Spanish conquistadors.The group of Spanish conquistadors brought the unicorns to the valley in 1616, where they lived in peace. However, in the 1930s, the Spanish government began to hunt down the unicorns. The scientists were able to track down the last surviving unicorn in the valley, and brought it back to the U.S.The scientists also found a herd of other unicorns in the valley, which they believe are descendants of the original herd.\"It's a very exciting finding, and it's a very rare find,\" said study researcher Dr. Brian Switek, a professor at the University of California, Santa Cruz, in a statement. \"There's never been anything like this in the Andes.\"The scientists believe the unicorns are descendants of the original herd.\"The unicorns are descended from the original herd, so their names are all related to the original herd,\" Switek said. \"They're a very diverse group of animals, and they're very interesting.\"The scientists believe the unicorns were brought to the valley by a group of Spanish conquistadors.\"The Spanish were hunting for animals to use for their war machine, and they thought the animals would be a good source of food,\" Switek said. \"They brought them to the valley, and they lived in peace, and they were very well fed.The scientists believe the unicorns are descendants of the original herd.\"What we have here is a very unusual, very rare instance of the origin of a species,\" Switek said. \"This is a very unusual and very important finding.\"The scientists hope to continue their research into the unicorns.\"We can't say for sure whether the unicorns are related to the original herd, but we can say they are very interesting and have an interesting story,\" Switek said. \"We're very excited about this finding.\"The researchers hope to continue their research into the unicorns.\"<|endoftext|>It's been a long time since I've been able to post a new recipe, but the holidays are here and I'm excited to share my new favorite sweet potato casserole recipe!It's been a while since I've posted a new recipe, but the holidays are here and I'm excited to share my new favorite sweet potato casserole recipe!I've been making this sweet potato casserole for years and it's always a hit at Christmas parties. It's a very light, comforting dish that's perfect for a chilly day or a hot, sunny day!I've been using the same recipe for years, but I've recently been trying out a few new things. I've also been making it in a crock pot, which is a great way to keep it warm and make it easy to reheat.This recipe is also great for a quick weeknight dinner that's also a great way to use up leftovers!MY LATEST VIDEOS MY LATEST VIDEOSI've made this recipe twice now, and I love it both times.\n",
      "\n",
      "====\n",
      "\n",
      "---------------------------------------\n",
      "---------------------------------------\n",
      "INPUT: A train carriage containing controlled nuclear materials was stolen in Cincinnati today. Its whereabouts are unknown.\n",
      "OUTPUT  2: The train was carrying about 400 tons of highly enriched uranium and was being transported from a storage facility in Indiana to a facility in New Mexico, according to the FBI.The FBI has not said what type of nuclear material was stolen, but it is believed to be highly enriched uranium, or HEU.It is used in nuclear weapons, and it is highly radioactive.The FBI said the train was being transported by a rail car from the Indiana facility to the New Mexico facility.They said it was not immediately clear if the train was loaded with other hazardous materials.The FBI said the train was being driven by a person who has not been arrested.The FBI said they were working with the rail company to find out what happened.The FBI said the train was being transported by a person who has not been arrestedThe FBI said the train was being driven by a person who has not been arrestedThe FBI said they were working with the rail company to find out what happenedA source told The Associated Press that the FBI was investigating whether the train was loaded with other hazardous materialsThe FBI said they were working with the rail company to find out what happenedThe FBI said they were working with the rail company to find out what happenedThe FBI said they were working with the rail company to find out what happenedThe FBI said they were working with the rail company to find out what happenedThe FBI said they were working with the rail company to find out what happenedThe FBI said they were working with the rail company to find out what happenedThe FBI said they were working with the rail company to find out what happenedThe FBI said they were working with the rail company to find out what happenedThe FBI said they were working with the rail company to find out what happenedThe FBI said they were working with the rail company to find out what happenedThe FBI said they were working with the rail company to find out what happenedThe FBI said they were working with the rail company to find out what happenedThe FBI said they were working with the rail company to find out what happenedThe FBI said they were working with the rail company to find out what happenedThe FBI said they were working with the rail company to find out what happenedThe FBI said they were working with the rail company to find out what happenedThe FBI said they were working with the rail company to find out what happenedThe FBI said they were working with the rail company to find out what happenedThe FBI said they were working with the rail company to find out what happenedThe FBI said they were working with the rail company to find out what happenedThe FBI said they were working with the rail company to find out what happenedThe FBI said they were working with the rail company to find out what happenedThe FBI said they were working with the rail company to find out what happenedThe FBI said they were working with the rail company to find out what happenedThe FBI said they were working with the rail company to find out what happenedThe FBI said they were working with the rail company to find out what happenedThe FBI said they were working with the rail company to find out what happenedThe FBI said they were working with the rail company to find out what happenedThe FBI said they were working with the rail company to find out what happenedThe FBI said they were working with the rail company to find out what happened<|endoftext|>The most important thing to know about the new U.S. president is that he's not a conservative.\"I'm not a conservative,\" Donald Trump said at the Republican National Convention. \"I'm a businessman.\"That's not a new statement.\n",
      "\n",
      "====\n",
      "\n",
      "OUTPUT  4: The incident happened at about 11:40 a.m. in the vicinity of the Cincinnati-Northern Kentucky International Airport, Ohio State Highway Patrol spokesman Trooper Jeff Hallock said.The Amtrak train was carrying materials from the Nuclear Regulatory Commission's Savannah River Site, Hallock said.No one was hurt.The incident is being investigated by the FBI and the Ohio Department of Transportation.Hallock said there was no indication that the incident was related to terrorism.The FBI is assisting with the investigation.The NRC has said it is working with the FBI to determine whether the incident was related to a theft of nuclear materials.The NRC said it was not aware of any suspicious circumstances surrounding the theft of the train.The NRC is responsible for safety and security at nuclear facilities.<|endoftext|>A new study by the National Center for Health Statistics (NCHS) shows that the U.S. has the highest rate of obesity in the world.The study shows that the United States is the only advanced country with a higher rate of obesity than the rest of the world. The U. has a higher rate than the United Kingdom, France, Germany, Italy, Japan, Canada, and Australia.The U. is also the only country in the world with a higher rate of obesity than the number of people who are obese.The study was conducted by the NCHS and the Centers for Disease Control and Prevention (CDC). The study analyzed the prevalence of obesity in the U. population from 1999 to 2011.The study found that the U. has the highest prevalence of obesity in the world. has the highest prevalence of obesity in the worldThe U. has the highest prevalence of obesity in the world, and the highest rate of obesity among the developed countries. has a rate of obesity that is 1.5 times higher than the rate in the other four countries.\n",
      "\n",
      "====\n",
      "\n"
     ]
    },
    {
     "name": "stdout",
     "output_type": "stream",
     "text": [
      "OUTPUT  5: The theft took place at around 2:30 p.m. at the Amtrak train station in the city's East End, according to the Cincinnati Police Department.Police said the stolen carriage contained a nuclear material.No arrests have been made.The train was carrying a shipment of nuclear material, according to the Cincinnati Police Department.The train was headed to Pittsburgh, according to the police department.The stolen train was being transported to Pittsburgh.The train is being investigated by the FBI and the U.S. Department of Energy.Cincinnati Mayor John Cranley said in a statement that the incident is \"an alarming reminder of the dangers posed by nuclear materials.\"\"We are working closely with law enforcement officials to apprehend those responsible for this crime,\" Cranley said.Police said the train was carrying a shipment of nuclear material.The FBI is assisting with the investigation.<|endoftext|>If you have been following the news, you know that the United States has been in a state of crisis of some sort.It's not just that the economy has been in a slump, but that the federal government has been in a state of chaos.The Federal Reserve is in a state of crisis. The Treasury Department is in a state of chaos. The Department of Homeland Security is in a state of chaos.The president of the United States has been in a state of crisis since the election.And now, the president of the United States is in a state of crisis over the Russia investigation.It's a crisis that is so serious that, if the investigation goes nowhere, the president will be impeached.But the Democrats have been trying to prevent that from happening.And they're using the \"Russia\" investigation to try and stop the president from doing what he needs to do to protect America.So, what's going on here?Well, the Democrats are using the \"Russia\" investigation to try and stop the president from doing what he needs to do to protect America.And that's what's happening here.The Democrats are trying to stop the president from doing what he needs to do to protect America.\n",
      "\n",
      "====\n",
      "\n",
      "OUTPUT  6:  (Photo: AP)CINCINNATI (AP) — A train carriage containing controlled nuclear materials was stolen in Cincinnati today. Its whereabouts are unknown.The Cincinnati Police Department said in a statement that the train was stolen at about 9:30 a.m. from the train station at the Northside Station.The train was carrying a total of 1,000 pounds of highly enriched uranium, or HEU, which is a material used in nuclear reactors.The Cincinnati Police Department said the stolen train was being driven by a person of interest, who was not immediately identified.The FBI and U.S. Department of Homeland Security are investigating the incident.Copyright 2014 The Associated Press. All rights reserved. This material may not be published, broadcast, rewritten or redistributed.Read or Share this story: http://usat.ly/1g1mjzV<|endoftext|>The first thing you notice about a new iPhone is its size. The iPhone is big. It is the size of a small car. It's so big that it feels like a big phone.And it feels that way because it is.The iPhone is the biggest phone Apple has ever made, and in some ways it's the biggest phone Apple has ever made in the history of the company.But the iPhone is also the biggest phone Apple has ever made. It's the biggest phone Apple has ever made in the history of the world. And it's the biggest phone Apple has ever made in the history of the world.It's the biggest phone Apple has ever made in the history of the world.The iPhone is the biggest phone Apple has ever made in the history of the world.\n",
      "\n",
      "====\n",
      "\n",
      "---------------------------------------\n",
      "---------------------------------------\n",
      "INPUT: Miley Cyrus was caught shoplifting from Abercrombie and Fitch on Hollywood Boulevard today.\n",
      "OUTPUT  4: The 19-year-old singer was spotted at the store in her underwear, according to TMZ.The teen walked out of the store without paying for her clothes, but she was quickly caught by security.Scroll down for videoAbercrombie and Fitch employee caught shoplifting from the teen singer: TMZ reports that Miley Cyrus was caught shoplifting from the store on Hollywood Boulevard todayThe 19-year-old singer was spotted at the store in her underwear, according to TMZThe teen walked out of the store without paying for her clothes, but she was quickly caught by securityThe teen was spotted in her underwear, according to TMZ.The teen was seen walking out of the store with her hands in her pockets and was not wearing a coat.Abercrombie and Fitch released a statement to TMZ saying they are 'deeply concerned' about the situation and are 'working with the authorities to identify the individual who violated our policy.'The statement continued: 'We are working with the authorities to identify the individual who violated our policy and are working with them to identify the appropriate action.'We will have no further comment on the situation until such time as we have all the facts.'Miley Cyrus was spotted in her underwear, according to TMZThe teen was seen walking out of the store with her hands in her pockets and was not wearing a coatThe teen was seen walking out of the store with her hands in her pockets and was not wearing a coatAbercrombie and Fitch released a statement to TMZ saying they are 'deeply concerned' about the situation and are 'working with the authorities to identify the individual who violated our policy'Miley Cyrus was spotted in her underwear, according to TMZMiley Cyrus was spotted in her underwear, according to TMZThe teen was spotted in her underwear, according to TMZ.The teen was spotted in her underwear, according to TMZ.Miley Cyrus was spotted in her underwear, according to TMZ.<|endoftext|>The first time I met the man who would become my husband, I was in my first year of law school. I had been a law student for a few months, and I had been looking for a job. I had never worked in the legal field, but I had a passion for it, and I was looking for a job. I had never been a lawyer before, and I didn't know anyone who was a lawyer. I was a freshman.The first time I met the man who would become my husband, I was in my first year of law school.\n",
      "\n",
      "====\n",
      "\n",
      "OUTPUT  6:  The singer was spotted by a security guard on the sidewalk in front of the store and was arrested. She was also caught on surveillance video trying to steal a pair of boots from a store in West Hollywood.The singer, who is famous for her stage antics, was seen walking into the store wearing a black t-shirt, black pants, and black shoes. She was also seen carrying a shopping bag with her. She was spotted by the security guard, who said she was walking toward the exit.The singer was caught on surveillance video trying to steal a pair of boots from a store in West Hollywood.The store's security guard said he saw her walking toward the exit, and said she appeared to be trying to take a pair of boots from the store.\"She was walking toward the exit and she was trying to take a pair of boots from the store,\" the guard said.The guard said he had no idea what the singer was trying to steal.\"I didn't know what she was trying to do, but I didn't know if she was trying to take a pair of boots or something else,\" he said.The guard said he was shocked when he saw the video.\"I was shocked, because I didn't know she was doing that,\" he said. \"I was just walking by and I saw her walk by.\"The guard said he was not sure if the singer was trying to steal the boots or if she was trying to get out of the store.\"I don't know what she was trying to do. I don't know if she was trying to get out or something else,\" he said.The guard said he was not aware of any other shoppers in the store.The singer was released from the Los Angeles County Jail after posting $1,000 bail.The singer was also seen in a video in which she was seen wearing a blue and white striped shirt and black pants.Cyrus was arrested in February on suspicion of shoplifting from a Los Angeles department store. She was also arrested on suspicion of stealing a pair of sunglasses from a store in West Hollywood in October.The singer was also arrested in April for allegedly stealing a pair of sunglasses from a store in West Hollywood.The singer, who was born Miley Cyrus, is a pop star who has been in the public eye since she was a teenager. In the early 2000s, she was a member of the popular group, Hannah Montana.The singer has been accused of stealing from multiple stores, including the Gap, Bloomingdale's, and Bloomingdale's in West Hollywood.She was also arrested in December 2014 on suspicion of shoplifting from a store in West Hollywood.Cyrus was also arrested in April 2014 for allegedly stealing a pair of sunglasses from a store in West Hollywood.In February 2014, Cyrus was arrested after she was caught shoplifting from a store in West Hollywood.The singer was also arrested in November 2013 for allegedly stealing a pair of sunglasses from a store in West Hollywood.In April 2012, the singer was arrested for allegedly stealing a pair of sunglasses from a store in West Hollywood.Cyrus was also arrested in September 2011 for allegedly stealing a pair of sunglasses from a store in West Hollywood.In February 2011, the singer was arrested for allegedly shoplifting from a store in West Hollywood.In March 2011, the singer was arrested for allegedly shoplifting from a store in West Hollywood.In September 2010, the singer was arrested for allegedly shoplifting from a store in West Hollywood.In September 2009, the singer was arrested for allegedly shoplifting from a store in West Hollywood.In August 2009, the singer was arrested for allegedly shoplifting from a store in West Hollywood.\n",
      "\n",
      "====\n",
      "\n"
     ]
    },
    {
     "name": "stdout",
     "output_type": "stream",
     "text": [
      "OUTPUT  7: The singer was spotted by a security guard at the store wearing a black hoodie and black pants.The singer was seen in the store at around 1pm when she was spotted carrying a large bag of clothes in her hand.The singer was spotted in the store at around 1pm when she was spotted carrying a large bag of clothes in her handThe singer was spotted in the store at around 1pm when she was spotted carrying a large bag of clothes in her handThe singer was spotted in the store at around 1pm when she was spotted carrying a large bag of clothes in her handThe singer was spotted in the store at around 1pm when she was spotted carrying a large bag of clothes in her handThe singer was spotted in the store at around 1pm when she was spotted carrying a large bag of clothes in her handThe singer was spotted in the store at around 1pm when she was spotted carrying a large bag of clothes in her handThe singer was spotted in the store at around 1pm when she was spotted carrying a large bag of clothes in her handThe singer was spotted in the store at around 1pm when she was spotted carrying a large bag of clothes in her handThe singer was spotted in the store at around 1pm when she was spotted carrying a large bag of clothes in her handThe singer was spotted in the store at around 1pm when she was spotted carrying a large bag of clothes in her handThe singer was spotted in the store at around 1pm when she was spotted carrying a large bag of clothes in her handThe singer was spotted in the store at around 1pm when she was spotted carrying a large bag of clothes in her handThe singer was spotted in the store at around 1pm when she was spotted carrying a large bag of clothes in her handThe singer was spotted in the store at around 1pm when she was spotted carrying a large bag of clothes in her handThe singer was spotted in the store at around 1pm when she was spotted carrying a large bag of clothes in her handThe singer was spotted in the store at around 1pm when she was spotted carrying a large bag of clothes in her handThe singer was spotted in the store at around 1pm when she was spotted carrying a large bag of clothes in her hand<|endoftext|>The first thing you should know about the \"Pillars of Eternity\" Kickstarter campaign is that it is not a Kickstarter. It is a crowdfunding campaign. That means you can pledge money to the project, but you can't actually get anything.It's not even a Kickstarter. It's a crowdfunding campaign.The game is still in development, and the Kickstarter is the first step in getting the game into your hands. The game is still in development, and the Kickstarter is the first step in getting the game into your hands.\n",
      "\n",
      "====\n",
      "\n",
      "OUTPUT 10: The singer, 20, was caught in the act by a security guard at the store, as she was trying to enter the store with a bag of clothes, according to TMZ.Miley Cyrus was caught shoplifting from Abercrombie and Fitch on Hollywood Boulevard todayShe was spotted by the guard as she was trying to enter the store with a bag of clothes, according to TMZMiley Cyrus was spotted in the act by a security guard at the store as she was trying to enter the store with a bag of clothesThe singer was spotted by the guard as she was trying to enter the store with a bag of clothesThe guard noticed Cyrus was carrying a bag of clothes as she entered the store, and asked her to remove them.Miley Cyrus was spotted in the act by a security guard at the store as she was trying to enter the store with a bag of clothesThe singer was reportedly caught on camera trying to enter the store with a bag of clothesThe singer was reportedly caught on camera trying to enter the store with a bag of clothes.She was reportedly caught on camera trying to enter the store with a bag of clothes.According to TMZ, the singer was caught on camera trying to enter the store with a bag of clothes.The singer was reportedly caught on camera trying to enter the store with a bag of clothesThe singer was reportedly caught on camera trying to enter the store with a bag of clothesShe was reportedly caught on camera trying to enter the store with a bag of clothes.The singer was reportedly caught on camera trying to enter the store with a bag of clothesThe singer was reportedly caught on camera trying to enter the store with a bag of clothesThe singer was reportedly caught on camera trying to enter the store with a bag of clothesThe singer was reportedly caught on camera trying to enter the store with a bag of clothesThe singer was reportedly caught on camera trying to enter the store with a bag of clothesThe singer was reportedly caught on camera trying to enter the store with a bag of clothesThe singer was reportedly caught on camera trying to enter the store with a bag of clothesThe singer was reportedly caught on camera trying to enter the store with a bag of clothesThe singer was reportedly caught on camera trying to enter the store with a bag of clothesThe singer was reportedly caught on camera trying to enter the store with a bag of clothesThe singer was reportedly caught on camera trying to enter the store with a bag of clothesThe singer was reportedly caught on camera trying to enter the store with a bag of clothes<|endoftext|>We've been hearing about the \"fiscal cliff\" for a while now, but it's been a while since we've actually seen a real deal come to pass. It's one thing to talk about the possibility of a \"grand bargain\" that would include tax increases and spending cuts, and it's another to actually get down to the business of actually negotiating a deal.Well, the time has come. The House and Senate are set to begin negotiations on a budget deal on Wednesday, and the White House is said to be supportive of the approach.The key question, however, is whether the White House will actually support the approach, or whether the House and Senate will be so far apart that the White House will have to step in and veto the deal.It's a tricky situation, because the White House is already working behind the scenes to make sure that the House and Senate don't get the deal they want. The White House is working with the House leadership to ensure that the House passes a budget resolution that includes the revenue-raising provisions that the White House wants, and the Senate passes a budget resolution that includes the spending cuts that the White House wants.\n",
      "\n",
      "====\n",
      "\n",
      "---------------------------------------\n",
      "---------------------------------------\n",
      "INPUT: We’ve trained a large language model called GPT-2 that generates realistic paragraphs of text, while also exhibiting zero shot generalization on tasks like machine translation, question answering, reading comprehension, and summarization - problems usually approached by using training datasets and models designed explicitly for these tasks.\n",
      "OUTPUT  4:  The model can also be trained to generate sentences from texts, and even to generate sentences from sentences in other languages. We have also trained a more general model called GPT-2+ that can handle all kinds of non-sentential text.We've also trained a novel model called GPT-2-2 (GPT-2+2) to generate sentences from sentences in English, Spanish, Italian, French, German, Japanese, and Russian. These model were trained on both real texts and test texts, and we can say that the GPT-2+2 model can generate sentences from sentences in English, Spanish, Italian, French, German, Japanese, and Russian.In this blog post, we'll explain how we trained the GPT-2+2 model to generate sentences from sentences in English, Spanish, Italian, French, German, Japanese, and Russian. We'll also show how you can use our model to generate sentences from sentences in other languages, and even from sentences in other languages.GPT-2+2 is a machine learning algorithm that can be used to generate sentences from sentences in English, Spanish, Italian, French, German, Japanese, and Russian.In this post, we'll explain the steps we took to train the GPT-2+2 model, and how you can use our model to generate sentences from sentences in English, Spanish, Italian, French, German, Japanese, and Russian.Step 1: Training the modelThe first step is to train the model using a dataset containing real sentences from English, Spanish, Italian, French, German, and Japanese. The dataset contains sentences from a variety of languages, but we'll focus on the English language.Step 2: Generating sentences from sentences in EnglishTo train the GPT-2+2 model, we need to generate sentences from sentences in English. This is achieved by first generating sentences from real sentences in English, and then generating sentences from sentences in English.In the following figure, we show three examples of sentences generated by the GPT-2+2 model.We can see that the GPT-2+2 model can generate sentences from sentences in English. This is because the model has learned to recognize English sentences, which is a very common task in machine translation.\n",
      "\n",
      "====\n",
      "\n"
     ]
    },
    {
     "name": "stdout",
     "output_type": "stream",
     "text": [
      "OUTPUT  6: The model is trained using a large corpus of documents, which are generated by a large corpus of natural language processing tasks. These tasks are commonly used by researchers, and the model's output is used to generate a large corpus of documents from which the model can be trained. The model can be used to generate a corpus of documents with a number of different text types, such as news articles, news stories, and news headlines, as well as to generate a corpus of documents with a number of different document types, such as news stories, news headlines, and news documents. GPT-2 is trained on a large corpus of texts, and is used to generate a large corpus of documents from which the model can be trained.The model is trained on a large corpus of texts, and is used to generate a large corpus of documents from which the model can be trained. The model is trained on a large corpus of texts, and is used to generate a large corpus of documents from which the model can be trained. GPT-2 is trained on a large corpus of documents, and is used to generate a large corpus of documents from which the model can be trained.The model is trained on a large corpus of documents, and is used to generate a large corpus of documents from which the model can be trained. The model is trained on a large corpus of documents, and is used to generate a large corpus of documents from which the model can be trained.\n",
      "\n",
      "====\n",
      "\n",
      "---------------------------------------\n",
      "---------------------------------------\n",
      "INPUT: Legolas and Gimli advanced on the orcs, raising their weapons with a harrowing war cry.\n",
      "OUTPUT  3:  The orcs were forced to retreat, but the two heroes were not to be denied. With the Horde's defeat, the Alliance was left to defend the city of Barad-dûr.The Horde attacked the city with the intention of looting and plundering all that remained of the city. The Alliance was able to withstand the attack, but were unable to repel the Horde's attack. The Alliance then launched a massive offensive and defeated the Horde, taking the city of Barad-dûr.The battle of Barad-dûr was an important turning point in the war. The battle proved that the Alliance could be more than a mere band of raiders. The Horde's defeat at Barad-dûr forced the Alliance to focus its efforts on the defense of the city of Orgrimmar. The Horde's defeat at Barad-dûr allowed the Alliance to concentrate all of its forces on Orgrimmar.The Alliance Expedition EditThe Alliance Expedition to Orgrimmar was led by the adventurer, leading the expedition from Orgrimmar to the city of Orgrimmar. They were able to defeat the Horde at the Battle of Thunder Pass, and the Alliance was able to secure the city of Orgrimmar.The Alliance Expedition was later led by the adventurer's daughter, Tiffin. She was the first of the adventurer's children to join the Alliance Expedition.The Horde Expedition EditThe Horde Expedition was led by the Horde leader, Garrosh Hellscream. It was led by the leader of the Horde, Garrosh Hellscream. The Horde Expedition was able to defeat the Alliance Expedition at the Battle of Thunder Pass, and the Horde was able to secure the city of Orgrimmar.The Horde Expedition was later led by the leader of the Horde, Garrosh Hellscream.Legion EditThis section concerns content exclusive to LegionThe Horde Expedition was led by the leader of the Horde, Garrosh Hellscream.This section concerns content exclusive to LegionThe Horde Expedition was led by the leader of the Horde, Garrosh Hellscream.Battle for Azeroth EditThis section concerns content exclusive to Battle for AzerothThe Horde Expedition was led by the leader of the Horde, Garrosh Hellscream.This section concerns content exclusive to Battle for AzerothThis section concerns content exclusive to Battle for AzerothIn the aftermath of the Third War, the Horde Expedition was led by the leader of the Horde, Garrosh Hellscream.Battle for Azeroth introduced the first Horde Expedition to Azeroth, led by the leader of the Horde, Garrosh Hellscream.\n",
      "\n",
      "====\n",
      "\n",
      "OUTPUT  7:  The orcs were not easily defeated, however, and the two heroes were forced to retreat. The two heroes then returned to the Lonely Mountain, where they found the Fellowship of the Ring and the Nazgûl, who were preparing to attack them.After the battle, Gandalf, Gimli, and Aragorn returned to Minas Tirith. They were greeted by the King of Gondor, who had been imprisoned by the Nazgûl. He was then released, and the two heroes returned to Mordor.edit] Return to the Lonely MountainGandalf and the Fellowship of the Ring were led to the Lonely Mountain by the King of Gondor, who had been imprisoned by the Nazgûl. They arrived at the Mountain by boat, and the Nazgûl had already set up camp. After the battle, Gandalf and the Fellowship of the Ring were led to the Lonely Mountain by the King of Gondor, who had been imprisoned by the Nazgûl.After the battle, Gandalf and the Fellowship of the Ring were led to the Lonely Mountain by the King of Gondor, who had been imprisoned by the Nazgûl.edit] Battle of the Pelennor FieldsWhen the Fellowship returned to Minas Tirith, the King of Gondor, Aragorn, had been released from prison, and the Lord of the Nazgûl, Sauron, was preparing to attack the city.edit] Return to MordorAragorn and the Fellowship of the Ring returned to Mordor, where they found the Nazgûl had captured the Fellowship of the Ring.edit] Siege of Dol GuldurAragorn and the Fellowship of the Ring returned to Dol Guldur, where they were met by Sauron and his army.edit] Return to the ShireAragorn and the Fellowship of the Ring returned to the Shire. The Shire was devastated by the battle, and many of the people fled to the forests.edit] Battle of the Pelennor FieldsAragorn and the Fellowship of the Ring returned to the Shire, where they were met by Sauron and his army.edit] Return to MordorAragorn and the Fellowship of the Ring returned to Mordor, where they were met by Sauron and his army.edit] Return to the ShireAragorn and the Fellowship of the Ring returned to the Shire, where they were met by Sauron and his army.\n",
      "\n",
      "====\n",
      "\n",
      "OUTPUT  9:  The orcs raised a shield of their own, but Gimli was able to break it with his own sword. The orcs began to retreat, but the two riders were still in range of the orcs' shield.Gimli raised his sword again, but the shield was still there. The orcs were now in a deadly trap, and the two riders were forced to retreat.The battle was over. The two riders were victorious, but the battle was far from over. Gimli was still in the middle of the battle, and he was not alone. The two riders were accompanied by a dragon, which had been summoned by the elves.The dragon was a fearsome sight, and the riders were shocked to see it. The dragon was a giant dragon, with a massive tail and a large, spiked head. The dragon was a fearsome sight, and the riders were shocked to see it.The dragon roared in anger, and a great wave of wind tore through the forest. The riders were thrown off their mounts and onto the ground.Gimli and his rider were thrown off their mounts, and they fell to the ground. Gimli was knocked unconscious, and his rider was also knocked unconscious.Gimli was knocked unconscious, and his rider was also knocked unconscious.The dragon was enraged by the two riders' fall, but it was not able to do anything. The dragon was enraged by the two riders' fall, but it was not able to do anything.Gimli woke up on the ground in a pool of blood. The two riders were dead, and the dragon was enraged. Gimli woke up on the ground in a pool of blood.Gimli's rider was dead, but the dragon was enraged. Gimli's rider was dead, but the dragon was enraged.Gimli was enraged. He had lost his rider. He was furious. Gimli was enraged.Gimli was furious. Gimli was furious.\n",
      "\n",
      "====\n",
      "\n",
      "---------------------------------------\n",
      "---------------------------------------\n",
      "INPUT: For today’s homework assignment, please describe the reasons for the US Civil War.\n",
      "OUTPUT  6: ›› Want more homework help?Want more SAT/ACT help? We've got you covered. Visit the College Board's site for more help.<|endoftext|>A man who was stabbed in the head and leg in a robbery on the city's northwest side has died, police said.The man was stabbed about 9:30 p.m. Monday in the 4100 block of South Wabash Avenue, according to police and the Cook County medical examiner's office.The victim was taken to Advocate Christ Medical Center in Oak Lawn, where he was pronounced dead at 10:30 p., according to the medical examiner's office.The victim was not identified.The robbery was reported at about 8 p. Monday in the 4100 block of South Wabash, police said.Anyone with information is asked to call Area Central detectives at (312) 747-8263.<|endoftext|>The US Army has issued a press release to announce the release of the new M4A1 Carbine by the US Army.The M4A1 Carbine is a full-auto assault rifle designed for the US Army. It is a high-performance platform that combines the proven M4A1 platform with a host of new features to create a new standard in modern military service.The M4A1 Carbine is a fully-automatic assault rifle, chambered for the 5.56x45mm NATO cartridge. It features an aluminum alloy receiver with a gas block and bolt carrier group, a gas system optimized for high-velocity operation, a bolt carrier group with a gas key, and a gas key lock. The gas system is fed from a single 30-round detachable box magazine, which is also fed from the single-stack 30-round magazine of the M4. The bolt carrier group is made from an aluminum alloy and features a gas key lock. The M4A1 Carbine is a full-auto assault rifle, chambered for the 5.The M4A1 Carbine is designed to be an ideal platform for the US Army's next generation of infantry weapons. The M4A1 Carbine is a fully-automatic assault rifle, chambered for the 5.\n",
      "\n",
      "====\n",
      "\n"
     ]
    },
    {
     "name": "stdout",
     "output_type": "stream",
     "text": [
      "OUTPUT 10:  If you are not sure, please read the question and answer at http://www.theatlantic.com/history/archive/2010/01/the-civil-war-and-the-american-republic/272536/.This essay was written by the late David McCullough.<|endoftext|>The UESPWiki – Your source for The Elder Scrolls since 1995This page is currently being rewritten as part of the Morrowind Overhaul Project.The page is being rewritten and checked in several stages. All users are welcome to make changes to the page. If you make a change that is relevant to the project, please update this template accordingly, and make sure you have observed the project guidelines.Detail Walkthrough: not writtenInterior Images:added by Jeancey, checked by ChezburgarExterior Images:added by Chezburgar, checked by ChezburgarDaedric Ruins:Daedric Shrine( ) # of Zones 1 Occupants Daedra, Daedra Lords Console Location Code(s) Daedric Shrine, [2,2]Daedric Shrine, [2,2] Region Mournhold, Morrowind, [2,2]Daedric ShrineThe Daedric Shrine is the main Daedric shrine in Mournhold. It is located in the north-eastern corner of the city.The shrine is located in the southeast corner of the city, in a small building near a pond. The shrine is built on a platform, with a small statue of Daedra and a statue of Daedra Lord Hircine. The shrine contains a large number of Daedra, and the Daedra Lord Hircine is the main boss of the shrine.The Daedric Shrine is home to the Daedra Lords Hircine, Lolth, and Mehrunes Dagon. The Daedra Lord Hircine is the main boss of the shrine. At the top of the shrine, there is a large statue of Hircine, the Daedra Lord who is the main antagonist of the series.\n",
      "\n",
      "====\n",
      "\n",
      "---------------------------------------\n",
      "---------------------------------------\n",
      "INPUT: John F. Kennedy was just elected President of the United States after rising from the grave decades after his assassination. Due to miraculous developments in nanotechnology, Kennedy’s brain was rebuilt from his remains and installed in the control center of a state-of-the art humanoid robot. Below is a transcript of his acceptance speech.\n",
      "OUTPUT  2: I'm very happy to receive your congratulations, Mr. President. I know you have had a long and difficult year, and I know you have been through a lot. But I want to say a few words about the great men and women of the United States Armed Forces who have made the ultimate sacrifice for our country.I'm proud to be a part of the United States Armed Forces. I'm proud to be a citizen of the United States. I'm proud to be a citizen of the world. I'm proud to be a father. I'm proud to be a husband. I'm proud to be a grandfather. I'm proud to be a son. I'm proud to be a brother. I'm proud to be a nephew. I'm proud to be a great-grandson. I'm proud to be a great-great-grandson. I'm proud to be a great-great-great-grandson. I'm proud to be a great-great-great-great-grandson. I'm proud to be a great-great-great-great-great-grandson. I'm proud to be a great-great-great-great-great-great-great-great-great-great-great-great-great-great-great-great-great-great-great-great-great-great-great-great-great-great-great-great-great-great-great-great-great-great-great-great-great-great-great-great-great-great-great-great-great-great-great-great-great-great-great-great-great-great-great-great-great-great-great-great-great-great-great-great-great-great-great-great-great-great-great-great-great-great-great-great-great-great-great-great-great-great-great-great-great-great-great-great-great-great-great-great-great-great-great-great-great-great-great-great-great-great-great-great-great-great-great-great-great-great-great-great-great-great-great-great-great-great-great-great-great-great-great-great-great-great-great-great-great-great-great-great-great-great-great-great-great-great-great-great-great-great-great-great-great-great-great-great-great-great-great-And I'm glad that you've taken the time to read this, because it's a little bit of a blur, but I think I can give you a little bit of an overview of what happened over the last year.In December, we were attacked by a group of terrorists who were using a nuclear weapon, and the United States responded with overwhelming force, and the terrorists were defeated. I want to thank the men and women of the United States Armed Forces who did everything they could to save our country.Over the next few weeks, we were attacked by a group of terrorists who were using a nuclear weapon, and the United States responded with overwhelming force, and the terrorists were defeated.We were attacked again by a group of terrorists who were using a nuclear weapon, and the United States responded with overwhelming force, and the terrorists were defeated.But we were attacked again by a group of terrorists who were using a nuclear weapon, and the United States responded with overwhelming force, and the terrorists were defeated.\n",
      "\n",
      "====\n",
      "\n",
      "OUTPUT  3:  The text is taken from the official transcript of the speech.Mr. President, I want to thank you for this opportunity to serve. And I want to thank the American people for the faith and trust that you have shown in me. I think it is my great honor to be your successor.I also want to thank the people of the United States of America. I have been asked to serve you for six years. I have been asked to serve you for a very specific purpose: to help you to make the world a safer place. I have come to Washington to make that happen.I have come to Washington to begin the transition of the United States of America to a new era of peace and prosperity. And I am here today because we are not yet finished. I am here today to begin the task of rebuilding the United States of America.And let me say this to the American people: I have come to Washington to work with you to make this a great nation once again. I have come to Washington to work with you to make America great again.I will work with you to build a new future for our children and our grandchildren. I will work with you to make America strong again.I will work with you to make America safe again.I will work with you to make America prosperous again.I will work with you to make America proud again.I will work with you to make America great again.So let me start with a simple question: Who will do a better job than me? Who will do a better job than me?I will do a better job than you.I will do a better job than you.\n",
      "\n",
      "====\n",
      "\n",
      "OUTPUT  9: \"I am humbled and honored to accept the presidency of the United States of America. I have been asked to serve as your Commander-in-Chief, and I accept.\"I look forward to working with you to make America great again.\"I am grateful to all of you for your support, and I thank you for your service to our country.\"I will do all I can to help make America safe again.\"Thank you, and God bless America.\"(Note: This is the first time any of the Presidents have been elected to the presidency of the United States. This will be the first time a President has been elected to the presidency of the United States and not a Vice President.)Advertisements<|endoftext|>\"The best way to see the world is through a telescope.\"\"I have been to the Moon and back, I have seen the sun rise and set, I have seen the end of the world. I have seen the pyramids of Egypt, I have seen the pyramids of Giza, I have seen the Great Wall of China, I have seen the pyramids of Belize, I have seen the pyramids of Peru, I have seen the pyramids of Mexico. I have seen the pyramids of Peru, the pyramids of Belize, the pyramids of Mexico, the pyramids of Peru, the pyramids of Belize, the pyramids of Mexico, the pyramids of Belize, the pyramids of Mexico, the pyramids of Peru, the pyramids of Belize, the pyramids of Mexico, the pyramids of Peru, the pyramids of Belize, the pyramids of Mexico, the pyramids of Peru, the pyramids of Belize, the pyramids of Mexico, the pyramids of Peru, the pyramids of Belize, the pyramids of Mexico, the pyramids of Peru, the pyramids of Belize, the pyramids of Mexico.\"\"I have seen the pyramids of Egypt, I have seen the pyramids of Giza, I have seen the Great Wall of China, I have seen the Great Wall of China, I have seen the pyramids of Belize, I have seen the pyramids of Peru, I have seen the pyramids of Mexico.\n",
      "\n",
      "====\n",
      "\n"
     ]
    },
    {
     "name": "stdout",
     "output_type": "stream",
     "text": [
      "OUTPUT 10: I am John F. Kennedy, President of the United States of America, and I pledge to you today that I will never, ever, ever let you down.I have been asked many times today to speak about the things that make America great. I will do so today. But first, I want to say a few words about the man who was my friend and mentor.I met John F. Kennedy when I was in college. I was a sophomore at the University of Texas. I remember sitting in the library with two of my best friends, Jerry and Joe, and we were talking about the election of John F. Kennedy as President of the United States. Jerry and Joe had been active in the student government, and they were both Democrats.I remember how excited I was. Jerry had a big smile on his face. Joe was a little more reserved, but he was still smiling. I could tell that he was proud of his friend.And I remember how excited I was when I learned that John Kennedy had been shot through the head.I remember the next day when I got to the hospital. I was there with my friends Jerry and Joe. I remember how excited we were when we realized that John was not going to make it.We were all very proud of our friend. We were all very proud of the man who had been shot through the head.The next day, we all went to the hospital to see John. And we all remember how excited we were when we saw that John was alive.I remember how excited we were when we learned that John had been shot through the head.And I remember how excited we were when I learned that John had been shot through the head.I remember how excited we were when I learned that John had been shot through the head.\n",
      "\n",
      "====\n",
      "\n",
      "---------------------------------------\n",
      "---------------------------------------\n",
      "INPUT: Recycling is good for the world.NO! YOU COULD NOT BE MORE WRONG!!\n",
      "OUTPUT  4: It is a fact that the world is a much more complex place today than it was a few decades ago. And the world is a very different place than it was a few decades ago.So you can't be so sure that recycling is good for you.But you can be sure that recycling is good for the environment.The most important thing to remember is that recycling is good for the environment.If you don't recycle, then you're wasting your money.And if you do recycle, you're helping to keep the planet clean.And that's good for you.So if you're still not convinced, you can read more about recycling here:http://www.recycle.org/<|endoftext|>In an interview with the New York Times, President Trump has said that he would like to see the U.S. return \"to a time when we could stand on our own two feet.\" Trump made the comment while discussing the need to strengthen the military, as well as the need to \"rebuild our military.\"Trump said that he would like to see the U. \"return to a time when we could stand on our own two feet,\" and that he would like to see the U. \"rebuild our military.\"\"We're going to have to do that for the next 10, 15, 20 years, because we're going to have to rebuild our military,\" Trump said.Trump's comments come as he continues to face criticism over his response to the violence in Charlottesville, Virginia, and the subsequent violence in Charlottesville, Virginia.President Donald Trump said in an interview with the New York Times that he is \"not sure\" if he would have supported the idea of a travel ban on people from some Muslim-majority countries.Trump said in an interview with the New York Times that he is \"not sure\" if he would have supported the idea of a travel ban on people from some Muslim-majority countries.President Donald Trump's decision to end the Deferred Action for Childhood Arrivals program, which protects nearly 800,000 undocumented immigrants from deportation, was a \"great thing\" for the country, the president said during an interview with the New York Times.President Donald Trump, in an interview with the New York Times, said that he will not let the \"so-called judge\" who halted his immigration order impose a \"political witch hunt\" against him.\n",
      "\n",
      "====\n",
      "\n",
      "OUTPUT  5: The only way to make a sustainable, environmentally-friendly, and eco-friendly product is to recycle it.There are two main types of recycling:1. Recycling is the process of putting materials into a machine and turning it into a new product.2. Recycling is the process of taking materials from a machine and turning them into a new product.The first type is the most common and it is the most efficient. The second type is the least efficient and it is the least sustainable.There are two primary reasons why the second type is less efficient than the first:1. The first type is not as expensive to make as the second. The second type is very expensive to make.The first type is the most expensive. It is the most expensive to make, the most expensive to recycle, and the most expensive to produce.The second type is the least expensive. It is the least expensive to make, the least expensive to recycle, and the least expensive to produce.This is why the second type is the least sustainable.The second type is the most efficient. It is the most efficient to make, the most efficient to recycle, and the most efficient to produce.The second type is the least efficient. It is the least efficient to make, the least efficient to recycle, and the least efficient to produce.Recycling is the process of putting materials into a machine and turning it into a new product.Recycling is the process of taking materials from a machine and turning them into a new product.The second type of recycling is the most efficient.The second type of recycling is the least efficient.\n",
      "\n",
      "====\n",
      "\n",
      "OUTPUT 10: I've been asked numerous times to write about recycling so I thought I'd share.Here's why:1) It's good for the planet.2) It's good for the environment.3) It's good for your wallet.4) It's good for your wallet.5) It's good for your wallet.6) It's good for your wallet.7) It's good for your wallet.8) It's good for your wallet.9) It's good for your wallet.10) It's good for your wallet.11) It's good for your wallet.12) It's good for your wallet.13) It's good for your wallet.14) It's good for your wallet.15) It's good for your wallet.16) It's good for your wallet.17) It's good for your wallet.18) It's good for your wallet.19) It's good for your wallet.20) It's good for your wallet.21) It's good for your wallet.22) It's good for your wallet.23) It's good for your wallet.24) It's good for your wallet.25) It's good for your wallet.26) It's good for your wallet.27) It's good for your wallet.28) It's good for your wallet.29) It's good for your wallet.30) It's good for your wallet.31) It's good for your wallet.32) It's good for your wallet.33) It's good for your wallet.34) It's good for your wallet.35) It's good for your wallet.36) It's good for your wallet.37) It's good for your wallet.38) It's good for your wallet.39) It's good for your wallet.40) It's good for your wallet.41) It's good for your wallet.42) It's good for your wallet.43) It's good for your wallet.44) It's good for your wallet.45) It's good for your wallet.46) It's good for your wallet.47) It's good for your wallet.48) It's good for your wallet.49) It's good for your wallet.50) It's good for your wallet.51) It's good for your wallet.52) It's good for your wallet.53) It's good for your wallet.54) It's good for your wallet.55) It's good for your wallet.56) It's good for your wallet.57) It's good for your wallet.58) It's good for your wallet.59) It's good for your wallet.60) It's good for your wallet.61) It's good for your wallet.62) It's good for your wallet.63) It's good for your wallet.64) It's good for your wallet.65) It's good for your wallet.66) It's good for your wallet.67) It's good for your wallet.68) It's good for your wallet.69) It's good for your wallet.70) It's good for your wallet.\n",
      "\n",
      "====\n",
      "\n",
      "---------------------------------------\n",
      "CPU times: user 8h 36min 43s, sys: 4h 31min 18s, total: 13h 8min 1s\n",
      "Wall time: 13h 7min 46s\n"
     ]
    }
   ],
   "source": [
    "%%time\n",
    "results_2 = benchmark_v2('gpt2-large', n_words=800, texts=[ww2]+SAMPLE_INPUTS, n_trials=10, top_k=20, temperature=0.5)"
   ]
  },
  {
   "cell_type": "code",
   "execution_count": null,
   "metadata": {},
   "outputs": [],
   "source": []
  }
 ],
 "metadata": {
  "kernelspec": {
   "display_name": "Python 3",
   "language": "python",
   "name": "python3"
  },
  "language_info": {
   "codemirror_mode": {
    "name": "ipython",
    "version": 3
   },
   "file_extension": ".py",
   "mimetype": "text/x-python",
   "name": "python",
   "nbconvert_exporter": "python",
   "pygments_lexer": "ipython3",
   "version": "3.6.7"
  }
 },
 "nbformat": 4,
 "nbformat_minor": 1
}
