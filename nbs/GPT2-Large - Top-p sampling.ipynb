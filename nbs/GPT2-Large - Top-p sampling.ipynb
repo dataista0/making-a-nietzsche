{
 "cells": [
  {
   "cell_type": "markdown",
   "metadata": {},
   "source": [
    "# GPT2-Large - `Top-p sampling`\n",
    "\n",
    "\n",
    "## This Notebook\n",
    "\n",
    "Previous experiments:\n",
    "\n",
    "* First experiment, greedy search. *Out-of-the-box zero-shot experiment* obtaining not that impressing results in [this](https://www.kaggle.com/julian3833/gpt2-large-774m-w-pytorch-not-that-impressive/) notebook (also [here](https://github.com/dataista0/making-a-nietzsche/blob/master/nbs/GPT2-Large%20-774M-%20with%20Pytorch%20-%20Not%20that%20impressive.ipynb) in github). \n",
    "* Second experiment"
   ]
  },
  {
   "cell_type": "code",
   "execution_count": 12,
   "metadata": {},
   "outputs": [],
   "source": [
    "import sys\n",
    "import logging\n",
    "import torch\n",
    "import numpy as np\n",
    "from transformers import GPT2Tokenizer, GPT2LMHeadModel\n",
    "logging.getLogger().setLevel(logging.CRITICAL) # Disable an annoying warning for now\n",
    "import torch.nn.functional as F\n",
    "\n",
    "SAMPLE_INPUTS = [\n",
    "    \"In a shocking finding, scientist discovered a herd of unicorns living in a remote, previously unexplored valley, in the Andes Mountains. Even more surprising to the researchers was the fact that the unicorns spoke perfect English.\",\n",
    "    \"A train carriage containing controlled nuclear materials was stolen in Cincinnati today. Its whereabouts are unknown.\",\n",
    "    \"Miley Cyrus was caught shoplifting from Abercrombie and Fitch on Hollywood Boulevard today.\",\n",
    "    \"We’ve trained a large language model called GPT-2 that generates realistic paragraphs of text, while also exhibiting zero shot generalization on tasks like machine translation, question answering, reading comprehension, and summarization - problems usually approached by using training datasets and models designed explicitly for these tasks.\",\n",
    "    \"Legolas and Gimli advanced on the orcs, raising their weapons with a harrowing war cry.\",\n",
    "    \"For today’s homework assignment, please describe the reasons for the US Civil War.\",\n",
    "    \"John F. Kennedy was just elected President of the United States after rising from the grave decades after his assassination. Due to miraculous developments in nanotechnology, Kennedy’s brain was rebuilt from his remains and installed in the control center of a state-of-the art humanoid robot. Below is a transcript of his acceptance speech.\",\n",
    "    \"Recycling is good for the world.\\n\\nNO! YOU COULD NOT BE MORE WRONG!!\"\n",
    "    ]\n",
    "\n",
    "def fix_randomness(seed=123):\n",
    "    np.random.seed(seed)\n",
    "    torch.random.manual_seed(seed)\n",
    "    torch.cuda.manual_seed(seed)\n",
    "    \n",
    "def get_tokenizer_and_model(model_id):\n",
    "    assert model_id in ['gpt2', 'gpt2-medium', 'gpt2-large']\n",
    "    tokenizer = GPT2Tokenizer.from_pretrained(model_id)\n",
    "    model = GPT2LMHeadModel.from_pretrained(model_id).eval().to('cuda')\n",
    "    return tokenizer, model\n",
    "\n",
    "def stoi(tokenizer, text):\n",
    "    indexed_tokens = tokenizer.encode(text)\n",
    "    tokens = torch.tensor([indexed_tokens]).to('cuda')\n",
    "    return tokens\n",
    "\n",
    "def top_p_logits(logits, top_p=0.0):\n",
    "    \"\"\" Filter a distribution of logits using top-p filtering\n",
    "    \n",
    "    Taken from: https://github.com/huggingface/transformers/blob/master/examples/run_generation.py\n",
    "    Nucleus filtering is described in Holtzman et al. (http://arxiv.org/abs/1904.09751)\n",
    "    \"\"\"\n",
    "    sorted_logits, sorted_indices = torch.sort(logits, descending=True)\n",
    "    cumulative_probs = torch.cumsum(F.softmax(sorted_logits, dim=-1), dim=-1)\n",
    "    sorted_indices_to_remove = cumulative_probs > top_p\n",
    "    sorted_indices_to_remove[..., 1:] = sorted_indices_to_remove[..., :-1].clone()\n",
    "    sorted_indices_to_remove[..., 0] = 0\n",
    "\n",
    "    indices_to_remove = sorted_indices[sorted_indices_to_remove]\n",
    "    logits[indices_to_remove] = -float('Inf')\n",
    "    return logits\n",
    "\n",
    "def add_n_tokens(model, tokens, n_tokens, temperature=1.0, top_p=0.0):\n",
    "    generated = []\n",
    "    with torch.no_grad():\n",
    "        for i in range(n_tokens):\n",
    "            res = model(tokens)\n",
    "            logits = res[0]\n",
    "            logits = logits[0, -1, :] / temperature\n",
    "            logits =  top_p_logits(logits, top_p)\n",
    "            log_probs = F.softmax(logits, dim=-1)\n",
    "            new = torch.multinomial(log_probs, num_samples=1)\n",
    "            tokens = torch.cat((tokens, new.unsqueeze(0)), dim=1)\n",
    "            generated.append(new.unsqueeze(0)[0][0].item())\n",
    "    return tokens, generated\n",
    "\n",
    "def remove_repetitions(text):\n",
    "    first_ocurrences = []\n",
    "    for sentence in text.split(\".\"):\n",
    "        if sentence not in first_ocurrences:\n",
    "            first_ocurrences.append(sentence)\n",
    "    return '.'.join(first_ocurrences)\n",
    "\n",
    "def trim_last_sentence(text):\n",
    "    return text[:text.rfind(\".\")+1]\n",
    "\n",
    "def postprocess(text):\n",
    "    return trim_last_sentence(remove_repetitions(text))\n",
    "\n",
    "def benchmark(model_id, n_words, n_trials=10, top_p=0.0, temperature=0.1, texts=SAMPLE_INPUTS):\n",
    "    print(f\"{model_id} with n_words={n_words}\\n=========================\")\n",
    "    \n",
    "    tokenizer, model = get_tokenizer_and_model(model_id)\n",
    "    results = {}\n",
    "    \n",
    "    for text in texts:\n",
    "        results[text] = []\n",
    "        print(\"---------------------------------------\")\n",
    "        print(\"INPUT: {}\".format(text.replace('\\n', '')))\n",
    "        print()\n",
    "        \n",
    "        for trial in range(n_trials):\n",
    "            tokens = stoi(tokenizer, text)\n",
    "            tokens, generated = add_n_tokens(model, tokens, n_words, temperature=temperature, top_p=top_p)\n",
    "            generated_text = postprocess(tokenizer.decode(generated))\n",
    "            n_gen_words = len(generated_text.split(\" \"))\n",
    "            results[text].append(generated_text)\n",
    "            if n_gen_words > 0.33*n_words:\n",
    "                print(\"OUTPUT {:2d}: {}\".format(trial+1, generated_text.replace('\\n', '')))\n",
    "                print(\"\\n====\\n\")\n",
    "        print(\"---------------------------------------\")\n",
    "    return results"
   ]
  },
  {
   "cell_type": "code",
   "execution_count": 13,
   "metadata": {},
   "outputs": [],
   "source": [
    "fix_randomness()"
   ]
  },
  {
   "cell_type": "markdown",
   "metadata": {},
   "source": [
    "# GPT-2 large on the first paragraph of the wikipedia article for World War II.\n",
    "\n",
    "In this block we ran GPT-2 large feeding it with the first paragraph of the wikipedia article for World War II.\n",
    "We are generating 500 words and making 10 trials.\n",
    "\n",
    "\n",
    "### Results: the 3 post-filtered generated texts are clearly distinguishable of human-generated text\n",
    "\n",
    "\n"
   ]
  },
  {
   "cell_type": "code",
   "execution_count": 15,
   "metadata": {
    "scrolled": false
   },
   "outputs": [
    {
     "name": "stdout",
     "output_type": "stream",
     "text": [
      "gpt2-large with n_words=500\n",
      "=========================\n",
      "---------------------------------------\n",
      "INPUT: World War II (often abbreviated to WWII or WW2), also known as the Second World War, was a global war that lasted from 1939 to 1945. The vast majority of the world's countries—including all the great powers—eventually formed two opposing military alliances: the Allies and the Axis. A state of total war emerged, directly involving more than 100 million people from over 30 countries. The major participants threw their entire economic, industrial, and scientific capabilities behind the war effort, blurring the distinction between civilian and military resources. World War II was the deadliest conflict in human history, marked by 70 to 85 million fatalities, most of whom were civilians in the Soviet Union and China. It included massacres, the genocide of the Holocaust, strategic bombing, premeditated death from starvation and disease, and the only use of nuclear weapons in war.[1][2][3][4]\n",
      "\n",
      "OUTPUT  1: The war was fought between the Allied and Axis powers, with the Axis powers being the United States, the Soviet Union, and Nazi Germany. The war was fought on two fronts: the Western Front, which was the Western Hemisphere, and the Eastern Front, which was the Eastern Hemisphere. The Western Front was the front in which the Allied forces fought against the German army, while the Eastern Front was the front in which the Axis forces fought against the Allied forces. The war was also fought in the air, with the Allies using bombers and fighter planes to attack the German air force. The Allies also used submarines and mines to attack the German naval forces. The Allied forces were supported by the Soviet Union, which was supported by the Nazi Germany.The war was the result of the Allied victory in World War I, which had been won by the Allies in 1918. The Allies had been defeated in World War I by the German army, which had been defeated in World War I by the Soviet army. The Allied victory in World War I had led to the formation of the United Nations, which was formed by the victorious Allied powers in 1919. The United Nations was the first international organization to be created. The United Nations was created to provide a forum for international cooperation and peace.The war was the first major conflict of the Cold War, which was fought between the United States and the Soviet Union. The Cold War was a period of conflict between the United States and the Soviet Union, which began in the 1950s.The war was also the first major conflict of the post-World War II era.\n",
      "\n",
      "====\n",
      "\n",
      "OUTPUT  2: The war was fought in Europe, Asia, and Africa. The Allies and Axis forces fought for control of the entire continent, and the conflict ended in 1945 when the United Nations Security Council declared the war over. The war was the first major conflict to involve nuclear weapons, and the first to involve a major military power.The war was a major turning point in world history. The war was the first major conflict to involve the use of chemical weapons. The war was the first major conflict to involve the use of biological weapons. The war was the first major conflict to involve the use of nuclear weapons.Contents show]Background EditThe war began in 1939 when Germany invaded Poland, and the Soviet Union invaded the Baltic States. The Soviet Union invaded the Baltic States in 1941, and the United States invaded the Soviet Union in 1941. The United States and the Soviet Union fought a war that lasted from 1939 to 1945. The war was fought in Europe, Asia, and Africa.\n",
      "\n",
      "====\n",
      "\n",
      "OUTPUT  3: The war was a major turning point in world history, as it marked the beginning of the Cold War, the first time that the United States and the Soviet Union had fought a war. The war also marked the beginning of the end of the European continent as a unified continent. The war also marked the beginning of the end of the United States as a superpower. The United States was forced to relinquish its global hegemony, and the Soviet Union was forced to give up its global hegemony. The war also marked the beginning of the end of the United States as a world power.The war was fought in Europe, Asia, and the Middle East, and the United States and the Soviet Union were the main combatants. The United States and the Soviet Union fought a war of attrition, with the United States using airpower and the Soviet Union using nuclear weapons. The United States and the Soviet Union were both heavily involved in the war, with the United States having more than 2 million soldiers and the Soviet Union having more than 3 million.\n",
      "\n",
      "====\n",
      "\n",
      "OUTPUT  4: The war was fought on a scale unprecedented in human history. The United States, Britain, and France were the only three nations that were able to fight a war on their own, while the Soviet Union and China were forced to rely on the Allied Powers for their defense. The United States was the only nation to win the war, and the United States was the only nation to win the war without the use of nuclear weapons. The United States was also the only nation to win the war without having to commit the largest military force in history.The war was the first major conflict in which the United States and the Soviet Union were allies. The United States and the Soviet Union had been allies since the end of World War I. In the early years of the war, the Soviet Union was allied with Germany and France. The Soviet Union was also allied with Japan. The Soviet Union and the United States were allies until the end of World War II, when the Soviet Union was forced to ally with the United States.The war was fought on the Eastern Front, the Soviet Union's front line in Europe. The Soviet Union was the only major power to defeat the Allies. The United States was the only major power to defeat the Axis powers. The United States was also the only major power to defeat the Axis powers without the use of nuclear weapons. The United States, Britain, and France were the only three nations to win the war on their own. The United States was the only major power to win the war without the use of nuclear weapons. The United States was also the only major power to defeat the Axis powers without having to commit the largest military force in history.\n",
      "\n",
      "====\n",
      "\n",
      "OUTPUT  5: The war was fought on three fronts: the Eastern Front (the Soviet Union and China), the Western Front (the United States and Great Britain), and the Mediterranean Sea (the United States and Italy). The Soviet Union and China were the main combatants, while the United States and Great Britain were involved in the Mediterranean. The war was the first major conflict of the Cold War, and the first major conflict in which the United States and Great Britain were not allies. The war was also the first major conflict to involve the use of nuclear weapons.The war was fought in Europe and Asia, and in the Pacific.The war was the largest and bloodiest conflict in human history. The Soviet Union and China were the main combatants, while the United States and Great Britain were involved in the Mediterranean Sea.Contents show]BackgroundThe Second World War was the result of a series of events that began in 1939 and ended in 1945. The war was started by the German invasion of the Soviet Union in September 1939. The Soviet Union responded by invading the German-occupied countries of Poland, Czechoslovakia, and Hungary in October 1939. The Soviet Union and Germany then went to war in the spring of 1940, and the war lasted until the end of May 1941.The war was fought in Europe, Asia, and the Pacific. The war was fought in three theaters: the Eastern Front (the Soviet Union and China), the Western Front (the United States and Great Britain), and the Mediterranean Sea (the United States and Italy).\n",
      "\n",
      "====\n",
      "\n",
      "---------------------------------------\n",
      "CPU times: user 16min 7s, sys: 7min 50s, total: 23min 57s\n",
      "Wall time: 24min 28s\n"
     ]
    }
   ],
   "source": [
    "%%time \n",
    "ww2 = \"\"\"World War II (often abbreviated to WWII or WW2), also known as the Second World War, was a global war that lasted from 1939 to 1945. The vast majority of the world's countries—including all the great powers—eventually formed two opposing military alliances: the Allies and the Axis. A state of total war emerged, directly involving more than 100 million people from over 30 countries. The major participants threw their entire economic, industrial, and scientific capabilities behind the war effort, blurring the distinction between civilian and military resources. World War II was the deadliest conflict in human history, marked by 70 to 85 million fatalities, most of whom were civilians in the Soviet Union and China. It included massacres, the genocide of the Holocaust, strategic bombing, premeditated death from starvation and disease, and the only use of nuclear weapons in war.[1][2][3][4]\"\"\"\n",
    "results_ww2 = benchmark('gpt2-large', n_words=500, texts=[ww2], n_trials=5, top_p=0.8, temperature=0.5)"
   ]
  },
  {
   "cell_type": "code",
   "execution_count": 20,
   "metadata": {},
   "outputs": [
    {
     "name": "stdout",
     "output_type": "stream",
     "text": [
      "gpt2-large with n_words=500\n",
      "=========================\n",
      "---------------------------------------\n",
      "INPUT: World War II (often abbreviated to WWII or WW2), also known as the Second World War, was a global war that lasted from 1939 to 1945. The vast majority of the world's countries—including all the great powers—eventually formed two opposing military alliances: the Allies and the Axis. A state of total war emerged, directly involving more than 100 million people from over 30 countries. The major participants threw their entire economic, industrial, and scientific capabilities behind the war effort, blurring the distinction between civilian and military resources. World War II was the deadliest conflict in human history, marked by 70 to 85 million fatalities, most of whom were civilians in the Soviet Union and China. It included massacres, the genocide of the Holocaust, strategic bombing, premeditated death from starvation and disease, and the only use of nuclear weapons in war.[1][2][3][4]\n",
      "\n",
      "OUTPUT  1: The war was the largest and most destructive conflict in human history, and was the first time in history that the two sides had fought against each other. The war also marked the beginning of the Cold War, which was a conflict between the United States and the Soviet Union. The war also marked the end of the First World War, which was a conflict between the United Kingdom and Germany. The war also marked the beginning of the Second World War, which was a conflict between the United States and Japan. The war also marked the end of the First World War, which was a conflict between the United States and Germany.The war began when the Allies launched an invasion of Germany in September 1939, but the German High Command, which was led by Adolf Hitler, refused to surrender. The Allies then launched a massive, coordinated attack on the German army and navy, forcing the Germans to retreat.The war was fought on the Eastern Front, which included the Western Front, the Western Protectorate, the Western Rhineland, the Baltic States, and the Soviet Union. The Allies gained control of the Western Protectorate in November 1939, and the Western Rhineland in January 1940. The Germans were forced to retreat from the Eastern Front, and the Soviets occupied the Baltic States in May 1940.The war was fought primarily in Europe, with the Soviet Union, Japan, and the United States taking part. The United States, which had been the dominant military power in the world, was defeated in the war, and the United States was forced to withdraw from the war. The Soviet Union was defeated in the war, and the Soviet Union was forced to withdraw from the war.The war was fought in the Pacific Ocean, with the United States, Japan, and the Soviet Union participating.\n",
      "\n",
      "====\n",
      "\n",
      "OUTPUT  2: The war was fought in Europe, Asia, and Africa. The Allies were led by the United States, the Soviet Union, and Great Britain. The Axis were led by Nazi Germany, Japan, and Italy. The war was fought in the Pacific, with the United States, the Soviet Union, and Japan leading the Allied forces. The war ended with the surrender of Germany and Japan on May 8, 1945.The war was the first major conflict to be fought between two major powers, and the first major conflict to involve the use of nuclear weapons. It was the first conflict to be fought between two major powers, and the first major conflict to involve the use of nuclear weapons. The war was the first major conflict to involve the use of nuclear weapons, and the first major conflict to involve the use of atomic bombs. The war was fought in Europe, Asia, and Africa.Contents show]History EditThe war began in Europe, with the United States and the Soviet Union leading the Allied forces. The Soviet Union and Japan were allies of the United States and Great Britain, respectively. Germany was allied with the United States and Great Britain. The war began with the Soviet Union and Japan leading the Allied forces.\n",
      "\n",
      "====\n",
      "\n",
      "OUTPUT  3: The war was fought by the Allies and the Axis powers, which fought each other in a series of battles and battleships. The Allied forces defeated the Axis forces in the Battle of Britain in June, 1940, and the Allies won the war in Europe, Africa, and Asia. The Axis forces were defeated in the Battle of the Bulge in April, 1945, and the Axis forces were defeated in the Battle of the Bulge in April, 1945.The war was a major turning point in world history, marking the end of the Age of the Roman Empire. The Allied victory in the Battle of Britain marked the end of the Roman Empire, marking the end of the Roman Empire. The Axis victory in the Battle of the Bulge marked the end of the Nazi regime, marking the end of the Nazi regime.The war was the largest war in human history. The Allied and Axis forces killed more than 70 million people in the war, including more than 40 million civilians, more than 6 million of whom were civilians in the Soviet Union and China. The Allied and Axis forces killed more than 6 million of the Soviet and Chinese civilian population, more than 6 million of whom were civilians in the Soviet Union and China. The Allied and Axis forces killed more than 5 million of the Soviet and Chinese civilian population, more than 5 million of whom were civilians in the Soviet Union and China. The Allied and Axis forces killed more than 4 million of the Soviet and Chinese civilian population, more than 4 million of whom were civilians in the Soviet Union and China. The Allied and Axis forces killed more than 3 million of the Soviet and Chinese civilian population, more than 3 million of whom were civilians in the Soviet Union and China. The Allied and Axis forces killed more than 2 million of the Soviet and Chinese civilian population, more than 2 million of whom were civilians in the Soviet Union and China. The Allied and Axis forces killed more than 1 million of the Soviet and Chinese civilian population, more than 1 million of whom were civilians in the Soviet Union and China.\n",
      "\n",
      "====\n",
      "\n",
      "---------------------------------------\n",
      "CPU times: user 16min 5s, sys: 7min 52s, total: 23min 57s\n",
      "Wall time: 23min 56s\n"
     ]
    }
   ],
   "source": [
    "%%time\n",
    "results_ww2.update(benchmark('gpt2-large', n_words=500, texts=[ww2], n_trials=5, top_p=0.9, temperature=0.5))"
   ]
  },
  {
   "cell_type": "code",
   "execution_count": 21,
   "metadata": {},
   "outputs": [
    {
     "name": "stdout",
     "output_type": "stream",
     "text": [
      "gpt2-large with n_words=500\n",
      "=========================\n",
      "---------------------------------------\n",
      "INPUT: World War II (often abbreviated to WWII or WW2), also known as the Second World War, was a global war that lasted from 1939 to 1945. The vast majority of the world's countries—including all the great powers—eventually formed two opposing military alliances: the Allies and the Axis. A state of total war emerged, directly involving more than 100 million people from over 30 countries. The major participants threw their entire economic, industrial, and scientific capabilities behind the war effort, blurring the distinction between civilian and military resources. World War II was the deadliest conflict in human history, marked by 70 to 85 million fatalities, most of whom were civilians in the Soviet Union and China. It included massacres, the genocide of the Holocaust, strategic bombing, premeditated death from starvation and disease, and the only use of nuclear weapons in war.[1][2][3][4]\n",
      "\n",
      "OUTPUT  3: The war was fought in Europe, Asia, and the Pacific, with the United States and the Soviet Union being the two main combatants. The war was also fought in Africa, the Middle East, and the Caribbean. The war was the first major conflict to be fought on land, with the United States and the Soviet Union having the largest armies in the world. The war was also the first major conflict to be fought in space, with the United States and the Soviet Union having the largest fleets in the world. The war was also the first major conflict to be fought in the air, with the United States and the Soviet Union having the largest air forces in the world. The war was also the first major conflict to be fought in space, with the United States and the Soviet Union having the largest space forces in the world.The war was fought on two fronts: the Western Front, which was fought in Europe, and the Eastern Front, which was fought in Asia. The Western Front was the first major conflict to be fought on land, with the United States and the Soviet Union having the largest armies in the world. The Eastern Front was the first major conflict to be fought in space, with the United States and the Soviet Union having the largest fleets in the world. The war was also the first major conflict to be fought in the sea, with the United States and the Soviet Union having the largest navies in the world.\n",
      "\n",
      "====\n",
      "\n",
      "---------------------------------------\n",
      "CPU times: user 16min 3s, sys: 7min 53s, total: 23min 57s\n",
      "Wall time: 23min 56s\n"
     ]
    }
   ],
   "source": [
    "%%time\n",
    "results_ww2.update(benchmark('gpt2-large', n_words=500, texts=[ww2], n_trials=5, top_p=0.6, temperature=0.5))"
   ]
  },
  {
   "cell_type": "code",
   "execution_count": 22,
   "metadata": {},
   "outputs": [
    {
     "name": "stdout",
     "output_type": "stream",
     "text": [
      "gpt2-large with n_words=500\n",
      "=========================\n",
      "---------------------------------------\n",
      "INPUT: World War II (often abbreviated to WWII or WW2), also known as the Second World War, was a global war that lasted from 1939 to 1945. The vast majority of the world's countries—including all the great powers—eventually formed two opposing military alliances: the Allies and the Axis. A state of total war emerged, directly involving more than 100 million people from over 30 countries. The major participants threw their entire economic, industrial, and scientific capabilities behind the war effort, blurring the distinction between civilian and military resources. World War II was the deadliest conflict in human history, marked by 70 to 85 million fatalities, most of whom were civilians in the Soviet Union and China. It included massacres, the genocide of the Holocaust, strategic bombing, premeditated death from starvation and disease, and the only use of nuclear weapons in war.[1][2][3][4]\n",
      "\n",
      "---------------------------------------\n",
      "CPU times: user 16min 13s, sys: 7min 46s, total: 23min 59s\n",
      "Wall time: 23min 58s\n"
     ]
    }
   ],
   "source": [
    "%%time\n",
    "results_ww2.update(benchmark('gpt2-large', n_words=500, texts=[ww2], n_trials=5, top_p=0.9, temperature=0.1))"
   ]
  },
  {
   "cell_type": "code",
   "execution_count": 25,
   "metadata": {},
   "outputs": [
    {
     "name": "stdout",
     "output_type": "stream",
     "text": [
      "gpt2-large with n_words=500\n",
      "=========================\n",
      "---------------------------------------\n",
      "INPUT: World War II (often abbreviated to WWII or WW2), also known as the Second World War, was a global war that lasted from 1939 to 1945. The vast majority of the world's countries—including all the great powers—eventually formed two opposing military alliances: the Allies and the Axis. A state of total war emerged, directly involving more than 100 million people from over 30 countries. The major participants threw their entire economic, industrial, and scientific capabilities behind the war effort, blurring the distinction between civilian and military resources. World War II was the deadliest conflict in human history, marked by 70 to 85 million fatalities, most of whom were civilians in the Soviet Union and China. It included massacres, the genocide of the Holocaust, strategic bombing, premeditated death from starvation and disease, and the only use of nuclear weapons in war.[1][2][3][4]\n",
      "\n",
      "OUTPUT  1: The second world war that would become the modern world war was born in the Great Patriotic War, fought by Soviet troops in the east and the Axis forces in the west of Germany. Some major battles were won and lost on July 23rd, 1939, the birthday of Soviet leader Joseph Stalin; the Ottomans' Persian Gulf invasion took place on August 17th; two months later, on October 13th, a Bulgarian army assault on the Suez Canal resulted in a disastrous attempt to gain control of the canal. After the war, the Allies ruled most of Europe, leaving the Axis Powers in control of the eastern half of the continent, with Germany and Italy remaining in control of Central Europe and Italy.After the establishment of the Soviet Union, the war in Europe was declared over by the Soviet Union on November 11, 1945, as Germany capitulated to the USSR. In the west, the Soviet Union and Nazi Germany remained separated, with each just a few hundred miles from each other. British, French, and American air forces and Navy medallions and navy ships from the four countries fought for victory, securing the rise of the United Nations and establishing the League of Nations. In the Soviet Union itself, the biggest military victory was the defeat of Germany, though that of Italy also scored one critical defeat. Both Britain and France declared war on the Soviet Union in 1941, and both Western powers were formed in 1941. From then on, the Allied and Axis forces warred over every strategic region of the world, from China, Korea, and Central Asia to the Middle East and the Pacific Ocean, and even across the Atlantic Ocean.The first decade of the 1950s was the cold war in action. The Cold War was a decades-long war between the United States and the Soviet Union, which was waged against each other through both covert and overt operations. The Cold War was generally fought between the United States and the Soviet Union, but also included the battles of the Gulf War, the First Gulf War, the Gashat War (1971-1974), and the Vietnam War. Although the conflict was over in 1989, hostilities were not officially ended until 1990.A cold war wasn't just limited to military activity, though. The Cold War affected everything from the media landscape of each country to how much well-known groups were named in each country.The Cold War also affected people.\n",
      "\n",
      "====\n",
      "\n",
      "OUTPUT  2: Most scholars believe that the initial use of nuclear weapons by the United States against Germany during the 1939–1945 Korean War was aimed at creating a global nuclear deterrent to deter aggression from the Soviet Union. The motivation was not primarily to stop the German invasion but to ensure that Soviet policy towards Japan would change from assuming that it would be attacked first, after which Soviet aircraft would be directed against Japan to get the Japanese under control and create a strategic advantage for the Soviet Union against Germany. At the same time, nuclear weapons were clearly desirable for the purpose of psychological warfare: to make the American public believe that all German equipment and equipment in Europe was under Soviet control, and would therefore not be able to assist the United States against Germany. Many of the early cases of nuclear weapons use were part of this deception.[1] By late 1945, Japan was too weak to be invaded; the rationale that led to the use of nuclear weapons was used later on to justify other uses of nuclear weapons such as the Strategic Air Command's production of highly enriched uranium, the atomic bomb at Hiroshima, and the military use of napalm in Korea.[5]After the outbreak of the war, many major powers sought to acquire nuclear weapons for their own purposes and as a deterrent against future aggression, with the majority of countries committing themselves to this goal prior to the outbreak of hostilities. Some used nuclear weapons for research and development of new and improved weapons (also known as \"development\"), while others dropped bombs only in response to attacks, which made conventional weapons unnecessary.[1][2][3]As the war progressed, the Soviet Union was forced to strike first to protect its state as a means of deterring attack by German and Allied forces, and the Allies to send the best forces to capture Moscow and its citizens. Many allied leaders even insisted on a \"scramble and surprise\" operation where Soviet forces would go on the offensive while the combined forces of the British, Americans, and Canadians attempted to capture Paris. The United States and the Soviet Union both released their forces to attack each other, the Allies being able to engage enemy forces when the Soviets could not.[6]Germany was not initially prepared for an invasion. Having long-term treaties with France and the rest of Europe, Germany's military was weak and the country had little artillery, forcing its troops to rely on the airforce.\n",
      "\n",
      "====\n",
      "\n",
      "OUTPUT  3: The 1940s-1970s are often designated as the \"Great Depression\" period of modern history due to a rising rate of poverty that lasted from 1933 to 1945 and which spread into industrial labor (and, indeed, into urban society), as well as falling economic and agricultural output and unemployment. The Great Depression itself began with the 1929 crash of the stock market and stock markets, beginning a broader deflationary trend across the nation that continued throughout the 1930s to the early 1960s, including the Depression of the 1930s and the Depression of the 1930s-1940s.The Great Depression impacted millions of American families and workers and brought an end to what had become the pre-war economic boom and created the worst recession since the Great Depression of the 1930s. Although more extreme, such losses of wealth to the dollar came only gradually and had a much less catastrophic effect on the labor market and workers than those brought on-board by the war.[2][4]The mainstay of the country during the Great Depression was food. Every single American family could get by on food and shelter. Food prices were three to four times those in many European countries, as both government and private corporations underwrote companies that promised prices would not fall when the market suffered major disruption from the war, or if people preferred to eat less food.[4] Labor shortages made finding jobs near places that could harvest the food even more difficult, and production dropped to only a quarter of its usual rate in mid-1940.The Great Depression was exacerbated by the price policies imposed by the Roosevelt administration—for example, the order of what types of goods could be imported and how many (in 1934 only steel goods could be imported). Many large and successful business enterprises were crippled or changed substantially in response to these policies and practices. For example, Wagner Steel shut down manufacturing and shipping before the war. Its owner, Osborn B. Wagner, feared that if the country was unable to make its way through war expenses to pay for wartime materials and personnel then Wagner's heavy investment in factories to produce goods might be abandoned.[5]As the price of food rose steadily, fewer Americans were able to buy enough to feed themselves, resulting in hunger.When public demand for food was low, more and more young people were engaging in jobs that prepared them for a household job.\n",
      "\n",
      "====\n",
      "\n"
     ]
    },
    {
     "name": "stdout",
     "output_type": "stream",
     "text": [
      "OUTPUT  4: Background [ edit ]Russian railways and Soviet intercontinental ballistic missiles.Beginning in 1939, the United States, Nazi Germany, and the Soviet Union conducted regular aerial bombing campaigns aimed at destroying enemy planes at any cost.[5] The aim of these raids was to completely destroy the enemy's ability to fly, or to destroy a sufficient number of its military forces, thus guaranteeing victory and ensuring the penetration of the offensive.[6] On 2 July 1939, US Army General George S. Patton announced an initiative that went to utter war: to \"go over to the ground as fast as we can, and make the fight hard and even bloody\". The Marshall Plan was established under President Franklin D. Roosevelt, authorizing the United States to hand over $100 billion of its war funds to Western nations that had not already put their hands up in support of the Axis.[7]At the time of the American invasion of Europe in May 1940, the European war had been launched seven times in two and a half years, and the Red Army had managed to capture seven of the eight points of the German–Polish–Belarusian front. The German army only had to capture the four other \"invasion\" points before the Red Army would fully occupy the Eastern half of Europe.But the British, French, and United States were in no hurry to employ this game plan, and, instead of just taking over the frontlines, they proceeded to siege (summon) the German East Prussian frontier city of Winterthur and ravaged the enemy's eastern front. Meanwhile, they rapidly re-shipped and advanced through the Soviet bloc, captured several towns in the south and conquered the oil and rubber-producing region of Transnistria.[8]By summer 1940, the German-Russian invasion was in full swing. Four German divisions led by General Wilhelm Keitel had penetrated through the Red Army. The vast majority of German troops under Adolf Hitler were in their own territory and thus were not subject to the Red Army's occupation. Only eight independent divisions from the Red Army, which included the largest armored force ever sent in to battle, were confined to their homelands, awaiting orders from Hitler.[9]The outbreak of World War II caused by an Axis alliance did not come until October 1939.\n",
      "\n",
      "====\n",
      "\n",
      "OUTPUT  5: Timeline [ edit ]The Second World War in years.Great Powers [ edit ]As a global military alliance, the Allied and Axis powers fought alongside one another in both major theaters of war and the occupation of European, Asian, and Pacific countries. The war in Europe began in June 1939, and the war in Asia began in December 1939, and the final conflict ended with Germany's surrender in April 1945.The main theaters of conflict in the conflict were Europe, North Africa, and the Middle East. During the Second World War, most military targets of concern were strategic or industrial cities or infrastructure. Militarily, the major combatants were the Allies: Germany and the United Kingdom; Japan and the United States; and France and Italy.AfricaEuropean and North Africa were, for the most part, ignored by Western powers and ignored by the Axis powers. The Japanese Empire was not a political entity with land that could fall under control of Japan (land in Africa included most of modern Ghana, where Japan had been fighting British and French troops since 1871). Neither the Allies nor the Axis cared to liberate the vast African continent. They ignored it as a resource of potential use to U.S. and British imperial interests. This lack of interest led to the infamous \"Wog War,\" where many African nations were systematically annihilated.The relationship between Britain and France grew unstable after the Second World War and became increasingly hostile. After the bombings of London, France started bombing Allied merchant ships along the North African coast. British and French forces fought in the Six-Day War in June 1948, and Britain was reintegrated into the United Nations as a former colonial power. France made numerous invasions into North Africa. The tensions between the Allies and the Axis, however, was not eased until 1954. Following the fall of the Egyptian monarchy, the United States was seriously involved in the affairs of Africa.[5][6] On 6 November 1953, the United States declared a military occupation of both Algeria and Morocco.[7] The American military presence spread throughout Western Sahara, and American security forces occupied this territory, regardless of the wishes of the Moroccan Government of General Mohammed V. Umar. In Algeria, it was the Americans that first occupied the desert-city of Douentza and tried to establish the Unified Islamic State of Algeria (UIA).\n",
      "\n",
      "====\n",
      "\n",
      "---------------------------------------\n",
      "CPU times: user 16min 6s, sys: 7min 51s, total: 23min 58s\n",
      "Wall time: 23min 57s\n"
     ]
    }
   ],
   "source": [
    "%%time\n",
    "results_ww2.update(benchmark('gpt2-large', n_words=500, texts=[ww2], n_trials=5, top_p=0.9, temperature=1.))"
   ]
  },
  {
   "cell_type": "markdown",
   "metadata": {},
   "source": [
    "# English-speaking Unicorns\n",
    "\n",
    "\n",
    "### Results: quite good, but some semantic repetitions"
   ]
  },
  {
   "cell_type": "code",
   "execution_count": 26,
   "metadata": {},
   "outputs": [
    {
     "name": "stdout",
     "output_type": "stream",
     "text": [
      "gpt2-large with n_words=500\n",
      "=========================\n",
      "---------------------------------------\n",
      "INPUT: In a shocking finding, scientist discovered a herd of unicorns living in a remote, previously unexplored valley, in the Andes Mountains. Even more surprising to the researchers was the fact that the unicorns spoke perfect English.\n",
      "\n",
      "OUTPUT  1: 'Fantastical'A team of Colombian scientists from Universidad National de Colombia, U.S. Forest Service and Royal Botanic Gardens Edinburgh, has just discovered two free-ranging, 5,000-year-old herds of foraging unicorns in the remote Vazquez Montane National Park in the Andes Mountains, a sanctuary which also includes spectacular, extinct megafauna such as the British mammoth.This recently revealed magical forest is more exotic than any we've seen before, said UNC's Stephan Wilson. And not just in the sense that we hadn't thought of it before. It seems to be the first place on the planet where unicorn pups can be born, during a time period that spans several millennia.\"This place seems far from settled,\" he explained in a press release. \"The absence of most modern household appliances means the stables aren't impressive, the close quarters made of concrete and concrete slab mean that the horses are left exposed, the tunnels of the hydroelectric dam [at the park] don't look like recreation ground, and the mining sector (which we suspect includes radioactive metals) cannot make their presence felt.\"An eco-tourism ministry reported there are 400 and growing in the area, and Wilson suggests that the only way to find out more about their origins and the animals they are now maintaining is to set out for the park. In the meantime, he points out that even animals as exotic as the two herders have a name — sheep unicorn, or milk unicorn for short.WATCH: Amazing footage of the Raptors full of actionWhat makes the unicorn unusual?An 8,500-kilometre-long pure-white, cloudless sky composed of unfathomable clouds, the sky over this location is almost like nothing we have ever seen. And the thing is, the sky looks as if someone has never come here.\"We may be looking at an age of persistent 'clouds in the sky' unlike anything we have ever seen,\" said a team of Colombian researchers in a report. \"It is one thing to see ongoing destruction of the canopy — this vegetation, which was once enormous, is being ripped apart by agriculture and intensive urbanization, leaving the surrounding landscape bare of its very essence.\"This phenomenon has been documented by many scientists.\n",
      "\n",
      "====\n",
      "\n",
      "OUTPUT  2:  They clearly knew what they wanted, and how they wanted it! Scientists from Monterey Bay Aquarium in California say they discovered the oldest known unicorn lair in the world, or at least one of the oldest. The wild cows will be captured and bred, said the lead researcher Mark Gadon, and the offspring will be born and raised as unicorns to be studied by scientists for future use.The giant unicorns are huge, weighing up to 3 tons, are visually incredible to look at, and apparently speak perfect English!What would you say to these intelligent mammals living in the wild? Is this something we should consider adding to our national wildlife list? Sound off below!<|endoftext|>An ultra-conservative president who once declared that two Columbus statues should be taken down because they express \"the cultural violence and pain\" of the Civil War has written an apology letter to the city's mayor and the NAACP, outlining some of his past policies.In an article in Columbus Dispatch magazine, Darryl W. Perry writes that Ohio Gov. John Kasich asked him to respond to a series of criticisms of his administration.The governor, he says, told him that he had adopted some of his past positions and now wanted to clarify.In addition to spelling out Kasich's past positions on abortion, abortion providers, gay rights and school segregation, the letter contains a brief description of the centerpiece of Kasich's platform: the Ohio Promise.The 23-word article begins: \"John Kasich took the state from a period of economic downturn and financial collapse to the forefront of a modern manufacturing and energy economy.\"He continues: \"Through careful planning and creative money management, he established incentives for small businesses, laid the groundwork for higher wages and increased investment in public services, and allowed Ohioans to make significant investments in education, research and medical research, environmental protection and the environment.\"The article continues: \"At the same time, Mr. Kasich enacted significant reforms in education and federal programs, such as Medicaid and the Affordable Care Act. While efforts to raise taxes have fallen short of expectations, over the past six years Ohioans have witnessed a historic resurgence of economic vitality.\"The suggestion that Kasich has gone soft on business contradicts a recent \"fact-checking\" op-ed by the Ohio Chamber of Commerce, which attacked Kasich on \"red\" and \"blue\" fronts.\n",
      "\n",
      "====\n",
      "\n",
      "OUTPUT  3: \"For most animals it would take something of special quality to be able to speak English like they do,\" said Ted Velie, professor of animal behavior at the University of Virginia and lead author of the study. \"Yet their perfect English is all they have.\"Scientists used deep-solution radar in a 20-meter-long, 2,000-foot-long unmanned submersible to survey the vast expanse of the Andes Mountains, where clouds of fluffy snow cover the glaciers and glaciers with snowdrops, and reflect radio waves back to Earth. The radar picks up small ice crystals in the mountain lakes and ponds, allowing the scientists to see the land across the overlying ice surface.\"It was surprising to discover unicorns living in a place such as this,\" Velie said. \"This is not something you would have expected. It's not the sort of thing you would expect to be able to survive in. But it is, and that's fantastic.\"The study led by Velie and researcher Dr. Anjali Alakhubova, a postdoctoral fellow at Virginia, has been published in the journal Nature.Velvet, who described the team's findings as \"terrifying,\" said they hope to help other animal species evolve into languages to communicate with each other.\"It shows how important a language might be for an animal, in fact,\" Velie said.First discovered by Italian explorer and explorer-in-training Giovanni da Verrazzano in the 16th century, the rarity of unicorns in the wild has puzzled researchers for decades. In a paper published in the February 2014 issue of The Journal of Mammalogy, Velie and colleagues identified 15 unicorns, but Velie conceded that this number could represent \"only a fraction of the current population.\"But the researchers said the technology was powerful enough to detect the animals during the survey. They even chose to locate the animals based on their natural range.\"This was a new species being discovered by non-experts,\" Velie said. \"The animals were spotted on their own turf and were unmarked by any satellite or other surveillance system.\"First spotted by a Spanish guide, Velie said the animals also inhabited an area called Atunya, on Peru's Bajo de la Cumbre mountains, a mountain range that extends for at least 1,000 miles.\n",
      "\n",
      "====\n",
      "\n",
      "OUTPUT  4: The unicorn is famous for making the news last year when its horn was found to be at least as old as the dinosaur extinction that killed 66 million years ago, and was believed to have been all the way back in the Devonian period. It is the only large land animal known to use language.The Santa Elena Volcano is believed to have covered two areas with lava – one is an Alpine valley, and the other, which was dubbed Cuiabá, is a rather interesting landscape. The remote area is inhabited by a kind of fur-bearing horse, Narrowmoor ponies, and the wolves that roam the jungle.Dr Lynne Grafton, from the University of Glasgow, UK, first started thinking about the unicorns after seeing their unusual appearance during an overnight visit in 2006. \"A guidebook given to visitors to the town told of an extremely rare sight: a herd of unicorns, about three yards tall, seen across from the volcanic crater Cuiabá,\" she said.\"So when I went on holiday I was fascinated by the chance to see them. But my amazement quickly turned to surprise as the animals were hidden in such a remote part of the volcano's crater. It is so beautiful. I saw that we had stumbled on a fascinating landscape. I was so amazed at the beauty of the area.\"Researchers from the University of Manchester found out that they had stumbled upon some unusual fauna when they researched the temperature and moisture patterns of water and soil around the soil where the unicorns were found.The scientists decided to send a team of scientists into the Tashkent area on a guided tour, and drove to Cuiabá. When they arrived, they knew that their call would be heard.In fact, the unicorns did speak. \"The horses moved their trunks, stalked, and even wept,\" Dr Grafton said. The unicorns were also a great threat to the horses, which had an interest in the unicorns' silky hair.Although the unicorns would eat grass, the horses only grazed around trees and shrubs. \"If the horse had to graze on these plants it was possible the horse would bite off a branch and maybe leave a small puncture wound, like a bite wound,\" Dr Grafton explained.\n",
      "\n",
      "====\n",
      "\n"
     ]
    },
    {
     "name": "stdout",
     "output_type": "stream",
     "text": [
      "OUTPUT  5: Dr Christopher Gore of Trinity College Dublin said the creatures were the world's only confirmed unicorns.\"What's truly exciting is that we have discovered not only the largest population of unicorns in the world, but we have also been able to establish that they speak a language that has been unknown for at least 100 years,\" Dr Gore told the Belfast Telegraph.Shape Created with Sketch. 12 of the world's weirdest animals Show all 12 left Created with Sketch. right Created with Sketch. Shape Created with Sketch. 12 of the world's weirdest animals 1/12 Spiders The world is full of interesting, weird and wonderful animals. But spiders are the weirdest of the bunch. Most spiders can be classified as either nocturnal or nocturnal-active. Nocturnal spiders, like the famous jumping spider (pictured above), may use sound to navigate by communicating with other spiders. And, yes, they do have webbed legs. But a group of spiders living in captivity took this idea to the next level and decided to stick webs across the ceiling, to catch sound coming in from above. \"We call it spider-sky,\" biologist Kentaro Miura of the University of Tokyo explained to Live Science. \"Rather than using pitch for navigation, these spiders find a way to make sounds from above and then manipulate the sound to create very interesting images that we can't get from recording spiders normally.\" 2/12 Spider (Orb weaver) Orb weavers are not the most sophisticated of arachnids. Instead of fur, they have compound eyes with four pairs of eardrum-like parts, each containing about 1,000 light-sensitive cells. The photosynthetic spiders don't use sound to find food, but instead store sound waves on tiny hair-like projections called trapnose cells. This leads to the spiders' spectacularly loud calls. Once in a while, however, a spider will actually spit out sound waves when disturbed. Those waves can be used to tell other spiders when a predator is nearby, which helps it to avoid being eaten by that particular prey item. 3/12 Snakes But it's not just snakes that seem to enjoy sound. Salamanders, for example, can produce different sounds when frightened. And when it comes to ugly ones, there are arachnids that are just hideous.\n",
      "\n",
      "====\n",
      "\n",
      "OUTPUT  6: The small region of Montane, Argentina, isn't anything special in the world of unicorns. It's already an accepted tourist destination, and not long ago the local authorities even hired a town mayor to raise tourism awareness.The Wreden Ranch contains a number of traditional young Indian coca plants, since they grow there, according to The Telegraph, so the scientists figured that unicorns must have originated from these coca plants.Lead researcher Janis Peebles has lived there for 16 years, and she says that unicorns are not uncommon there.\"There's quite a few [unicorn] sites here in the South American South, not far from Argentina. We haven't been to all of them, but what we've found at other sites in the forest is something quite spectacular: they've all had central poles, upright poles, without stones or other, in other words, the rhino-horns because we know that most of them have rhino horns.\"The study concluded that \"having rhino horns is a feature of adult male litters and apparently of all babies born here.\"Now, that would seem to contradict the notion that all unicorns belong to Indian tribes. Or is it? There are perhaps a couple of possible explanations for the universality of unicorns. One possible reason that a single herd can grow quite a number of adult unicorns is the many species of Indian bulls. Unicorns' black pigment also makes them extremely hard to identify.In fact, Peebles says the only way that the animals have been completely identified would be by being seized by the animals themselves, and at that point they would probably agree to be destroyed or buried to preserve their unique genetic diversity. Perhaps they don't get as many attacks. Perhaps their DNA doesn't do all that much damage to the other animals living around them.Or maybe it's in the Indian bull's DNA that he gets carried away with the horn?[The Telegraph]<|endoftext|>Her novel received the 2014 Doubleday Literary Award.Thomas Ligotti is the author of critically acclaimed fiction that has been published in more than fifty languages, including the New York Times, BBC, National Geographic, the New Yorker, as well as several books of poetry and short fiction.\n",
      "\n",
      "====\n",
      "\n",
      "OUTPUT  7:  Their unique language, which apparently has no formal phonetic spelling or even vowel sounds, is thought to be the best known example of loanwords. Its adoption by the humans by borrowing from the cow herd may not be the end of the story. Unicorns have been known to take up permanent residence in remote mountains. Did they stop there?The finding was reported in the journal Science Advances and was inspired by those who study research animals, many of whom find the word \"unicorn\" too grandiose and scary to name. Some biologists at the U.S. Department of Agriculture wrote a letter to federal officials asking for an investigation of why unicorns have taken up permanent residence in mountain areas in Peru. \"The fact that horses and other species have been known to live in different landscapes makes us wonder whether the presence of unicorns in this setting is coincidental,\" writes the scientists, who wanted to make the deer-sized herds more visible, without making the animals too conspicuous.[nggallery id=35]Researchers further examined the \"mestizo\" deer (a mix between a horse and a deer) and found evidence that these wild animals weren't extinct in the valley before they came to reside there. In fact, that group of endangered herders had been living in the area for more than a thousand years. Researchers are more likely to visit the area now that they are able to use computer software to take digital photographs of the unusual specimens. And that makes it an excellent place for scientists who have to stay out of view from the public while they record all the odd appearances of the visitors to their site.What are you favorite feature of the animals? Share with us in the comments below![Via Scientific American][Featured Image: Wikimedia Commons]<|endoftext|>Hillary Clinton is not just in trouble with the FBI over her emails; she has essentially become a political liability of the deepest kind. The FBI has been investigating the Clinton Foundation for months, but now they are now saying that the Secretary of State was \"extremely careless\" in her handling of classified information.According to FOX News, the FBI was actually writing a report, telling the public that Mrs. Clinton \"was extremely careless\" and that she should \"be held accountable.\"In my observation, her conduct was not \"extremely careless\" in the normal meaning of the term. She was overzealous, sloppy, and careless.\n",
      "\n",
      "====\n",
      "\n",
      "OUTPUT  8: Richard Travis and Ben Burkholder, lead author of the study published in the journal Conservation Biology, spent 12 years capturing dozens of video footage of the rare, solitary critters to get an eye-opening view of their unique language.\"What we found was surprising,\" said Richard Travis, who teaches a course in wildlife communication at the University of Colorado, Boulder. \"We think they communicate through radio signals and song and perhaps in an oral language. We suspect their vocalizations also include gestures and they use the familiar and familiar devices in their way of communicating.\"The study group, composed of researchers and wildlife managers from countries such as Venezuela and Ecuador, made the following findings:In addition to teaching English to the unicorns, a team of scientists spent many hours communicating with the animals by email, telephone, and on foot. It was all in an effort to establish their 'language'The researchers also got to spend time with the unicorns during the more typical days when they would wander around their vast territoryWhen the scientists decided to study the creatures, they would typically begin by searching for their caves in the mountains, but would then begin recording their social behavior. The only time they would not attempt to observe the animals is if there was a threat to them.According to the researchers, the animals are all native to Central America, and about 1,000 have been spotted since the 1960s in the Andes.After capturing the unicorns for their study, the team spent countless hours tracking them using GPS to get a sense of where they had traveled in order to locate the animals' caves and to make sure that they stayed in one place. Travis emphasized the importance of living off the land, as these large animals are protected by law.\"Wild animals are very difficult to study for the type of work we're doing. We are attempting to create one of the most complex and detailed studies of this group that the world has ever seen,\" said Richard Travis.To listen to the speech sounds of the unicorns, listen to the article below.RACE VS. GEOLOGY AND NOVELTY SPANISH TRANSLATION ON RACIAL REFERENCE<|endoftext|>Samsung and the world's largest computer chipmaker Intel have both released security updates for their computer systems to help prevent remote access to users' files.\n",
      "\n",
      "====\n",
      "\n"
     ]
    },
    {
     "name": "stdout",
     "output_type": "stream",
     "text": [
      "OUTPUT  9: The discovery of unicorns among these isolated mountain flora and fauna has been a long-sought prize for and still draws the interest of the world, who call them to their watery lairs for nest building and other activities.These remarkable creatures are recognized by their distinctive and highly specialised ears. These interesting features are not found in any other animals and scientists believe they are a part of their unique language.They are also known to be intelligent, loving and friendly.Read more about the amazing animals whose lives are changed due to rare scientific discovery.<|endoftext|>Bartenders don't get paid enough to be actually serving customers, but these guys have it made: The best bartenders in NYC are all white men.Some of the best bartenders in NYC. Image: @brojempwIt turns out that white men have enjoyed more money, total time spent, and total money spent, at bars that serve non-white clients than bartenders that are of other ethnicities. Just 28 percent of white bargoers polled agreed that a bartender should not be the bartender of choice if the house's menu offers three or more of each of the two main entrees. It's true that, out of 12,324 respondents who said that their household income was over $100,000 in 2012, respondents who responded to the study were overwhelmingly white men. But among those respondents, only 8 percent were black, 11 percent were Hispanic, and 5 percent were Asian. In other words, white men have been successfully keeping jobs at these establishments in spite of being bartenders, even though they also provided the majority of service to their non-white customers.Tracy Ryan is the executive director of the NGO \"The SoHo Business Review\" and runs a blog called \"Entertainment Nation.\" He told BuzzFeed News that white men have always been the people who tend to serve non-white customers. However, they haven't always been as confident in their abilities to serve them and offer the best customer service. In the 1950s, when Ryan was a manager at Peter Pan bar on West End Avenue in Lower Manhattan, white men dominated the bar, and they weren't afraid to admit it: \"It's one of those things that it's not really something that the white men really like to talk about,\" Ryan said.\n",
      "\n",
      "====\n",
      "\n",
      "OUTPUT 10:  (Photo by Jeff Davis/Getty Images)Exclusive video footage shows how the Pony Express'saw' our moon. Watch this beautiful footage of the U.S. team's incredible two-day trek to photograph our lunar neighbor, which reveals the moon is what we see before we see it. (Photo by NASA)The total solar eclipse passes right over (and even some 3,500 miles from) the Eiffel Tower, one of the tallest landmarks in the world. The 15-minute \"total solar eclipse\" will finally be over Europe on Nov. 7, 2014. (Photo by Ed Jones/Getty Images)An impossible distance is between you and silence. But close to, but not touching, a silent moon, the total solar eclipse will happen over your position. (Photo by Andrew S. Alexander/AP)A woman named Shelby Lane runs in the 100-meter long scorpion race at the International Horse Show in Las Vegas, Nevada, on March 9, 2013. This is the fifth of ten consecutive record-breaking races, and the most they've ever held in one place. (Photo by Gerry Shih/Getty Images)Ralph McQuarrie and his crew catch a fast-moving wadersnapper, chased by the irresistible river river. The wadersnapper might be an unwelcome visitor at your stables, but the river like its namesake is peaceful, if hostile, and it always wants to be seen and approached. (Photo by Foltz Freeman/Getty Images)Shelby Lane takes a photo of Yosemite's Loop, or Devil's Backbone, as it peaks above a distant valley, on March 4, 2013. The 1800 feet (356 meters) of ascent is a great example of an otherwise totally different \"Fall\" in Yosemite's backcountry -- a much more wiggly, gradually descending more vulnerable spine of rock called the loop. (Photo by Kevin Winter/Getty Images)University of Colorado students take a charting course at Antelope Island, a remote mountain area known for several scenic climbs. On February 7, 2014, a geologist named Dave Hoyt of Ohio University released a video of what he called \"the most difficult adventure climb I've ever undertaken.\" The six-day trip from Munich to the island was taking 16 months -- and Hoyt had almost nothing to show for it.\n",
      "\n",
      "====\n",
      "\n",
      "---------------------------------------\n",
      "CPU times: user 22min 56s, sys: 10min 23s, total: 33min 20s\n",
      "Wall time: 33min 19s\n"
     ]
    }
   ],
   "source": [
    "%%time \n",
    "results_unicorns = benchmark('gpt2-large', n_words=500, texts=[SAMPLE_INPUTS[0]], n_trials=10, top_p=0.9, temperature=1)"
   ]
  },
  {
   "cell_type": "markdown",
   "metadata": {},
   "source": [
    "# Train carriage and Miley Cyrus shoplifting\n",
    "\n",
    "\n",
    "### Results: no results for Miley and almost perfect result for Train carriage\n"
   ]
  },
  {
   "cell_type": "code",
   "execution_count": 27,
   "metadata": {},
   "outputs": [
    {
     "data": {
      "text/plain": [
       "['A train carriage containing controlled nuclear materials was stolen in Cincinnati today. Its whereabouts are unknown.',\n",
       " 'Miley Cyrus was caught shoplifting from Abercrombie and Fitch on Hollywood Boulevard today.']"
      ]
     },
     "execution_count": 27,
     "metadata": {},
     "output_type": "execute_result"
    }
   ],
   "source": [
    "SAMPLE_INPUTS[1:3]"
   ]
  },
  {
   "cell_type": "code",
   "execution_count": 28,
   "metadata": {},
   "outputs": [
    {
     "data": {
      "text/plain": [
       "dict_keys([\"World War II (often abbreviated to WWII or WW2), also known as the Second World War, was a global war that lasted from 1939 to 1945. The vast majority of the world's countries—including all the great powers—eventually formed two opposing military alliances: the Allies and the Axis. A state of total war emerged, directly involving more than 100 million people from over 30 countries. The major participants threw their entire economic, industrial, and scientific capabilities behind the war effort, blurring the distinction between civilian and military resources. World War II was the deadliest conflict in human history, marked by 70 to 85 million fatalities, most of whom were civilians in the Soviet Union and China. It included massacres, the genocide of the Holocaust, strategic bombing, premeditated death from starvation and disease, and the only use of nuclear weapons in war.[1][2][3][4]\", 'In a shocking finding, scientist discovered a herd of unicorns living in a remote, previously unexplored valley, in the Andes Mountains. Even more surprising to the researchers was the fact that the unicorns spoke perfect English.'])"
      ]
     },
     "execution_count": 28,
     "metadata": {},
     "output_type": "execute_result"
    }
   ],
   "source": [
    "results = {}\n",
    "results.update(results_ww2)\n",
    "results.update(results_unicorns)\n",
    "results.keys()"
   ]
  },
  {
   "cell_type": "code",
   "execution_count": 29,
   "metadata": {},
   "outputs": [
    {
     "name": "stdout",
     "output_type": "stream",
     "text": [
      "gpt2-large with n_words=500\n",
      "=========================\n",
      "---------------------------------------\n",
      "INPUT: A train carriage containing controlled nuclear materials was stolen in Cincinnati today. Its whereabouts are unknown.\n",
      "\n",
      "OUTPUT  3: The incident occurred at about 2:30 p.m. in the area of West 5th Street and North Main Street, according to the Cincinnati Police Department.Police say the train was traveling south on West 5th Street when it was stopped by a man who jumped out of the back of a vehicle. The man then grabbed a box cutter and a screwdriver and went into the train car.Police say the man then took the box cutter and the screwdriver and ran off. The train was not damaged in the theft.No injuries were reported.The investigation is ongoing.AlertMe<|endoftext|>The BBC has been accused of \"hypocrisy\" after it admitted it had been wrong to say the UK's decision to leave the EU would cost jobs.The corporation was forced to apologise after it said the \"costs of Brexit\" would be \"significant\" to the UK's economy.It later admitted it had been wrong to say the UK's decision to leave the EU would cost jobs, but insisted the figures were \"exaggerated\".The corporation has now apologised for its comments, saying: \"We made a mistake and we apologise. We are confident that our statement was clear and accurate.\"The BBC's statement came after the BBC's director general, Tony Hall, said the corporation had been \"clear and accurate\" in its coverage of the referendum.He said the corporation had been \"clear and accurate\" in its coverage of the referendumBut he added: \"The costs of Brexit are significant to the economy. We will be publishing our full analysis later today.\"The BBC has been criticised for its coverage of the EU referendum, with many of the corporation's journalists describing the result as \"Brexit\" and the result as \"Brexit\".Media playback is unsupported on your device Media caption The BBC's director general, Tony Hall, said the corporation had been \"clear and accurate\" in its coverage of the referendumMr Hall said the corporation had been \"clear and accurate\" in its coverage of the referendum, but had been wrong to say the UK's decision to leave the EU would cost jobs.\"We are confident that our statement was clear and accurate,\" he said.\"We were clear and accurate in our coverage of the referendum, but we were wrong to say the UK's decision to leave the EU would cost jobs.\n",
      "\n",
      "====\n",
      "\n",
      "OUTPUT  4: The incident occurred at about 8:15 a.m. at the West Side Yard in the city's East Side neighborhood.Police say the stolen train carriage contained two sets of nuclear material, one of which was an inert nuclear device.The device was on the train and was being transported to a storage facility.The train was stolen from the West Side Yard, which is a main rail facility for the city's transportation system.Police say the train was recovered by the Cincinnati Police Department.The incident is under investigation.AlertMe<|endoftext|>The New York Times is reporting that a \"former senior intelligence official\" has told them that the Obama administration \"continued to monitor\" former National Security Adviser Susan Rice.This is a direct quote from the report:The former senior intelligence official said Mr. Obama's team continued to monitor Ms. Rice for a year after she left office, even though she had told Congress she had no knowledge of any unmasking of Trump associates.The New York Times also reports that this was the same former senior intelligence official who told the media that \"Obama officials were so concerned about unmasking that they used a secret court to obtain the names of Trump associates caught up in incidental collection.\"It's not clear what the former senior intelligence official meant by \"Obama officials\" when he said \"Obama officials.\"It's also not clear what the \"secret court\" that the Times is referring to is.The New York Times also reports that the Obama administration \"used a secret court to obtain the names of Trump associates caught up in incidental collection.\"It's unclear what \"incidental collection\" means.The New York Times also reports that \"the Obama administration used a secret court to obtain the names of Trump associates caught up in incidental collection.\n",
      "\n",
      "====\n",
      "\n",
      "OUTPUT  5: The incident occurred around 12:30 p.m. in the area of North Main Street and East Market Street.Cincinnati police say the train was stolen from a Cincinnati-area station.The train was traveling from Cincinnati to Cincinnati-Northern Kentucky International Airport.The incident is under investigation.<|endoftext|>Theresa May's speech on Brexit has been criticised for being \"tone deaf\", and the Prime Minister has been accused of \"gutting\" the Government's plans for leaving the European Union.In her speech, the Prime Minister said that the UK would seek to negotiate a \"fair deal\" with the EU, but she made clear that this would be \"not a deal for Britain\".In the speech, Mrs May said: \"We will not seek to impose our terms on the European Union. We will seek a fair deal that works for all of us, and that works for the United Kingdom.\"However, the Prime Minister also made clear that she would not seek to \"rip up\" the EU's free trade agreement with the UK, saying: \"I want to be clear that we will not seek to rip up the European Union's single market and customs union.\"She added: \"The UK will not seek to impose its terms on the European Union.\"The Prime Minister's speech was criticised by the Conservative MP Michael Gove, who said: \"This is a speech that is tone deaf. It is gutting, it is gutting. It is a speech that is not in any way in the interests of the British people.\"He added: \"The Prime Minister has gone from being a strong advocate of free trade to a weak advocate of free trade.\"It is a speech that is a slap in the face to the European Union. It is a speech that is a slap in the face to the European Union's citizens. It is a speech that is a slap in the face to the European Union's farmers. It is a speech that is a slap in the face to the European Union's fishermen. It is a speech that is a slap in the face to the European Union's manufacturers. It is a speech that is a slap in the face to the European Union's entrepreneurs.\n",
      "\n",
      "====\n",
      "\n",
      "OUTPUT  6: The train, which was carrying a shipment of nuclear material, was stopped in the city's River East neighborhood, according to the U.S. Department of Transportation.The National Transportation Safety Board said it was investigating the incident.The incident comes amid a spate of recent incidents involving the theft of nuclear materials, including a shipment of weapons-grade uranium that was stolen from a warehouse in New York City.A similar incident occurred in 2010 when a train containing nuclear materials was stolen in Baltimore.In the latest incident, the train was stopped in the city's River East neighborhood, according to the U.The U. Department of Transportation said it was investigating the incident.AlertMe<|endoftext|>A B.C. man who was a suspect in the fatal stabbing of a young woman in a Victoria park has been found not guilty of first-degree murder in the case.A B.The B. Supreme Court jury found a not guilty verdict on Monday in the case of Michael George, 22, of Victoria.The jury was told that George stabbed 22-year-old Michelle Short, who was walking in a park in Victoria's Centennial Park on Aug. 16, 2015.Short was killed by George, who was also stabbed in the chest, and was pronounced dead at the scene.George had been charged with first-degree murder, attempted murder and possession of a weapon dangerous to the public.The Crown had argued that George was a dangerous offender who should have been kept in custody for a long time.\n",
      "\n",
      "====\n",
      "\n",
      "OUTPUT  9: The incident occurred at the Cincinnati/Northern Kentucky International Airport at around 3:30 p.m.\"We are working with the FBI and the U.S. Postal Inspection Service to locate the train car,\" said Cincinnati Police Chief Eliot Isaac. \"We are cooperating with the FBI and the U. Postal Inspection Service.\"The FBI is assisting the Cincinnati Police Department in the investigation.The train car contains a total of 10,000 pounds of radioactive materials, according to the FBI.The FBI said the stolen train car is being held in a secure location and will be returned to its owner once the investigation is completed.\"This is a very serious matter and we are working closely with the FBI and the U. Postal Inspection Service to determine the identity of the train car owner and the nature of the stolen materials,\" Isaac said.The FBI said it is working with the U. Postal Inspection Service to determine the identity of the train car owner.The FBI said the train car contains a total of 10,000 pounds of radioactive materials, according to the FBI.\n",
      "\n",
      "====\n",
      "\n"
     ]
    },
    {
     "name": "stdout",
     "output_type": "stream",
     "text": [
      "---------------------------------------\n",
      "---------------------------------------\n",
      "INPUT: Miley Cyrus was caught shoplifting from Abercrombie and Fitch on Hollywood Boulevard today.\n",
      "\n",
      "OUTPUT  3: The 24-year-old singer, who was wearing a black dress, was spotted by a security guard at the store, who then approached her and asked her to leave.Scroll down for videoHooked: Miley Cyrus was caught shoplifting from Abercrombie and Fitch on Hollywood Boulevard today. The 24-year-old singer, who was wearing a black dress, was spotted by a security guard at the store, who then approached her and asked her to leaveShe then got into her car and left the store without paying.A spokesperson for the store told TMZ that the singer was caught shoplifting on the day of her birthday.The spokesperson added that the store was unaware that the singer was on her birthday.The singer was also caught on camera buying a pair of earrings from the store's jewelry department.She was seen walking into the store with her arms wrapped around her head and her head down, as her head was turned to the side.She then got into her car and left the store without paying.The store's spokesperson added that the singer was caught shoplifting on the day of her birthday. The spokesperson added that the store was unaware that the singer was on her birthdayThe singer was also caught on camera buying a pair of earrings from the store's jewelry department. She was seen walking into the store with her arms wrapped around her head and her head down, as her head was turned to the sideThe singer was also caught on camera buying a pair of earrings from the store's jewelry department. She was seen walking into the store with her arms wrapped around her head and her head down, as her head was turned to the sideThe incident happened just hours after Cyrus' 19th birthday, which is a day off from her scheduled performance at the MTV Video Music Awards on Sunday.Cyrus' birthday is also a day off from her scheduled performance at the MTV Video Music Awards on SundayShe has been busy promoting her new album, The Miseducation of Lauryn Hill, which was released in June.The singer has been busy promoting her new album, The Miseducation of Lauryn Hill, which was released in JuneCyrus has been busy promoting her new album, The Miseducation of Lauryn Hill, which was released in June.\n",
      "\n",
      "====\n",
      "\n",
      "OUTPUT  6: The pop star was spotted wearing a $65,000 pair of jeans and a $50,000 pair of boots.The star was spotted in the store's dressing room wearing a pair of black leather pants and a black leather jacket, while her shoes were a $500 pair of high-heel black pumps.The 23-year-old was seen trying on a pair of sunglasses before heading into the store.The pop star was spotted in the store's dressing room wearing a pair of black leather pants and a black leather jacket, while her shoes were a $500 pair of high-heel black pumpsThe star was spotted trying on a pair of sunglasses before heading into the store. The 23-year-old was seen trying on a pair of sunglasses before heading into the storeThe star was spotted wearing a $65,000 pair of jeans and a $50,000 pair of boots, while her shoes were a $500 pair of high-heel black pumpsThe pop star was spotted in the store's dressing room wearing a pair of black leather pants and a black leather jacket, while her shoes were a $500 pair of high-heel black pumpsThe pop star was spotted in the store's dressing room wearing a pair of black leather pants and a black leather jacket, while her shoes were a $500 pair of high-heel black pumps.The pop star was spotted in the store's dressing room wearing a pair of black leather pants and a black leather jacket, while her shoes were a $500 pair of high-heel black pumpsThe pop star was spotted in the store's dressing room wearing a pair of black leather pants and a black leather jacket, while her shoes were a $500 pair of high-heel black pumpsThe pop star was spotted in the store's dressing room wearing a pair of black leather pants and a black leather jacket, while her shoes were a $500 pair of high-heel black pumps.\n",
      "\n",
      "====\n",
      "\n",
      "OUTPUT 10: The singer, who is also known for her appearances on \"The Tonight Show,\" was spotted in the store with a bag of clothes, including a pair of pants.The 22-year-old was also seen in a black leather jacket and black pants.The singer was spotted by a witness on the sidewalk, who also saw her wearing a black coat.\"I saw her walking up and down the sidewalk,\" witness Josephine Vazquez told ABC News.\"She looked like she was shopping for a suit. She looked like she was going to get something to wear.\"The witness told ABC News that the singer was wearing a black jacket and black pants.The witness also said that the singer was carrying a black backpack.\"She was carrying a black backpack,\" she said.The witness said that she did not see the singer shoplift any items, but she did see the singer shoplift her own clothing.\"She was shopping for her own clothes,\" the witness said. \"She was going to get a suit.\"The witness said that she did not see the singer shoplift any items, but she did see the singer shoplift her own clothing.\"She was shopping for her own clothes,\" she said.The witness said that the singer was wearing a black jacket and black pants.The witness said that the singer was carrying a black backpack.\n",
      "\n",
      "====\n",
      "\n",
      "---------------------------------------\n",
      "CPU times: user 42min 5s, sys: 18min 46s, total: 1h 52s\n",
      "Wall time: 1h 50s\n"
     ]
    }
   ],
   "source": [
    "%%time \n",
    "x = benchmark('gpt2-large', n_words=500, texts=SAMPLE_INPUTS[1:3], n_trials=10, top_p=0.85, temperature=0.6)\n",
    "results.update(x)"
   ]
  },
  {
   "cell_type": "markdown",
   "metadata": {},
   "source": [
    "# The rest of the samples"
   ]
  },
  {
   "cell_type": "code",
   "execution_count": 30,
   "metadata": {},
   "outputs": [
    {
     "name": "stdout",
     "output_type": "stream",
     "text": [
      "gpt2-large with n_words=500\n",
      "=========================\n",
      "---------------------------------------\n",
      "INPUT: We’ve trained a large language model called GPT-2 that generates realistic paragraphs of text, while also exhibiting zero shot generalization on tasks like machine translation, question answering, reading comprehension, and summarization - problems usually approached by using training datasets and models designed explicitly for these tasks.\n",
      "\n",
      "OUTPUT  6: We’ve also trained a new language model called GPT-3 that generates realistic paragraphs of text, while also exhibiting zero shot generalization on tasks like machine translation, question answering, reading comprehension, and summarization - problems usually approached by using training datasets and models designed explicitly for these tasks.We’ve also trained a new language model called GPT-4 that generates realistic paragraphs of text, while also exhibiting zero shot generalization on tasks like machine translation, question answering, reading comprehension, and summarization - problems usually approached by using training datasets and models designed explicitly for these tasks.We’ve also trained a new language model called GPT-5 that generates realistic paragraphs of text, while also exhibiting zero shot generalization on tasks like machine translation, question answering, reading comprehension, and summarization - problems usually approached by using training datasets and models designed explicitly for these tasks.We’ve also trained a new language model called GPT-6 that generates realistic paragraphs of text, while also exhibiting zero shot generalization on tasks like machine translation, question answering, reading comprehension, and summarization - problems usually approached by using training datasets and models designed explicitly for these tasks.We’ve also trained a new language model called GPT-7 that generates realistic paragraphs of text, while also exhibiting zero shot generalization on tasks like machine translation, question answering, reading comprehension, and summarization - problems usually approached by using training datasets and models designed explicitly for these tasks.We’ve also trained a new language model called GPT-8 that generates realistic paragraphs of text, while also exhibiting zero shot generalization on tasks like machine translation, question answering, reading comprehension, and summarization - problems usually approached by using training datasets and models designed explicitly for these tasks.We’ve also trained a new language model called GPT-9 that generates realistic paragraphs of text, while also exhibiting zero shot generalization on tasks like machine translation, question answering, reading comprehension, and summarization - problems usually approached by using training datasets and models designed explicitly for these tasks.We’ve also trained a new language model called GPT-10 that generates realistic paragraphs of text, while also exhibiting zero shot generalization on tasks like machine translation, question answering, reading comprehension, and summarization - problems usually approached by using training datasets and models designed explicitly for these tasks.\n",
      "\n",
      "====\n",
      "\n",
      "OUTPUT  7: The results are pretty impressive. GPT-2 is able to generate sentences that are as close to the original text as possible, and it does so without any significant loss of generality. It is also able to generate sentences that are more or less the same as the original, but with a much higher degree of generality.In the following section, we will show how GPT-2 can be used to generate sentences that are close to the original, but with a higher degree of generality. We will also show how GPT-2 can be used to generate sentences that are more or less the same as the original, but with a much higher degree of generality.Generating sentences that are closer to the originalTo generate sentences that are closer to the original, we need to understand what the original text is like. The original text is a collection of sentences, each of which is a sentence that is close to the original. For example, the original text might be \"The cat is dead.\" The sentence \"The cat is dead\" is close to the original, but it is not close enough to be close enough to the original.We can use GPT-2 to generate sentences that are closer to the original, but with a higher degree of generality.The first step is to train GPT-2 to generate sentences that are close to the original, but with a higher degree of generality. We will use the following training set:The first step is to train GPT-2 to generate sentences that are close to the original, but with a higher degree of generality. We will use the following training set:We will use the following training set:We can then generate sentences that are close to the original, but with a higher degree of generality.We can then generate sentences that are close to the original, but with a higher degree of generality.\n",
      "\n",
      "====\n",
      "\n",
      "OUTPUT  8: Our model is designed to be highly accurate in the face of the most common human language problems, and it has been trained on a large corpus of English text.GPT-2 is a deep learning model that can learn to generate realistic sentences from a large corpus of English text.We have also trained a large language model called GPT-1 that can generate realistic sentences from a large corpus of German text.GPT-1 is a deep learning model that can learn to generate realistic sentences from a large corpus of German text.We have also trained a large language model called GPT-1 that can generate realistic sentences from a large corpus of French text.GPT-1 is a deep learning model that can learn to generate realistic sentences from a large corpus of French text.We have also trained a large language model called GPT-1 that can generate realistic sentences from a large corpus of Spanish text.GPT-1 is a deep learning model that can learn to generate realistic sentences from a large corpus of Spanish text.We have also trained a large language model called GPT-1 that can generate realistic sentences from a large corpus of Portuguese text.GPT-1 is a deep learning model that can learn to generate realistic sentences from a large corpus of Portuguese text.We have also trained a large language model called GPT-1 that can generate realistic sentences from a large corpus of Japanese text.GPT-1 is a deep learning model that can learn to generate realistic sentences from a large corpus of Japanese text.\n",
      "\n",
      "====\n",
      "\n",
      "---------------------------------------\n",
      "---------------------------------------\n",
      "INPUT: Legolas and Gimli advanced on the orcs, raising their weapons with a harrowing war cry.\n",
      "\n",
      "OUTPUT  2:  The orcs had no answer for the two heroes, and they fell back to the wall, leaving the two heroes to fend off the orcs. The two heroes then entered the gate, and the gate closed behind them.The orcs were now on the other side of the gate, and the two heroes were in the middle of a battle with a large group of orcs. The orcs had no idea what was happening, and were not prepared to fight. The two heroes were now in the middle of a battle with a large group of orcs.Gimli was the first to make a move, and he moved to the left, and attacked the orc on the right. The orc on the left was wounded, and Gimli used his axe to cut the orc's head off. The orc on the right was wounded, and Gimli used his axe to cut the orc's head off.The orc on the left was wounded, and Gimli used his axe to cut the orc's head off.\n",
      "\n",
      "====\n",
      "\n",
      "OUTPUT  7:  But the orcs were not prepared for the assault. Gimli and Legolas were wounded and Gimli fell, but he was saved by the arrival of Aragorn, who had been forced to flee from the battle.Aragorn and his companions soon reached the shores of the Sea of Rhûn, where they were greeted by the army of the Elves of Eregion. The Elves were eager to welcome the Dwarves, and the Dwarves were eager to welcome the Elves. The two races fought for many days, and the Dwarves eventually won the day. The Elves were able to cross the Sea of Rhûn and reached the shores of Mirkwood.Aragorn and his companions soon returned to the Lonely Mountain. There, they found that the Orcs had been driven back into the forests of Mirkwood. Aragorn and his companions decided to return to Mirkwood and take up their old duties as Stewards of the Forest.edit] MirkwoodAragorn and his companions soon returned to Mirkwood, where they were greeted by the King of Mirkwood, Aragorn's father, and the King's son, Aragorn's brother, Aragorn II. The King of Mirkwood was pleased to see that Aragorn and his companions had returned, and he asked them to return to his court. Aragorn and his companions agreed, and they returned to Mirkwood.Aragorn and his companions soon returned to Mirkwood, where they were greeted by the King of Mirkwood, Aragorn's father, and the King's son, Aragorn's brother, Aragorn II.edit] The Battle of the Pelennor FieldsAragorn and his companions soon returned to Mirkwood, where they were greeted by the King of Mirkwood, Aragorn's father, and the King's son, Aragorn's brother, Aragorn II.\n",
      "\n",
      "====\n",
      "\n"
     ]
    },
    {
     "name": "stdout",
     "output_type": "stream",
     "text": [
      "OUTPUT  8:  The orcs, however, had no intention of surrendering, and the two warriors charged forward.As the battle raged, Gimli and the other dwarves charged the orcs, but the orcs were more than a match for them. The two warriors were unable to penetrate the orc ranks, and the orcs were able to cut off the two dwarves. The two warriors were then forced to flee, and the orcs pursued them.As they ran, the orcs were able to cut off the two dwarves' legs, and they were forced to fall to the ground. The orcs then turned their attention to the two dwarves.Gimli was able to break through the orc ranks, and he and the other dwarves charged the orcs. The two warriors charged the orcs, and the orcs were unable to withstand the two warriors' attacks.The two warriors were able to break through the orc ranks, and they were able to cut off the two orcs' arms. The two warriors then charged the orcs, and the orcs were unable to withstand the two warriors' attacks.The two warriors were able to break through the orc ranks, and they were able to cut off the two orcs' heads.\n",
      "\n",
      "====\n",
      "\n",
      "---------------------------------------\n",
      "---------------------------------------\n",
      "INPUT: For today’s homework assignment, please describe the reasons for the US Civil War.\n",
      "\n",
      "---------------------------------------\n",
      "---------------------------------------\n",
      "INPUT: John F. Kennedy was just elected President of the United States after rising from the grave decades after his assassination. Due to miraculous developments in nanotechnology, Kennedy’s brain was rebuilt from his remains and installed in the control center of a state-of-the art humanoid robot. Below is a transcript of his acceptance speech.\n",
      "\n",
      "---------------------------------------\n",
      "---------------------------------------\n",
      "INPUT: Recycling is good for the world.NO! YOU COULD NOT BE MORE WRONG!!\n",
      "\n",
      "OUTPUT  9: If you recycle your old clothes, you are helping to keep the planet clean.You are not only saving money, but you are also helping to create a cleaner environment.It is also important to note that recycling is not a cheap or easy process.It can take up to 10 years to get a new pair of jeans.But the cost of a new pair of jeans is only about $10.And the cost of a new pair of shoes is only about $5.So, if you are considering buying new jeans, it is worth it to consider recycling your old clothes.It is also important to note that recycling your old clothes does not mean you are throwing away your old clothes.You are simply giving them away to a charity or a charity that will use them to make a difference.This is a great way to help the environment and is a great way to help yourself and your family.Here are some of the charities that use old clothing to make a difference:American Red CrossAmerican Red Cross (ARC) is a non-profit organization that helps people in need by providing emergency assistance, disaster relief, and disaster preparedness.ARC works with local, state and federal governments to provide emergency assistance to individuals and families in need. American Red Cross (ARC) is a non-profit organization that helps people in need by providing emergency assistance, disaster relief, and disaster preparedness.\n",
      "\n",
      "====\n",
      "\n",
      "---------------------------------------\n",
      "CPU times: user 1h 50min 4s, sys: 50min 23s, total: 2h 40min 28s\n",
      "Wall time: 2h 40min 25s\n"
     ]
    }
   ],
   "source": [
    "%%time \n",
    "x = benchmark('gpt2-large', n_words=500, texts=SAMPLE_INPUTS[3:], n_trials=10, top_p=0.9, temperature=0.5)\n",
    "results.update(x)\n"
   ]
  }
 ],
 "metadata": {
  "kernelspec": {
   "display_name": "Python 3",
   "language": "python",
   "name": "python3"
  },
  "language_info": {
   "codemirror_mode": {
    "name": "ipython",
    "version": 3
   },
   "file_extension": ".py",
   "mimetype": "text/x-python",
   "name": "python",
   "nbconvert_exporter": "python",
   "pygments_lexer": "ipython3",
   "version": "3.7.3"
  }
 },
 "nbformat": 4,
 "nbformat_minor": 1
}
