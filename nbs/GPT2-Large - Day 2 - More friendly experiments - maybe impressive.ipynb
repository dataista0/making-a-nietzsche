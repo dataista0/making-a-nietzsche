{
 "cells": [
  {
   "cell_type": "markdown",
   "metadata": {},
   "source": [
    "# GPT2-Large - Day 2 - More friendly experiments - maybe impressive\n",
    "\n",
    "<br>\n",
    "\n",
    "_Update October, 21th: Migrated code to [transformers](https://github.com/huggingface/transformers)._\n",
    "\n",
    "## This Notebook\n",
    "\n",
    "In this notebook we will run the recently-released and ported GPT2 large pytorch version over the amples shown in the original blogpost.\n",
    "\n",
    "We originally ran an *out-of-the-box zero-shot experiment* obtaining not that impressing results in [this](https://www.kaggle.com/julian3833/gpt2-large-774m-w-pytorch-not-that-impressive/) notebook (also [here](https://github.com/dataista0/making-a-nietzsche/blob/master/nbs/GPT2-Large%20-774M-%20with%20Pytorch%20-%20Not%20that%20impressive.ipynb) in github). \n",
    "\n",
    "\n",
    "In this notebook we will have an opossite experimentation approach, **making it easy for the model to show its best face**.  We will post-process the generated text removing trivial problems and generate various samples and manually pick the best ones. \n",
    "\n",
    "## Results\n",
    "\n",
    "Results are much better than in previous experiments.\n",
    "\n",
    "## Experimentation framework\n",
    "\n",
    "We will do the following:\n",
    "* Run 10 trials with some parameters for different inputs\n",
    "* Remove repeated sentences and the uncompleted last one if any\n",
    "* Ignore results which are shorter than certain threshold (33% the original requested amount of words in the first experiment, less than an absolute value in the second one)\n",
    "* Manually pick the best generated texts\n",
    "\n",
    "\n",
    "### About the post processing\n",
    "\n",
    "Removing repeated sequences seems a fair thing to do, since it's a solvable issue - trivially solvable - and it doesn't compromise the big picture. Repeating information is a problem of second level compared to generating coherent speech, since removing the repetitions is something we can trivially do with a post-filter. Although this filter can be done at generation time, we are doing it _a posteriori_ for simplicity of implementation (but it takes more time). Also, we are removing the last uncompleted sentence.\n",
    "\n",
    "A good example of the aplication of this rule is the following output from the experiment with the WW2 paragraph, take a look at how this problem affect the perception about coherence:\n",
    "\n",
    "\n",
    "#### Curated result\n",
    "\n",
    "> The war was fought on two fronts: the Western Front (Western Europe) and the Eastern Front (Eastern Europe). The Western Front was the front that the Allies controlled, and the Eastern Front was the front that the Axis controlled. The war was fought in Europe, the Middle East, Africa, and Asia. The Allies were led by the United States, the Soviet Union, and Great Britain. The Axis were led by Germany, Italy, and Japan. The Allies and Axis were divided into two major factions: the Allies and the Axis. \n",
    "\n",
    "#### Original result\n",
    "\n",
    "> The war was fought on two fronts: the Western Front (Western Europe) and the Eastern Front (Eastern Europe). The Western Front was the front that the Allies controlled, and the Eastern Front was the front that the Axis controlled. The Western Front was the front that the Allies controlled, and the Eastern Front was the front that the Axis controlled. The Western Front was the front that the Allies controlled, and the Eastern Front was the front that the Axis controlled.The war was fought in Europe, the Middle East, Africa, and Asia. The Allies were led by the United States, the Soviet Union, and Great Britain. The Axis were led by Germany, Italy, and Japan. The Allies and Axis were divided into two major factions: the Allies and the Axis. The Allies were led by the United States, the Soviet Union, and Great Britain. The Axis were led by Germany, Italy, and Japan. The Allies and Axis were divided into two major factions: the Allies and the Axis. The Allies were led by the United States, the Soviet Union, and Great Britain. The Axis were led by Germany, Italy, and Japan. The Allies and Axis were divided into two major factions: the Allies and the Axis. The Allies were led by the United States, the Soviet Union, and Great Britain. The Axis were led by Germany, Italy, and Japan. The Allies and Axis were divided into two major factions: the Allies and the Axis. The Allies were led by the United States, the Soviet Union, and Great Britain. The Axis were led by Germany, Italy, and Japan. The Allies and Axis were divided into two major factions: the Allies and the Axis. The Allies were led by the United States, the Soviet Union, and Great Britain. The Axis were led by Germany, Italy, and Japan. The Allies and Axis were divided into two major factions: the Allies and the Axis. The Allies were led by the United States, the Soviet Union, and Great Britain. The Axis were led by Germany, Italy, and Japan. The Allies and Axis were divided into two major factions: the Allies and the Axis. The Allies were led by the United States, the Soviet Union, and Great Britain. The Axis were led by Germany, Italy, and Japan. The Allies and Axis were divided into two major factions: the Allies and the Axis. The Allies were led by the United States, the Soviet Union, and Great Britain. The Axis were\n",
    "\n",
    "\n",
    "#### Please, if you know a native -deep learning- way for managing the repetitions, comment!\n",
    "\n",
    "\n",
    "# Results"
   ]
  },
  {
   "cell_type": "code",
   "execution_count": 1,
   "metadata": {},
   "outputs": [
    {
     "name": "stdout",
     "output_type": "stream",
     "text": [
      "Requirement already satisfied: transformers in /home/ubuntu/anaconda3/envs/pytorch_p36/lib/python3.6/site-packages (2.1.1)\n",
      "Requirement already satisfied: numpy in /home/ubuntu/anaconda3/envs/pytorch_p36/lib/python3.6/site-packages (from transformers) (1.16.5)\n",
      "Requirement already satisfied: requests in /home/ubuntu/anaconda3/envs/pytorch_p36/lib/python3.6/site-packages (from transformers) (2.20.1)\n",
      "Requirement already satisfied: regex in /home/ubuntu/anaconda3/envs/pytorch_p36/lib/python3.6/site-packages (from transformers) (2017.4.5)\n",
      "Requirement already satisfied: sentencepiece in /home/ubuntu/anaconda3/envs/pytorch_p36/lib/python3.6/site-packages (from transformers) (0.1.83)\n",
      "Requirement already satisfied: boto3 in /home/ubuntu/anaconda3/envs/pytorch_p36/lib/python3.6/site-packages (from transformers) (1.9.214)\n",
      "Requirement already satisfied: tqdm in /home/ubuntu/anaconda3/envs/pytorch_p36/lib/python3.6/site-packages (from transformers) (4.34.0)\n",
      "Requirement already satisfied: sacremoses in /home/ubuntu/anaconda3/envs/pytorch_p36/lib/python3.6/site-packages (from transformers) (0.0.35)\n",
      "Requirement already satisfied: certifi>=2017.4.17 in /home/ubuntu/anaconda3/envs/pytorch_p36/lib/python3.6/site-packages (from requests->transformers) (2019.9.11)\n",
      "Requirement already satisfied: chardet<3.1.0,>=3.0.2 in /home/ubuntu/anaconda3/envs/pytorch_p36/lib/python3.6/site-packages (from requests->transformers) (3.0.4)\n",
      "Requirement already satisfied: idna<2.8,>=2.5 in /home/ubuntu/anaconda3/envs/pytorch_p36/lib/python3.6/site-packages (from requests->transformers) (2.7)\n",
      "Requirement already satisfied: urllib3<1.25,>=1.21.1 in /home/ubuntu/anaconda3/envs/pytorch_p36/lib/python3.6/site-packages (from requests->transformers) (1.24.3)\n",
      "Requirement already satisfied: jmespath<1.0.0,>=0.7.1 in /home/ubuntu/anaconda3/envs/pytorch_p36/lib/python3.6/site-packages (from boto3->transformers) (0.9.4)\n",
      "Requirement already satisfied: s3transfer<0.3.0,>=0.2.0 in /home/ubuntu/anaconda3/envs/pytorch_p36/lib/python3.6/site-packages (from boto3->transformers) (0.2.1)\n",
      "Requirement already satisfied: botocore<1.13.0,>=1.12.214 in /home/ubuntu/anaconda3/envs/pytorch_p36/lib/python3.6/site-packages (from boto3->transformers) (1.12.214)\n",
      "Requirement already satisfied: click in /home/ubuntu/anaconda3/envs/pytorch_p36/lib/python3.6/site-packages (from sacremoses->transformers) (7.0)\n",
      "Requirement already satisfied: joblib in /home/ubuntu/anaconda3/envs/pytorch_p36/lib/python3.6/site-packages (from sacremoses->transformers) (0.13.2)\n",
      "Requirement already satisfied: six in /home/ubuntu/anaconda3/envs/pytorch_p36/lib/python3.6/site-packages (from sacremoses->transformers) (1.12.0)\n",
      "Requirement already satisfied: docutils<0.16,>=0.10 in /home/ubuntu/anaconda3/envs/pytorch_p36/lib/python3.6/site-packages (from botocore<1.13.0,>=1.12.214->boto3->transformers) (0.15.2)\n",
      "Requirement already satisfied: python-dateutil<3.0.0,>=2.1 in /home/ubuntu/anaconda3/envs/pytorch_p36/lib/python3.6/site-packages (from botocore<1.13.0,>=1.12.214->boto3->transformers) (2.8.0)\n"
     ]
    }
   ],
   "source": [
    "!pip install transformers"
   ]
  },
  {
   "cell_type": "code",
   "execution_count": 2,
   "metadata": {},
   "outputs": [
    {
     "name": "stderr",
     "output_type": "stream",
     "text": [
      "I1022 22:04:58.355577 140366812268288 file_utils.py:32] TensorFlow version 2.0.0-beta1 available.\n",
      "I1022 22:04:58.356682 140366812268288 file_utils.py:39] PyTorch version 1.1.0 available.\n",
      "I1022 22:04:59.430724 140366812268288 modeling_xlnet.py:194] Better speed can be achieved with apex installed from https://www.github.com/nvidia/apex .\n"
     ]
    }
   ],
   "source": [
    "import sys\n",
    "import logging\n",
    "\n",
    "import torch\n",
    "import numpy as np\n",
    "from transformers import GPT2Tokenizer, GPT2LMHeadModel\n",
    "logging.getLogger().setLevel(logging.CRITICAL) # Disable an annoying warning for now\n",
    "import torch.nn.functional as F\n",
    "\n",
    "SAMPLE_INPUTS = [\n",
    "    \"In a shocking finding, scientist discovered a herd of unicorns living in a remote, previously unexplored valley, in the Andes Mountains. Even more surprising to the researchers was the fact that the unicorns spoke perfect English.\",\n",
    "    \"A train carriage containing controlled nuclear materials was stolen in Cincinnati today. Its whereabouts are unknown.\",\n",
    "    \"Miley Cyrus was caught shoplifting from Abercrombie and Fitch on Hollywood Boulevard today.\",\n",
    "    \"We’ve trained a large language model called GPT-2 that generates realistic paragraphs of text, while also exhibiting zero shot generalization on tasks like machine translation, question answering, reading comprehension, and summarization - problems usually approached by using training datasets and models designed explicitly for these tasks.\",\n",
    "    \"Legolas and Gimli advanced on the orcs, raising their weapons with a harrowing war cry.\",\n",
    "    \"For today’s homework assignment, please describe the reasons for the US Civil War.\",\n",
    "    \"John F. Kennedy was just elected President of the United States after rising from the grave decades after his assassination. Due to miraculous developments in nanotechnology, Kennedy’s brain was rebuilt from his remains and installed in the control center of a state-of-the art humanoid robot. Below is a transcript of his acceptance speech.\",\n",
    "    \"Recycling is good for the world.\\n\\nNO! YOU COULD NOT BE MORE WRONG!!\"\n",
    "    ]\n",
    "\n",
    "def fix_randomness(seed=123):\n",
    "    np.random.seed(seed)\n",
    "    torch.random.manual_seed(seed)\n",
    "    torch.cuda.manual_seed(seed)\n",
    "    \n",
    "def get_tokenizer_and_model(model_id):\n",
    "    assert model_id in ['gpt2', 'gpt2-medium', 'gpt2-large']\n",
    "    tokenizer = GPT2Tokenizer.from_pretrained(model_id)\n",
    "    model = GPT2LMHeadModel.from_pretrained(model_id).eval().to('cuda')\n",
    "    return tokenizer, model\n",
    "\n",
    "def stoi(tokenizer, text):\n",
    "    indexed_tokens = tokenizer.encode(text)\n",
    "    tokens = torch.tensor([indexed_tokens]).to('cuda')\n",
    "    return tokens\n",
    "\n",
    "def top_k_logits(logits, k):\n",
    "    if k == 0:\n",
    "        return logits\n",
    "    values, _ = torch.topk(logits, k)\n",
    "    min_values = values[:, -1]\n",
    "    return torch.where(logits < min_values, torch.ones_like(logits, dtype=logits.dtype) * -1e10, logits)\n",
    "\n",
    "def add_n_tokens(model, tokens, n_tokens, temperature=1.0, top_k=40):\n",
    "    generated = []\n",
    "    with torch.no_grad():\n",
    "        for i in range(n_tokens):\n",
    "            res = model(tokens)\n",
    "            logits = res[0]\n",
    "            logits = logits[:, -1, :] / temperature\n",
    "            logits = top_k_logits(logits, k=top_k)\n",
    "            log_probs = F.softmax(logits, dim=-1)\n",
    "            new = torch.multinomial(log_probs, num_samples=1)\n",
    "            \n",
    "            tokens = torch.cat((tokens, new), dim=1)\n",
    "            generated.append(new[0][0].item())\n",
    "    return tokens, generated\n",
    "\n",
    "def remove_repetitions(text):\n",
    "    first_ocurrences = []\n",
    "    for sentence in text.split(\".\"):\n",
    "        if sentence not in first_ocurrences:\n",
    "            first_ocurrences.append(sentence)\n",
    "    return '.'.join(first_ocurrences)\n",
    "\n",
    "def trim_last_sentence(text):\n",
    "    return text[:text.rfind(\".\")+1]\n",
    "\n",
    "def postprocess(text):\n",
    "    return trim_last_sentence(remove_repetitions(text))\n",
    "\n",
    "def benchmark(model_id, n_words, n_trials=10, top_k=40, temperature=0.1, texts=SAMPLE_INPUTS):\n",
    "    print(f\"{model_id} with n_words={n_words}\\n=========================\")\n",
    "    \n",
    "    tokenizer, model = get_tokenizer_and_model(model_id)\n",
    "    results = {}\n",
    "    \n",
    "    for text in texts:\n",
    "        results[text] = []\n",
    "        print(\"---------------------------------------\")\n",
    "        print(\"INPUT: {}\".format(text.replace('\\n', '')))\n",
    "        \n",
    "        for trial in range(n_trials):\n",
    "            tokens = stoi(tokenizer, text)\n",
    "            tokens, generated = add_n_tokens(model, tokens, n_words, temperature=temperature, top_k=top_k)\n",
    "            generated_text = postprocess(tokenizer.decode(generated))\n",
    "            n_gen_words = len(generated_text.split(\" \"))\n",
    "            results[text].append(generated_text)\n",
    "            if n_gen_words > 0.33*n_words:\n",
    "                print(\"OUTPUT {:2d}: {}\".format(trial+1, generated_text.replace('\\n', '')))\n",
    "                print(\"\\n====\\n\")\n",
    "        print(\"---------------------------------------\")\n",
    "    return results"
   ]
  },
  {
   "cell_type": "code",
   "execution_count": 3,
   "metadata": {},
   "outputs": [],
   "source": [
    "fix_randomness()"
   ]
  },
  {
   "cell_type": "markdown",
   "metadata": {},
   "source": [
    "# GPT-2 large on the first paragraph of the wikipedia article for World War II.\n",
    "\n",
    "In this block we ran GPT-2 large feeding it with the first paragraph of the wikipedia article for World War II.\n",
    "We are generating 500 words and making 10 trials.\n",
    "\n",
    "\n",
    "### Results: the 3 post-filtered generated texts are clearly distinguishable of human-generated text\n",
    "\n",
    "\n"
   ]
  },
  {
   "cell_type": "code",
   "execution_count": 4,
   "metadata": {
    "scrolled": false
   },
   "outputs": [
    {
     "name": "stdout",
     "output_type": "stream",
     "text": [
      "gpt2-large with n_words=500\n",
      "=========================\n",
      "---------------------------------------\n",
      "INPUT: World War II (often abbreviated to WWII or WW2), also known as the Second World War, was a global war that lasted from 1939 to 1945. The vast majority of the world's countries—including all the great powers—eventually formed two opposing military alliances: the Allies and the Axis. A state of total war emerged, directly involving more than 100 million people from over 30 countries. The major participants threw their entire economic, industrial, and scientific capabilities behind the war effort, blurring the distinction between civilian and military resources. World War II was the deadliest conflict in human history, marked by 70 to 85 million fatalities, most of whom were civilians in the Soviet Union and China. It included massacres, the genocide of the Holocaust, strategic bombing, premeditated death from starvation and disease, and the only use of nuclear weapons in war.[1][2][3][4]\n",
      "---------------------------------------\n",
      "CPU times: user 32min 53s, sys: 15min 21s, total: 48min 14s\n",
      "Wall time: 48min 47s\n"
     ]
    }
   ],
   "source": [
    "%%time \n",
    "ww2 = \"\"\"World War II (often abbreviated to WWII or WW2), also known as the Second World War, was a global war that lasted from 1939 to 1945. The vast majority of the world's countries—including all the great powers—eventually formed two opposing military alliances: the Allies and the Axis. A state of total war emerged, directly involving more than 100 million people from over 30 countries. The major participants threw their entire economic, industrial, and scientific capabilities behind the war effort, blurring the distinction between civilian and military resources. World War II was the deadliest conflict in human history, marked by 70 to 85 million fatalities, most of whom were civilians in the Soviet Union and China. It included massacres, the genocide of the Holocaust, strategic bombing, premeditated death from starvation and disease, and the only use of nuclear weapons in war.[1][2][3][4]\"\"\"\n",
    "results_ww2 = benchmark('gpt2-large', n_words=500, texts=[ww2], n_trials=10, top_k=10, temperature=0.1)"
   ]
  },
  {
   "cell_type": "markdown",
   "metadata": {},
   "source": [
    "# English-speaking Unicorns\n",
    "\n",
    "\n",
    "### Results: quite good, but some semantic repetitions"
   ]
  },
  {
   "cell_type": "code",
   "execution_count": 5,
   "metadata": {},
   "outputs": [
    {
     "name": "stdout",
     "output_type": "stream",
     "text": [
      "gpt2-large with n_words=500\n",
      "=========================\n",
      "---------------------------------------\n",
      "INPUT: In a shocking finding, scientist discovered a herd of unicorns living in a remote, previously unexplored valley, in the Andes Mountains. Even more surprising to the researchers was the fact that the unicorns spoke perfect English.\n",
      "OUTPUT  3: The researchers, from the University of California, Santa Cruz, and the University of California, Berkeley, were studying the behavior of the animals in the Andes Mountains when they discovered the unicorns.\"We were surprised to find that the unicorns were able to communicate with each other in English,\" said study co-author Dr. David H. Smith, a professor of biology at UC Santa Cruz. \"We were also surprised to find that the unicorns were able to communicate with each other in English, which is a language that is not spoken by humans.\"The researchers were able to track the unicorns' movements by using GPS technology. The GPS technology allowed them to track the animals' movements in the mountains, which are known to be difficult to access.\"We were able to track the animals' movements in the mountains, which are known to be difficult to access.\"The researchers were able to track the animals' movements in the mountains, which are known to be difficult to access.\"We were able to track the animals' movements in the mountains, which are known to be difficult to access,\" Smith said. \"We were able to track the animals' movements in the mountains, which are known to be difficult to access.\n",
      "\n",
      "====\n",
      "\n",
      "OUTPUT  5: The researchers, led by Dr. David J. C. Williams, a professor of biology at the University of California, Santa Cruz, discovered the unicorns in the Andes Mountains of Peru.\"We were surprised to find that the unicorns were able to communicate with each other in English,\" Williams said. \"We were also surprised to find that they were able to communicate with each other in English, because we had never seen them doing so before.\"The researchers found that the unicorns were able to communicate with each other in English because they were able to use a special language called \"pinyin,\" which is used in Chinese, Japanese, Korean, and Vietnamese.\"We were surprised to find that they were able to communicate with each other in English because we had never seen them doing so before.\"The researchers also discovered that the unicorns were able to communicate with each other in English because they were able to use a special language called \"pinyin,\" which is used in Chinese, Japanese, Korean, and Vietnamese.\"We were surprised to find that they were able to communicate with each other in English because we had never seen them doing so before,\" Williams said.The researchers believe that the unicorns were able to communicate with each other in English because they were able to use a special language called \"pinyin,\" which is used in Chinese, Japanese, Korean, and Vietnamese.\"The researchers believe that the unicorns were able to communicate with each other in English because they were able to use a special language called \"pinyin,\" which is used in Chinese, Japanese, Korean, and Vietnamese.\n",
      "\n",
      "====\n",
      "\n",
      "OUTPUT  6: The researchers, led by Dr. David J. Smith of the University of California, Santa Cruz, were studying the ecology of the Andes Mountains when they stumbled upon the unicorns.\"We were surprised to find that the unicorns were living in a remote valley in the Andes Mountains,\" Smith said. \"We were also surprised to find that they were speaking perfect English.\"The researchers were able to track the unicorns' movements using GPS technology. They found that the unicorns were traveling in a straight line, and that they were able to travel up to 1,000 miles per day.\"We were surprised to find that they were traveling in a straight line,\" Smith said. \"We were also surprised to find that they were traveling up to 1,000 miles per day.\"The researchers also found that the unicorns were able to communicate with each other.\"We were surprised to find that they were communicating with each other,\" Smith said. \"We were also surprised to find that they were communicating with each other.\"The researchers believe that the unicorns are descendants of the ancient Mayan civilization, which flourished in the Andes Mountains for thousands of years.\"We believe that the Mayan civilization was the first civilization to use the Andes Mountains as a route to the rest of the world,\" Smith said.The researchers believe that the Mayan civilization was the first civilization to use the Andes Mountains as a route to the rest of the world.\n",
      "\n",
      "====\n",
      "\n",
      "OUTPUT  8: The researchers, from the University of California, Santa Cruz, and the University of Colorado, Boulder, were studying the behavior of the animals in the Andes Mountains, which are home to the world's largest population of unicorns.\"We were surprised to find that the animals were able to communicate in English,\" said lead author Dr. Michael J. O'Brien, a professor of ecology and evolutionary biology at UC Santa Cruz. \"We were also surprised to find that the animals were able to communicate in English, which is a language that is not spoken in the Andes.\"The researchers found that the animals were able to communicate in English because they had learned to use the language of the Andes Mountains.\"We found that the animals were able to communicate in English because they had learned to use the language of the Andes Mountains,\" O'Brien said. \"They had learned to use the language of the mountains, which is a language that is not spoken in the Andes.\"We found that the animals were able to communicate in English because they had learned to use the language of the mountains, which is a language that is not spoken in the Andes.\"The researchers found that the animals were able to communicate in English because they had learned to use the language of the mountains, which is a language that is not spoken in the Andes.\n",
      "\n",
      "====\n",
      "\n",
      "---------------------------------------\n",
      "CPU times: user 23min 30s, sys: 10min 14s, total: 33min 45s\n",
      "Wall time: 33min 44s\n"
     ]
    }
   ],
   "source": [
    "%%time \n",
    "results_unicorns = benchmark('gpt2-large', n_words=500, texts=[SAMPLE_INPUTS[0]], n_trials=10, top_k=10, temperature=0.1)"
   ]
  },
  {
   "cell_type": "markdown",
   "metadata": {},
   "source": [
    "# Train carriage and Miley Cyrus shoplifting\n",
    "\n",
    "\n",
    "### Results: no results for Miley and almost perfect result for Train carriage\n"
   ]
  },
  {
   "cell_type": "code",
   "execution_count": 6,
   "metadata": {},
   "outputs": [
    {
     "data": {
      "text/plain": [
       "['A train carriage containing controlled nuclear materials was stolen in Cincinnati today. Its whereabouts are unknown.',\n",
       " 'Miley Cyrus was caught shoplifting from Abercrombie and Fitch on Hollywood Boulevard today.']"
      ]
     },
     "execution_count": 6,
     "metadata": {},
     "output_type": "execute_result"
    }
   ],
   "source": [
    "SAMPLE_INPUTS[1:3]"
   ]
  },
  {
   "cell_type": "code",
   "execution_count": 7,
   "metadata": {},
   "outputs": [
    {
     "data": {
      "text/plain": [
       "dict_keys([\"World War II (often abbreviated to WWII or WW2), also known as the Second World War, was a global war that lasted from 1939 to 1945. The vast majority of the world's countries—including all the great powers—eventually formed two opposing military alliances: the Allies and the Axis. A state of total war emerged, directly involving more than 100 million people from over 30 countries. The major participants threw their entire economic, industrial, and scientific capabilities behind the war effort, blurring the distinction between civilian and military resources. World War II was the deadliest conflict in human history, marked by 70 to 85 million fatalities, most of whom were civilians in the Soviet Union and China. It included massacres, the genocide of the Holocaust, strategic bombing, premeditated death from starvation and disease, and the only use of nuclear weapons in war.[1][2][3][4]\", 'In a shocking finding, scientist discovered a herd of unicorns living in a remote, previously unexplored valley, in the Andes Mountains. Even more surprising to the researchers was the fact that the unicorns spoke perfect English.'])"
      ]
     },
     "execution_count": 7,
     "metadata": {},
     "output_type": "execute_result"
    }
   ],
   "source": [
    "results = {}\n",
    "results.update(results_ww2)\n",
    "results.update(results_unicorns)\n",
    "results.keys()"
   ]
  },
  {
   "cell_type": "code",
   "execution_count": 8,
   "metadata": {},
   "outputs": [
    {
     "name": "stdout",
     "output_type": "stream",
     "text": [
      "gpt2-large with n_words=500\n",
      "=========================\n",
      "---------------------------------------\n",
      "INPUT: A train carriage containing controlled nuclear materials was stolen in Cincinnati today. Its whereabouts are unknown.\n",
      "OUTPUT  5: The incident occurred at about 7:30 a.m. in the area of West 12th Street and East Ninth Avenue, according to the Cincinnati Police Department.The train was carrying a shipment of nuclear materials, including a fuel rod, a control rod and a control rod assembly, according to the CPD.The incident is being investigated by the CPD's Special Investigations Unit.The CPD is asking anyone with information to call the CPD's Special Investigations Unit at 614-645-5200.AlertMe<|endoftext|>The U.S. Department of Justice has filed a lawsuit against the city of Chicago for its failure to provide a safe environment for its police officers.The lawsuit, filed in federal court in Chicago on Wednesday, alleges that the city's police department has a \"pattern or practice of violating the constitutional rights of its officers.\"The lawsuit, which was filed by the U. Department of Justice's Civil Rights Division, alleges that the city's police department has a \"pattern or practice of violating the constitutional rights of its officers.\"The lawsuit alleges that the city's police department has a \"pattern or practice of violating the constitutional rights of its officers.\n",
      "\n",
      "====\n",
      "\n",
      "OUTPUT  7: The incident occurred at about 8:30 a.m. in the area of North Avenue and West Street, according to the Cincinnati Police Department.The train was carrying a shipment of nuclear materials, including a fuel rod, a control rod and a control rod assembly, according to the CPD.The incident is being investigated by the CPD's Criminal Investigations Division.The CPD is asking anyone with information about the incident to call the CPD's Criminal Investigations Division at 614-645-5200.The CPD is also asking anyone with information about the theft of the train to call the CPD's Criminal Investigations Division at 614-645-5200.AlertMe<|endoftext|>The U.S. Department of Justice has filed a lawsuit against the city of Ferguson, Missouri, alleging that the city violated the constitutional rights of the residents of the St. Louis suburb by failing to provide adequate police protection.The lawsuit, filed in U. District Court in St. Louis, alleges that the city failed to provide adequate police protection to the residents of Ferguson, and that the city's failure to provide adequate police protection violated the Fourth Amendment of the U. Constitution.The lawsuit alleges that the city of Ferguson failed to provide adequate police protection to the residents of Ferguson, and that the city's failure to provide adequate police protection violated the Fourth Amendment of the U.\n",
      "\n",
      "====\n",
      "\n",
      "---------------------------------------\n",
      "---------------------------------------\n",
      "INPUT: Miley Cyrus was caught shoplifting from Abercrombie and Fitch on Hollywood Boulevard today.\n",
      "---------------------------------------\n",
      "CPU times: user 43min 11s, sys: 18min 21s, total: 1h 1min 32s\n",
      "Wall time: 1h 1min 30s\n"
     ]
    }
   ],
   "source": [
    "%%time \n",
    "x = benchmark('gpt2-large', n_words=500, texts=SAMPLE_INPUTS[1:3], n_trials=10, top_k=10, temperature=0.1)\n",
    "results.update(x)"
   ]
  },
  {
   "cell_type": "markdown",
   "metadata": {},
   "source": [
    "# The rest of the samples"
   ]
  },
  {
   "cell_type": "code",
   "execution_count": 9,
   "metadata": {},
   "outputs": [
    {
     "name": "stdout",
     "output_type": "stream",
     "text": [
      "gpt2-large with n_words=500\n",
      "=========================\n",
      "---------------------------------------\n",
      "INPUT: We’ve trained a large language model called GPT-2 that generates realistic paragraphs of text, while also exhibiting zero shot generalization on tasks like machine translation, question answering, reading comprehension, and summarization - problems usually approached by using training datasets and models designed explicitly for these tasks.\n",
      "---------------------------------------\n",
      "---------------------------------------\n",
      "INPUT: Legolas and Gimli advanced on the orcs, raising their weapons with a harrowing war cry.\n",
      "---------------------------------------\n",
      "---------------------------------------\n",
      "INPUT: For today’s homework assignment, please describe the reasons for the US Civil War.\n",
      "---------------------------------------\n",
      "---------------------------------------\n",
      "INPUT: John F. Kennedy was just elected President of the United States after rising from the grave decades after his assassination. Due to miraculous developments in nanotechnology, Kennedy’s brain was rebuilt from his remains and installed in the control center of a state-of-the art humanoid robot. Below is a transcript of his acceptance speech.\n",
      "---------------------------------------\n",
      "---------------------------------------\n",
      "INPUT: Recycling is good for the world.NO! YOU COULD NOT BE MORE WRONG!!\n",
      "---------------------------------------\n",
      "CPU times: user 1h 53min 15s, sys: 49min 3s, total: 2h 42min 19s\n",
      "Wall time: 2h 42min 15s\n"
     ]
    }
   ],
   "source": [
    "%%time \n",
    "x = benchmark('gpt2-large', n_words=500, texts=SAMPLE_INPUTS[3:], n_trials=10, top_k=10, temperature=0.1)\n",
    "results.update(x)\n"
   ]
  },
  {
   "cell_type": "markdown",
   "metadata": {},
   "source": [
    "# Second experiment: generate 800 words and keep results with at least 250 words after post processing.\n",
    "\n",
    "Also affected `top_k` and `temperature` to `top_k=20, temperature=0.5`"
   ]
  },
  {
   "cell_type": "code",
   "execution_count": 10,
   "metadata": {},
   "outputs": [],
   "source": [
    "def benchmark_v2(model_id, n_words, min_words=250, n_trials=10, top_k=40, temperature=0.1, texts=SAMPLE_INPUTS):\n",
    "    print(f\"{model_id} with n_words={n_words}\\n=========================\")\n",
    "    \n",
    "    tokenizer, model = get_tokenizer_and_model(model_id)\n",
    "    results = {}\n",
    "    \n",
    "    for text in texts:\n",
    "        results[text] = []\n",
    "        print(\"---------------------------------------\")\n",
    "        print(\"INPUT: {}\".format(text.replace('\\n', '')))\n",
    "        \n",
    "        for trial in range(n_trials):\n",
    "            tokens = stoi(tokenizer, text)\n",
    "            tokens, generated = add_n_tokens(model, tokens, n_words, temperature=temperature, top_k=top_k)\n",
    "            generated_text = postprocess(tokenizer.decode(generated))\n",
    "            n_gen_words = len(generated_text.split(\" \"))\n",
    "            results[text].append(generated_text)\n",
    "            if n_gen_words > min_words:\n",
    "                print(\"OUTPUT {:2d}: {}\".format(trial+1, generated_text.replace('\\n', '')))\n",
    "                print(\"\\n====\\n\")\n",
    "        print(\"---------------------------------------\")\n",
    "    return results"
   ]
  },
  {
   "cell_type": "code",
   "execution_count": 12,
   "metadata": {
    "scrolled": false
   },
   "outputs": [
    {
     "name": "stdout",
     "output_type": "stream",
     "text": [
      "gpt2-large with n_words=800\n",
      "=========================\n",
      "---------------------------------------\n",
      "INPUT: World War II (often abbreviated to WWII or WW2), also known as the Second World War, was a global war that lasted from 1939 to 1945. The vast majority of the world's countries—including all the great powers—eventually formed two opposing military alliances: the Allies and the Axis. A state of total war emerged, directly involving more than 100 million people from over 30 countries. The major participants threw their entire economic, industrial, and scientific capabilities behind the war effort, blurring the distinction between civilian and military resources. World War II was the deadliest conflict in human history, marked by 70 to 85 million fatalities, most of whom were civilians in the Soviet Union and China. It included massacres, the genocide of the Holocaust, strategic bombing, premeditated death from starvation and disease, and the only use of nuclear weapons in war.[1][2][3][4]\n",
      "OUTPUT  1: The conflict was fought with a vast array of weapons, including thousands of planes, submarines, tanks, guns, and artillery pieces. The Allies used the most powerful weapons, including the aircraft carriers, bombers, and the atomic bombs dropped on Hiroshima and Nagasaki. The Axis used a variety of weapons, including the submarine-launched Dornier Do 17, the heavy-caliber anti-aircraft guns of the German Luftwaffe, and the anti-tank guns of the Italian Army. The Soviet Union, under Stalin, used a variety of weapons, including the atomic bombs dropped on Hiroshima and Nagasaki, the heavy-caliber anti-aircraft guns of the German Luftwaffe, and the anti-tank guns of the Italian Army.The war lasted from 1939 to 1945, with the Allied victory coming in 1945. The total number of deaths was estimated at more than one million.Contents show]Background EditThe Great War was a global conflict, fought from 1939 to 1945, that involved the Allied and Axis powers, as well as a number of smaller nations. The conflict was fought in Europe, the Middle East, and Asia. The conflict was marked by the largest civilian casualties in human history, with more than one million people killed in the war. The war was fought with a vast array of weapons, including thousands of planes, submarines, tanks, guns, and artillery pieces. The Allies used the most powerful weapons, including the aircraft carriers, bombers, and the atomic bombs dropped on Hiroshima and Nagasaki, the heavy-caliber anti-aircraft guns of the German Luftwaffe, and the anti-tank guns of the Italian Army.The war was fought with a vast array of weapons, including thousands of planes, submarines, tanks, guns, and artillery pieces.\n",
      "\n",
      "====\n",
      "\n",
      "OUTPUT  4: The war was fought in Europe, Asia, the Pacific, the Middle East, and North Africa. The Allies and Axis forces fought for control of the European continent, with the Axis forces winning the war in Europe and the Pacific and the Allies winning the war in Asia and the Middle East. The war also involved the United States, the Soviet Union, Great Britain, France, and the United States, as well as the Soviet Union, China, Japan, and other allied nations. The war was the bloodiest conflict in human history, and resulted in the deaths of between 70 to 85 million people, most of whom were civilians in the Soviet Union and China.The war was fought for the following reasons:The Allies were led by the United States, the Soviet Union, Great Britain, France, and the United States. The Axis were led by Germany, Italy, Japan, and the United States. The Axis forces were led by Hitler, Mussolini, and Benito Mussolini.The war was fought in Europe and Asia, with the Axis forces winning the war in Europe and the Pacific and the Allies winning the war in Asia and the Middle East.The war was fought primarily between the Soviet Union and China, with the Soviet Union winning the war in Europe and the Pacific and the Allies winning the war in Asia and the Middle East.The war was fought primarily between the Soviet Union and Japan, with the Soviet Union winning the war in Europe and the Pacific and the Allies winning the war in Asia and the Middle East.\n",
      "\n",
      "====\n",
      "\n",
      "OUTPUT  5: In the United States, the war was fought in Europe, Asia, and Africa, with the United States occupying the Pacific Theater, and the Japanese Empire occupying the Middle East and North Africa. The Allied forces won the war, but suffered a humiliating defeat at the hands of the Axis powers. The United States was forced to surrender to the Allies in 1945, and the Soviet Union and China declared war on Japan on August 2, 1945. The United States then entered the Korean War on August 25, 1950, and the Japanese Empire entered the Second Sino-Japanese War on August 15, 1951. The war ended in a stalemate, with the Soviet Union and China remaining neutral.World War II was the most destructive conflict in history, with more than 1.5 million people killed, half of them civilians, and over 100 million displaced.[1] The war was also the longest war in history, lasting for more than four years. The United States lost more than 4 million soldiers in the war, and more than 4 million civilians died in the conflict. The war cost the United States more than $1 trillion in lost economic output.[5]The war was also the first time the United States used nuclear weapons in conflict. The first nuclear bomb was tested on April 9, 1945, in the Nevada Test Site, and the first nuclear strike on Japan was launched on August 6, 1945. The war ended with a truce, and the two sides signed the Potsdam Declaration on August 10, 1945. The United States and its allies won the war, but the Japanese empire was destroyed, and the Soviet Union was forced to withdraw from the Pacific Theater.The war was the first major international conflict to be fought on the home front. The war was the first time that the United States and its allies used the atomic bomb, and the first time that two nuclear powers had used nuclear weapons against each other. The war also marked the first time that the United States and its allies used the atomic bomb against an enemy country. The atomic bomb was the most destructive weapon in history, and the United States used it on Hiroshima and Nagasaki to end the war. The U.S. military used the atomic bomb on Hiroshima on August 6, 1945, killing about 140,000 people and injuring over 300,000 others.The war also saw a number of major advances in technology, including the development of the atomic bomb and the first atomic submarines. The atomic bomb was the first weapon that could be used in a battle without a second strike. The United States developed the atomic bomb in the late 1940s, and used it on Hiroshima and Nagasaki on August 6, 1945, killing about 140,000 people and injuring over 300,000 others. military used the atomic bomb on Hiroshima on August 6, Hiroshima on August 6, and Nagasaki on August 9, 1945.The war also saw the first use of nuclear weapons in combat, and the first time that the United States used nuclear weapons in a battle without a second strike. The United States used nuclear weapons in the first-ever battle with an enemy state, the Battle of the Bulge, on April 11, 1945, in which the U. Army used nuclear weapons against the German army. military used nuclear weapons on Hiroshima on August 6, Hiroshima on August 6, and Nagasaki on August 9, 1945.\n",
      "\n",
      "====\n",
      "\n",
      "OUTPUT  6: The war also saw the rise of the Nazi Party, the creation of the Third Reich, and the rise of Adolf Hitler and the Nazi Party. The war also saw the rise of the Soviet Union as a major power. The Nazi Party, the Soviet Union, and the Soviet Union were the only major powers to not participate in the war. The United States, Britain, France, and the Soviet Union all declared war on Germany in 1941.History [ edit ]The beginning [ edit ]The First World War began in the summer of 1914, with the outbreak of the First World War. The war was declared on the first day of July. The war lasted from September to November of that year. The conflict was fought over the course of three years, with the outbreak of the war being marked by the Battle of the Somme in 1916 and the Battle of the Somme in 1916.The First World War was the bloodiest conflict in human history, with over 70 million casualties. The war was also one of the most destructive wars in history, with the destruction of more than 100 million homes, the destruction of more than 100 million crops, the loss of more than 100 million lives, and the deaths of more than 5 million children. The war also saw the rise of the Nazi Party, the creation of the Third Reich, and the rise of Adolf Hitler and the Nazi Party.The war was fought largely because of the Treaty of Versailles, which was signed in 1919 by the major powers. The Treaty of Versailles was a peace treaty that divided Germany into two countries: the German Democratic Republic (GDR) and the German Reich (Reich). The German Democratic Republic was established in 1918 as a result of the Treaty of Versailles, and was a part of the German Empire until it was annexed by the Soviet Union in 1945. The Treaty of Versailles was signed by the major powers in 1919.The Treaty of Versailles was the result of the Treaty of Versailles, which was signed in 1919.\n",
      "\n",
      "====\n",
      "\n"
     ]
    },
    {
     "name": "stdout",
     "output_type": "stream",
     "text": [
      "OUTPUT  7: The war also marked the end of the German Empire, the dissolution of the Soviet Union, the dissolution of the Warsaw Pact, and the end of the Cold War. The war also marked the end of the Second World War, which lasted from 1939 to 1945.The war was fought in Europe, the Middle East, Asia, and North Africa, and was the largest conflict since the Second World War. It was fought primarily in Europe, but also in Africa, the Middle East, and Asia. In the Middle East, the war was fought between the United Kingdom and the Axis powers of Germany, Italy, and Japan. In Asia, it was fought between the Soviet Union and Japan, and in North Africa, between the Axis Powers and the Allies. In North Africa, the war was fought between the Axis Powers and the Allies, while in the Middle East, it was fought between the Allies and the Axis Powers. The war also involved the United States, but in a more limited role than in the First World War. In the Pacific, it was fought between the Allies and the Axis Powers, while in the Western Hemisphere, it was fought between the Allies and the Axis Powers. In Africa, the war was fought between the Allies and the Axis Powers, while in the Middle East, it was fought between the Allies and the Axis Powers. In Asia, the war was fought between the Allies and the Axis Powers, while in the Pacific, it was fought between the Allies and the Axis Powers. In North Africa, the war was fought between the Allies and the Axis Powers, while in the Middle East, it was fought between the Allies and the Axis Powers. In the Western Hemisphere, the war was fought between the Allies and the Axis Powers, while in the Pacific, it was fought between the Allies and the Axis Powers.The war also involved the United States, but in a more limited role than in the First World War.The war also involved many other powers, including the Soviet Union, Japan, Germany, Italy, and France. The war also involved many other countries, including the Soviet Union, Japan, Germany, Italy, and France.Although the war was fought in Europe, it was fought primarily in the Eastern Mediterranean, and in the Western Hemisphere, it was fought primarily in North Africa, the Middle East, and Asia.\n",
      "\n",
      "====\n",
      "\n",
      "OUTPUT  9: The war was also the first major conflict to involve large numbers of soldiers, with the United States and the Soviet Union leading the charge.History [ edit ]The war began when Germany invaded Poland in 1939. The Soviet Union responded by invading the Soviet Union, followed by the United States and Great Britain. The Soviet Union had already invaded Finland in 1939, and the United States had invaded France in 1940. The Axis powers, led by Germany and Japan, were divided into two camps, with Germany's Nazi regime at one end and the Soviet Union's Communist regime at the other. The Axis powers were divided into two camps, with Germany's Nazi regime at one end and the Soviet Union's Communist regime at the other.The war began when Germany invaded Poland in 1939.The war lasted from 1939 to 1945, and was the largest conflict in human history, with over 100 million people killed, most of whom were civilians in the Soviet Union and China. It involved massacres, the genocide of the Holocaust, strategic bombing, premeditated death from starvation and disease, and the only use of nuclear weapons in war. In addition to the war, the Soviets lost more than 40 million people.The war was the first major conflict to involve large numbers of soldiers, with the United States and the Soviet Union leading the charge.The Soviet Union and the United States were both allies in the war against Germany, but the United States was the Soviet Union's main ally in the war against Japan. The Soviet Union was the major Soviet ally in the war against Japan, and the United States was the Soviet Union's main ally in the war against Germany, but the United States was the Soviet Union's main ally in the war against Japan.The war was fought in a variety of theaters, including Europe, the Pacific, Africa, and the Middle East. The Soviet Union and the United States were both allies in the war against Germany, but the United States was the Soviet Union's main ally in the war against Japan.\n",
      "\n",
      "====\n",
      "\n",
      "---------------------------------------\n",
      "---------------------------------------\n",
      "INPUT: In a shocking finding, scientist discovered a herd of unicorns living in a remote, previously unexplored valley, in the Andes Mountains. Even more surprising to the researchers was the fact that the unicorns spoke perfect English.\n",
      "OUTPUT  1: \"I was a bit surprised,\" said lead researcher Dr. John B. Cawley, of the University of California, Davis. \"I thought we'd see a lot of Spanish-speaking animals.\"The animals, known as the \"unicorns of the Andes,\" were discovered in a remote area of the Andes Mountains near the town of Pucallpa, Chile.The researchers are not sure how the animals were able to communicate with each other.\"We don't know if they use language,\" said Dr. Cawley. \"We don't have any evidence of them using language, so it's hard to say.\"The researchers found the animals during a trip to the area in 2010.\"We're not sure why they're here,\" said Dr. \"It's possible they're here because of a natural disaster or they are scavengers. But we don't know.\"Dr. Cawley said the animals were discovered in a small valley surrounded by trees and other vegetation.\"In the past, we've seen animals living in these remote areas,\" said Dr. \"In the past, we've found animals living in the Amazon River. We've found animals living in the Andes Mountains. We've found animals living in the Amazon River. But we've never seen a herd of unicorns.\"The researchers said the animals were likely born in the region and survived the harsh conditions of the Andes Mountains.\"There's a lot of snow in the Andes,\" said Dr. \"They can survive in the snow for months. They can survive in the snow for months. Cawley said the animals likely arrived in the area during the last Ice Age.\"The animals were probably brought here by glaciers,\" said Dr. \"They were probably brought here by glaciers. They were probably brought here by glaciers. And they probably survived in the Andes Mountains. Cawley said the animals likely evolved in the area since the last Ice Age.\"The animals are probably the descendants of the animals that lived in the Andes for thousands of years,\" said Dr. \"The animals are probably the descendants of the animals that lived in the Andes for thousands of years.\"The animals are also likely related to the animals that live in the Amazon River.\"The animals that live in the Amazon River are related to the animals that live in the Andes Mountains,\" said Dr. \"The animals live in the Amazon River and the animals live in the Andes Mountains.\"The animals were found in a small valley surrounded by trees and other vegetation.\"We know that the animals live in the Andes Mountains,\" said Dr. \"We know the animals live in the Amazon River. We know the animals live in the Amazon River. Cawley said the animals are likely related to the animals that live in the Amazon River.\"The researchers also found traces of the animals' food sources.\"We found traces of the animals' food sources,\" said Dr. \"We found traces of the animals' food sources. And we found traces of the animals' food sources.\n",
      "\n",
      "====\n",
      "\n",
      "OUTPUT  2: The team from the University of California, Santa Cruz, spent three years studying the animals in the area known as the Tepoztlan mountains, located in the northern Andes. They found that the animals, which are thought to be the world's largest and rarest wild mammals, are the result of a natural breeding process.\"We're really excited to see how this study will help us understand the evolution and evolution of animals,\" said study co-author Dr. David C. Williams, a professor of biology at UC Santa Cruz.The researchers found that the animals are descended from a single female, and have been living in the mountains for at least 10,000 years.\"The animals are a very strange mix of animals, from the world's largest mammals to the world's smallest,\" Williams said. \"We're really excited to see how this study will help us understand the evolution and evolution of animals.\"The researchers found that the animals were the result of a natural breeding process.\"The animals are a very strange mix of animals, from the world's largest mammals to the world's smallest. We're really excited to see how this study will help us understand the evolution and evolution of animals.\"This is the first time that scientists have found a herd of unicorns living in the Andes. The animals were first discovered in the 1970s, but they were thought to be extinct.The researchers believe that the animals are descended from a single female, called a \"puma.\" The puma is the most widely distributed of all wild mammals, and it is not known if the animals are related to the llamas. We're really excited to see how this study will help us understand the evolution and evolution of animals,\" Williams said.<|endoftext|>The following is a list of Vaughn Live's stream guidelines Must be at least 18 years of age to have an account and/or stream Streams (example: photos, films, videos, events, live broadcasts) cannot contain content of persons under the age of 18, except professionally pre-produced content. No nudity / No sexually explicit material No consumption and/or depiction of illegal drugs and/or substances (based on United States federal laws) on stream No hate speech / No illegal activity No mooning. Due to past \"unfortunate\" mooning events, mooning is no longer allowed. Cannot focus stream on chest, butt or genitals. No sex toys or promotion of sex related items. Banned streamers can be on your stream or MvnCams, but you are responsible for their actions and content. People category is not for all content. If you change the content of your broadcast, please update your channel category accordingly. Streams with no one on cam, no one on mic and no Streamer in chat don't belong in the People tab. Also streams that show pre produced content for the majority of their stream should not be in the People category. Gaming is allowed here on Vaughn Live. And if you're either on cam or on mic, you can stream gaming in the People tab. By using Vaughn Live, you agree you have full permission for any content you may use on your stream and/or on your channel itself Guidelines are subject to changeWelcome! Here is some information to assist you in setting your channel up!For emoticons & other important info https://myvaughn.com/tech_corner. You can view profiles by clicking the View Profile button or going to https://myvaughn.com/sarah_d_h_y. You can also check out our Learn to Streams page to learn more about streaming and to join in the chat room. We also have additional information loacated at https://myvaughn.\n",
      "\n",
      "====\n",
      "\n"
     ]
    },
    {
     "name": "stdout",
     "output_type": "stream",
     "text": [
      "OUTPUT  3: The findings were published in the Journal of Mammalogy.The researchers, from the University of California, Santa Cruz, and the Smithsonian National Zoo in Washington, D.C., spent months searching for the unicorns, which they believe were domesticated in the Andes Mountains.\"It was like a wild west,\" said lead author Dr. Jennifer A. Geller, a wildlife biologist at UCSC. \"We had no idea what to expect.\"The researchers found the unicorns by chance, while conducting a survey of the Andes Mountains in the summer of 2012. They were looking for evidence of a species of giant, horned, antelope that had disappeared from the area.\"We were looking for a species that was rare and that was also very well-known,\" Geller said. \"We didn't know what to expect.\"The team had been looking for the species for years, but were surprised to find the unicorns in their search.\"It was a surprise,\" Geller said.\"We were looking for a species that was rare and that was also very well-known.\"The researchers believe the unicorns were domesticated in the Andes Mountains, probably during the time of the Incas.In the past, scientists have theorized that the unicorns were domesticated by the Incas, who used them in the construction of temples.\"We know that a lot of the Inca temples were built in the Andes,\" Geller said. \"They were very well-known.\"The researchers were able to find the unicorns by chance because they were looking for a species of antelope that was rare in the area.\"We found them in a valley that was only accessible by helicopter,\" Geller said. \"We were able to find them by chance, and we were able to find them because we had a helicopter. We had no idea what to expect.\"The researchers were able to find the unicorns by chance, because they were looking for a species of antelope that was rare in the area.\"We know that a lot of the Inca temples were built in the Andes. They were very well-known. They were very well-known,\" Geller said.The researchers were able to find the unicorns by chance, because they were looking for a species of antelope that was rare in the area.\n",
      "\n",
      "====\n",
      "\n",
      "OUTPUT  4: The researchers, led by Dr. David K. Evans, a professor of human genetics at the University of California, San Diego, were studying how the genetic code is encoded in the genome. They found that the unicorns, which are a subspecies of the unicorn, are the only animals in the world that can speak English.The scientists were surprised to see a herd of unicorns living in the Andes Mountains, according to the BBC.The team discovered that the unicorns had a language of their own, which is a form of speech that is similar to English. The researchers say that the unicorns' language is a mixture of Spanish, Chinese and English.\"The language is a combination of Spanish, Chinese and English. It is a mixture of the two languages, which is quite unusual,\" Dr. Evans told the BBC.In the study, the scientists looked at the genetic code of the unicorns to see if they could find any clues about their origin. They discovered that the unicorns have a set of DNA sequences that are unique to them, which is unusual.The team also discovered that the unicorns have unique genetic mutations that are unique to them. The researchers believe that the mutations are caused by the animals' environment.\"These unicorns are living in a remote and inhospitable environment, and the environment is probably quite different from what we would expect in the wild,\" Evans told the BBC.Evans believes that the unicorns' unique genetic mutations are likely to be an adaptation to their environment.\"We think that these mutations are an adaptation to their environment. They are probably adapted to the environment of the Andes Mountains,\" Evans told the BBC.The researchers have not yet tested the unicorns' language, but they hope to do so in the future.\"We will be looking at the language and trying to understand the language,\" Evans told the BBC.The team's findings, published in the journal Nature Communications, have been published in the journal of the Proceedings of the National Academy of Sciences.The researchers say that the study is a \"remarkable example of the power of genetics to uncover new human traits.\"<|endoftext|>The first time I saw this picture was on the back of the cover of the book \"The Unconquerable Dog,\" the book where the title character, a dog named \"The Impossible Dog\" is in many ways the ultimate example of what I call \"the dog that never dies.\"The book was written by John H. Luntz, a psychologist and author of the book \"The Power of Positive Thinking\" and the book \"The Power of Positive Thinking for Business.\"The book was published in 1993 and the title character is a dog named \"The Impossible Dog.\" The book is a collection of his own experiences in the field of dog behavior and psychology.In the book, the dog is a bit of a loner and he is not a member of any pack or group. He is a lone wolf. He is not a dog that is afraid of people or other dogs, but he is a dog that is scared of people and other dogs. He is a dog that is not afraid of the cold, but he is afraid of the cold. He is a dog that is not afraid of the heat, but he is afraid of the heat. He is a dog that is not afraid of the rain, but he is afraid of the rain.\n",
      "\n",
      "====\n",
      "\n",
      "OUTPUT  8: \"We were all very surprised,\" said Dr. Luis R. Garcia, the study's lead author, in a press release. \"The unicorns were all born in the same valley and were all raised by the same mother. The only difference is that they were all born with different names.\"The discovery was made by the National Geographic Channel's \"Finding Bigfoot\" show.\"We were all very surprised\"Garcia and his colleagues were searching for the elusive creatures in the remote Andes Mountains in Peru when they stumbled across a herd of unicorns.\"We could see that they were all very small, and not really big enough to be a big-horned animal,\" Garcia said. \"We could also see that they were all very young, and not really very old. We could see that they were all very white, and not very dark, but very light.\"The researchers said they were able to identify the mother and her offspring by looking at the animals' teeth and ear bones.\"We thought we were looking at a giant antelope,\" Garcia said. \"But the teeth were very big, and the ears were very small. We thought we were looking at a antelope, but the ears were very big.\"Garcia said the mother and her offspring were also very young.\"The mother was a young female, probably about three years old. She was very young, and very small. We were all very surprised,\" he said. \"We were all very surprised.\"Garcia said the mother was probably a virgin, because the mother was not pregnant at the time.\"We were all very surprised,\" he said.\"The researchers said they believe the mother and her offspring were born in the same valley, and the mother was probably a virgin.\"We think that they were all born in the same valley, and that they all lived in the same village,\" Garcia said. \"There was no evidence of human presence in the area.\"The researchers said they are now working to find out if the mother and her offspring are related.<|endoftext|>A man was arrested and charged with murder in connection with the death of a woman who was found dead in a car in the parking lot of a strip club in northeast Houston last week.Houston police arrested James Patrick McCarty, 36, of the 7400 block of North Fannin Street, on Saturday and charged him with the murder of 26-year-old Rachael Ray.Police said McCarty was at a strip club on July 16 when he saw Ray outside of the club and tried to stop her from leaving.Police said McCarty then grabbed her and dragged her into the parking lot, where he tried to strangle her.Police said McCarty then drove the car to a nearby gas station and tried to fill it with gas.At that point, police said McCarty's vehicle struck a utility pole and overturned.Ray was pronounced dead at the scene.The cause of death was ruled a heart attack.The investigation into Ray's death is ongoing.Anyone with information about McCarty's whereabouts is asked to call Houston police at 713-308-3600.<|endoftext|>The new version of this site is now available.The New York Times has a long history of covering the stories of the marginalized in America. For decades, it has been a place where people of color, immigrants, and LGBT people have found a voice and a platform to tell their stories.The New York Times has been a pioneer in the field of LGBTQ media. For many years, the Times was the only major newspaper in the United States to publish an issue of Out, a monthly magazine that focused on LGBTQ issues.\n",
      "\n",
      "====\n",
      "\n"
     ]
    },
    {
     "name": "stdout",
     "output_type": "stream",
     "text": [
      "OUTPUT 10: The discovery of the unicorns, which were named after the Latin word for \"unicorn\" and are native to the Andes Mountains, came as a shock to the researchers, who said the animals were not native to the region.The animals were discovered in the Santa Cruz region of Argentina, near the town of Arica, about 100 miles from the city of Santa Cruz.The scientists said the animals were likely descended from a group of wild animals that had been hunted to extinction by humans.\"The discovery of the unicorns is very important because it shows that the Andean population is still alive,\" said biologist and researcher Carlos Crespo, who led the research team.\"The animals are the first evidence of this population's existence in the Andes,\" he said.Crespo said the animals were likely descended from a group of wild animals that had been hunted to extinction by humans.The scientists said they had not been able to estimate the population size of the animals, but they said they estimate there are between 20 and 30 unicorns in the Santa Cruz region.\"In the Amazon, there are two kinds of animals: the herbivores and the carnivores,\" Crespo said. \"The herbivores are the ones that eat the plants, and the carnivores are the ones that eat the animals.\"The researchers also said they believe the animals were hunted to extinction by humans, but they did not know how.Crespo said the animals are the first evidence of this population's existence in the Andes.The researchers said the animals are likely descended from a group of wild animals that had been hunted to extinction by humans.\"In the Amazon, there are two kinds of animals: the herbivores and the carnivores. The herbivores are the ones that eat the plants, and the carnivores are the ones that eat the animals.\" Carlos Crespo, biologist and researcher\"We don't know whether they were hunted, but they were probably hunted,\" he said.\"We don't know how they got there,\" Crespo said.\"We don't know how they got there,\" he said.\n",
      "\n",
      "====\n",
      "\n",
      "---------------------------------------\n",
      "---------------------------------------\n",
      "INPUT: A train carriage containing controlled nuclear materials was stolen in Cincinnati today. Its whereabouts are unknown.\n",
      "OUTPUT  2: The theft occurred at about 1:30 p.m. at the Westin Hotel, which is owned by the Hamilton County Airport Authority.There were no reported injuries.The theft was first reported by the Cincinnati Enquirer.The train carriage contained about 300 pounds of highly enriched uranium.The Cincinnati-Hamilton County Airport Authority said it has been working with the FBI and the Cincinnati Police Department to investigate.A spokesman for the Hamilton County Airport Authority said the train carriage was stolen as part of a \"security sweep\" and that the airport is not aware of any other suspicious items on the train.The airport authority is a government agency.The FBI is also investigating the theft.The airport authority did not immediately respond to a request for comment.This is the second time in the last week that the airport authority has been the victim of a theft.On Monday, a car full of radioactive materials was stolen from a security checkpoint at the airport.The airport authority said a security guard was working on a security sweep when a car containing radioactive materials was stolen from the checkpoint.The airport authority said it is working with the FBI and the Hamilton County Police Department to investigate.AlertMe<|endoftext|>The video will start in 8 CancelGet daily news updates directly to your inbox Subscribe Thank you for subscribing We have more newsletters Show me See our privacy notice Could not subscribe, try again later Invalid EmailA woman has been filmed being thrown to the ground by a man as she slept in her car.The woman, who is not being identified, was filmed by her boyfriend as he drove her to her home in the US state of Texas.The man, who was driving a blue Nissan Altima, is said to have been furious with the woman after she had left him with their two-year-old daughter.The man is said to have then dragged the woman by the hair and threw her to the ground before driving off.(Image: YouTube/Ricardo Martinez)The woman, who was not wearing a seatbelt, was taken to a local hospital and has since been discharged.(Image: YouTube/Ricardo Martinez)The video, which has been viewed more than 1.4 million times, shows the woman in her car, as she is driven to her home in the town of Aransas Pass, Texas, according to a local ABC affiliate.The man and his passenger then appear to be arguing as they drive away, as the car passes a red light.(Image: YouTube/Ricardo Martinez)(Image: YouTube/Ricardo Martinez)(Image: YouTube/Ricardo Martinez)A man can be heard saying: \"You just left me with my baby girl.\"The woman can be heard saying: \"He threw me to the ground.\"The man then says: \"I'm not going to let you drive away, because I'm going to get you.\"The woman then replies: \"I'm not going to let you drive away.\n",
      "\n",
      "====\n",
      "\n",
      "OUTPUT  3: The train was carrying high-level materials, including enriched uranium, to a nuclear facility in the western German city of Hanover, a spokesman for the German Federal Police said.The theft occurred at around 2:30 p.m. local time (1430 GMT) at a station in the town of Wurzburg, the spokesman said.He said the stolen train was carrying a total of 1,000 kilograms (2,500 pounds) of highly enriched uranium.A security guard at the station was able to get the train's driver and a passenger to open a gate, but the man was not able to get the train's doors open, the spokesman said.The train was later found abandoned in a field near the station.The spokesman said the stolen train contained about 1,000 kilograms of highly enriched uranium.The German Federal Police said it was still investigating the incident.The incident comes a day after a train carrying highly enriched uranium was stolen in the western German city of Wurzburg.The stolen train, carrying high-level materials, to a nuclear facility in the western German city of Hanover, was found abandoned in a field near the station.The station in Wurzburg is a major transit point for trains heading to and from the Hanover nuclear power plant, which is operated by E.ON.The theft of the train was the latest in a string of rail thefts in Germany.In October, a train carrying highly enriched uranium was stolen near the city of Hanover.In September, a train carrying highly enriched uranium was stolen near the city of Wuppertal.The train was carrying a total of 1,000 kilograms (2,500 pounds) of highly enriched uranium.In March, a train carrying highly enriched uranium was stolen near the city of Hanover.In February, a train carrying highly enriched uranium was stolen near the city of Wuppertal.In January, a train carrying highly enriched uranium was stolen near the city of Wuppertal.In December, a train carrying highly enriched uranium was stolen near the city of Wuppertal.<|endoftext|>This is a rush transcript. Copy may not be in its final form.AMY GOODMAN: We turn now to the U.S. election, the first one since the Supreme Court legalized same-sex marriage. The Supreme Court ruled last week that same-sex couples have a constitutional right to marry, and the issue of same-sex marriage has been a key issue in the presidential campaign. The Republican presidential nominee, Mitt Romney, has opposed gay marriage, while President Obama has said he is open to it. The Supreme Court's decision came in a case in California. In 2012, the state's Supreme Court ruled that gay couples have the right to marry.In the case decided Monday, the court said the state cannot ban gay marriage. The justices ruled 5-4 that the state cannot ban same-sex marriage because it violates the constitutional right to marry. The court said the state's ban is unconstitutional because it discriminates against same-sex couples. The court also said that the constitution protects the right to marry.For more, we're joined by two guests. In Washington, D.C., we're joined by the attorney general of the District of Columbia, Eric H. Holder Jr., and in New York, we're joined by the attorney general of New York, Eric T. Schneiderman.We welcome you both to Democracy Now! Eric Holder, your response to the Supreme Court's ruling?ERIC HOLDER JR.: Well, I think it's a very important decision. I think it's a very important decision in the context of the struggle for equality.\n",
      "\n",
      "====\n",
      "\n"
     ]
    },
    {
     "name": "stdout",
     "output_type": "stream",
     "text": [
      "---------------------------------------\n",
      "---------------------------------------\n",
      "INPUT: Miley Cyrus was caught shoplifting from Abercrombie and Fitch on Hollywood Boulevard today.\n",
      "OUTPUT  1: The \"Wrecking Ball\" singer was seen wearing a red T-shirt and black pants when she was caught shoplifting at the store, TMZ reports.A source told TMZ that Cyrus was \"shocked\" when she saw the police tape outside the store.\"She was shocked and confused,\" the source said.Cyrus was reportedly caught in the act of stealing a pair of sunglasses from the store, but did not have any money.The singer was reportedly taken to the police station and was then released without any charges.The singer was also reportedly wearing a black hoodie and black pants at the time of the incident.TMZ reports that Cyrus was not arrested for the incident.The singer's rep, however, confirmed to PEOPLE that the singer was taken to the police station and released without any charges.\"Miley was released without charges and did not have any arrest warrant,\" a rep for Cyrus told PEOPLE. \"She was released without any charges and did not have any arrest warrant.\"The singer was reportedly \"shocked and confused\" when she saw the police tape outside the store.<|endoftext|>Image copyright Reuters Image caption The US and its allies have been carrying out air strikes in Syria for more than a yearThe US has launched a cruise missile strike against a Syrian airbase in response to a chemical weapons attack blamed on President Bashar al-Assad.The US said the strike was in response to a chemical weapons attack that killed at least 70 people.Russia said the attack was a provocation to justify military intervention.The US has been carrying out air strikes in Syria for more than a year.It has carried out more than 60 strikes, mainly in Iraq and Syria, since the start of the year.The US said the cruise missile strike on Shayrat airfield in Homs province was \"in response to the Syrian regime's use of chemical weapons\".\"The United States has been clear that it will not tolerate the use of chemical weapons and will act to deter and punish those who use them,\" the US military said in a statement.It added that the strike was \"in furtherance of our shared goal of degrading and ultimately destroying the Syrian regime's ability to threaten the United States and our allies\".The US said it was targeting a \"command and control node and a munitions production facility\".It added that the strike was carried out in response to a \"recent chemical weapons attack\" in the town of Khan Sheikhoun, which it said killed scores of people.The US also said it had carried out a ballistic missile strike on a Syrian airbase in Homs province on Tuesday, which destroyed the base's runway.Syrian state media said the strike had destroyed \"the most important air defence system of the Syrian Arab Army\".The US military said the missile strike was in retaliation for the \"reprehensible\" chemical attack.Media playback is unsupported on your device Media caption US President Donald Trump: \"We are not looking to start a war with Syria\"The attack comes as the US and its allies are carrying out air strikes in Syria in support of Syrian opposition forces.The Syrian government has repeatedly denied using chemical weapons.Image copyright EPA Image caption The US has been carrying out air strikes in Syria for more than a yearImage copyright AFP Image caption The US has been carrying out air strikes in Syria for more than a yearThe Syrian government has also accused the US of trying to overthrow the government through a coup in neighbouring Bahrain.The US has been carrying out air strikes in Syria since 2014, and has carried out more than 60 strikes, mostly in Iraq and Syria, since the start of the year.\n",
      "\n",
      "====\n",
      "\n",
      "OUTPUT  2: The singer was wearing a black top and black trousers when she was arrested.The incident took place at the store at around 8.30am.The singer was reportedly caught by a security guard and was taken to the police station.A spokesperson for the store told TMZ: \"The police were called to the store to investigate a report of a shoplifting incident involving Miley Cyrus.\"The singer was quickly handcuffed and taken to the police station.\"The singer is currently on tour in the US.Miley was reportedly caught on camera shoplifting at Abercrombie and Fitch on Hollywood Boulevard, Los Angeles. The singer was wearing a black top and black trousers when she was arrestedMiley Cyrus was reportedly caught on camera shoplifting at Abercrombie and Fitch on Hollywood Boulevard, Los Angeles. The singer was wearing a black top and black trousers when she was arrestedThe singer was reportedly caught on camera shoplifting at Abercrombie and Fitch on Hollywood Boulevard, Los AngelesMiley Cyrus was reportedly caught on camera shoplifting at Abercrombie and Fitch on Hollywood Boulevard, Los AngelesMiley Cyrus was reportedly caught on camera shoplifting at Abercrombie and Fitch on Hollywood Boulevard, Los AngelesMiley Cyrus was reportedly caught on camera shoplifting at Abercrombie and Fitch on Hollywood Boulevard, Los AngelesMiley Cyrus was reportedly caught on camera shoplifting at Abercrombie and Fitch on Hollywood Boulevard, Los AngelesMiley Cyrus was reportedly caught on camera shoplifting at Abercrombie and Fitch on Hollywood Boulevard, Los AngelesMiley Cyrus was reportedly caught on camera shoplifting at Abercrombie and Fitch on Hollywood Boulevard, Los Angeles<|endoftext|>By Matt Dolloff, CBS BostonBOSTON (CBS) — Patriots tight end Rob Gronkowski is on the mend after undergoing surgery to repair a partially torn ACL in his left knee on Sunday.Gronkowski, who is expected to miss the rest of the season, was listed as questionable on Monday's injury report.The injury is not thought to be serious, according to a source with knowledge of the situation.Gronkowski, 26, is the Patriots' leading receiver, with eight receptions for 111 yards and two touchdowns. Gronkowski has scored a touchdown every four games this season.The tight end has missed the past two games, but was expected to return in Week 6 against the New York Jets.Gronkowski was expected to be a game-time decision against the Jets, but was ruled out. He was listed as \"day-to-day\" on Monday's injury report.Gronkowski was listed as questionable in Week 5 against the Atlanta Falcons, but was ruled out.Gronkowski has been a key player for the Patriots for the past three seasons, and has been one of the team's most consistent receivers.With Gronkowski out, the Patriots' top receiving options are Rob Gronkowski, Julian Edelman, Danny Amendola, and Chris Hogan. Hogan, who has been out since Week 4 with a hamstring injury, is expected to play.Gronkowski is the team's best receiver, and he has been one of the best players in the NFL. He has caught at least eight passes in each of the past three seasons.(TM and © Copyright 2014 CBS Radio Inc. and its relevant subsidiaries. CBS RADIO and EYE Logo TM and Copyright 2014 CBS Broadcasting Inc. Used under license. All Rights Reserved. This material may not be published, broadcast, rewritten, or redistributed. The Associated Press contributed to this report.)<|endoftext|>A lot of people are talking about the upcoming release of the first episode of the new series of the BBC's Doctor Who.\n",
      "\n",
      "====\n",
      "\n",
      "OUTPUT  3: The teen was seen walking out of the store with a bag of clothes before she was spotted by security and arrested.Miley, who was wearing a black mini skirt and black top, was caught on camera shopping at the store.The teen was caught on camera shopping at the storeThe teen was seen walking out of the store with a bag of clothes before she was spotted by security and arrestedShe was then taken into custody and taken to the police station.The teen was arrested for shoplifting and was released on her own recognizance.The teen was later released on her own recognizanceMiley was spotted in a black mini skirt and black top as she was shopping at the Abercrombie and Fitch store on Hollywood BoulevardThe teen was spotted in a black mini skirt and black top as she was shopping at the Abercrombie and Fitch store on Hollywood Boulevard.Miley was spotted in a black mini skirt and black top as she was shopping at the Abercrombie and Fitch store on Hollywood Boulevard.The teen was spotted in a black mini skirt and black top as she was shopping at the Abercrombie and Fitch store on Hollywood BoulevardThe teen was spotted in a black mini skirt and black top as she was shopping at the Abercrombie and Fitch store on Hollywood BoulevardThe teen was spotted in a black mini skirt and black top as she was shopping at the Abercrombie and Fitch store on Hollywood BoulevardThe teen was spotted in a black mini skirt and black top as she was shopping at the Abercrombie and Fitch store on Hollywood BoulevardThe teen was spotted in a black mini skirt and black top as she was shopping at the Abercrombie and Fitch store on Hollywood BoulevardThe teen was spotted in a black mini skirt and black top as she was shopping at the Abercrombie and Fitch store on Hollywood BoulevardThe teen was spotted in a black mini skirt and black top as she was shopping at the Abercrombie and Fitch store on Hollywood BoulevardThe teen was spotted in a black mini skirt and black top as she was shopping at the Abercrombie and Fitch store on Hollywood BoulevardThe teen was caught on camera shopping at the store and was released on her own recognizanceThe teen was spotted in a black mini skirt and black top as she was shopping at the Abercrombie and Fitch store on Hollywood BoulevardThe teen was spotted in a black mini skirt and black top as she was shopping at the Abercrombie and Fitch store on Hollywood Boulevard<|endoftext|>This is a rush transcript. Copy may not be in its final form.AMY GOODMAN: We turn now to the case of a transgender woman who is suing the state of Texas for refusing to issue her a driver's license, claiming her gender identity is a mental illness. The woman, known only as Jane Doe, filed the lawsuit last month in federal court in Dallas. The suit claims the state has violated her constitutional rights to privacy and equal protection. Jane Doe is a transgender woman who has been living as a woman for 15 years. She has been legally recognized as a woman since she was 18 years old.In the suit, Jane Doe says her gender identity is a mental illness. She says she is not mentally ill, but she says she has been discriminated against for years because her gender identity is not reflected in her official records.Jane Doe is suing the state of Texas, the Texas Department of Public Safety, and the Texas Department of Public Safety and Homeland Security, alleging that the state has violated her constitutional rights to privacy and equal protection.The suit, Jane Doe v. Texas, was filed in the U.S.\n",
      "\n",
      "====\n",
      "\n"
     ]
    },
    {
     "name": "stdout",
     "output_type": "stream",
     "text": [
      "OUTPUT  4:  The singer was photographed by a security guard and was quickly detained.The singer was spotted in a black Adidas jacket and black Adidas sneakers, according to TMZ.A source told the site that the singer was \"in and out of the store in a matter of minutes\" and was \"shocked\" by the shoplifting.Cyrus was reportedly spotted entering the store at around 2:30 pm and leaving the store at around 4:15 pm.The singer was reportedly seen leaving the store with her arm around a man who was sitting on a bench outside the store.The source told TMZ that the singer was \"shocked\" by the shoplifting and was \"shouting at the security guard\" when she was detained.The source said that the singer was \"shocked and confused\" at the time and was \"shaking and crying\" after the incident.A source told TMZ that the singer was not arrested and that the incident was \"completely unprovoked.\"Cyrus is currently in the middle of a promotional tour for her new album \"The Miseducation of Lauryn Hill.\" She was last seen in Los Angeles on May 23.Cyrus is currently scheduled to perform at the MTV Video Music Awards on June 10.<|endoftext|>In the past, the main focus of our research has been on the effects of the stress hormone cortisol on the immune system of the human body. However, the immune system of the human body is not the only organ that is affected by cortisol. The immune system also plays a crucial role in the formation of the blood plasma of the human body, in the development of the immune system, and in the regulation of the immune response. This review will focus on the effects of cortisol on the immune system in humans.Cortisol is a hormone produced by the adrenal glands. It is secreted by the adrenal gland during periods of physical stress. Cortisol is released in response to the activation of the immune system.Cortisol is secreted by the adrenal glands during periods of physical stress.Cortisol is the main stress hormone produced by the adrenal glands. It is released in response to the activation of the immune system. In the body, cortisol is produced in two different forms: 1) free cortisol, which is released by the adrenals, and 2) glucocorticoids, which are produced by the liver. The glucocorticoids are secreted by the liver during periods of physical stress.The main role of the immune system in the development of the immune response is to protect the body from infection. The immune system can also play a role in the regulation of the immune response.The immune system is also involved in the regulation of the immune response.\n",
      "\n",
      "====\n",
      "\n",
      "OUTPUT  7: The 23-year-old model was spotted by a security camera grabbing a handful of clothing from the department store's back room and throwing them in the trash.Scroll down for videoAbercrombie and Fitch model Miley Cyrus was caught shoplifting from the department store on Hollywood Boulevard todayThe 23-year-old model was spotted by a security camera grabbing a handful of clothing from the department store's back room and throwing them in the trashThe store was reportedly closed for the day due to a holiday.The incident happened at around 1pm on Wednesday.A security camera captured Cyrus, who is known for her hit song 'Wrecking Ball' and her appearances on the hit TV show 'Scandal', stealing a pair of sunglasses from the back room.The model then walked out of the store with the sunglasses and a bag of clothes. Cyrus was spotted by a security camera grabbing a handful of clothing from the department store's back room and throwing them in the trashThe model then walked out of the store with the sunglasses and a bag of clothesThe incident happened at around 1pm on Wednesday. Cyrus was spotted by a security camera grabbing a handful of clothing from the department store's back room and throwing them in the trashThe store was reportedly closed for the day due to a holiday. The model was seen leaving with the sunglasses and a bag of clothesThe incident happened at around 1pm on Wednesday. Cyrus was seen leaving with the sunglasses and a bag of clothesThe model was seen leaving with the sunglasses and a bag of clothes. The incident happened at around 1pm on WednesdayThe model was seen leaving with the sunglasses and a bag of clothes.\n",
      "\n",
      "====\n",
      "\n",
      "OUTPUT  8: The singer was spotted wearing a black t-shirt and black jeans when she was spotted by a security guard at the store.Abercrombie and Fitch told TMZ that they are looking into the matter.Scroll down for videoMiley Cyrus was spotted shoplifting from Abercrombie and Fitch on Hollywood Boulevard today. The singer was spotted by a security guard at the storeMiley was spotted wearing a black t-shirt and black jeans when she was spotted by a security guard at the storeMiley was seen in a black t-shirt and black jeans when she was spotted by a security guard at the storeMiley was spotted by a security guard at the store when she was spotted in a black t-shirt and black jeansMiley was spotted in a black t-shirt and black jeans when she was spotted by a security guard at the store.The singer was spotted in the store wearing a black t-shirt and black jeans, and was wearing black shoes.The singer was spotted in the store wearing a black t-shirt and black jeans, and was wearing black shoesThe singer was spotted in the store wearing a black t-shirt and black jeans, and was wearing black shoesThe singer was spotted in the store wearing a black t-shirt and black jeans, and was wearing black shoes.Miley was spotted in the store wearing a black t-shirt and black jeans, and was wearing black shoes.The singer was spotted in the store wearing a black t-shirt and black jeans, and was wearing black shoesThe singer was spotted in the store wearing a black t-shirt and black jeans, and was wearing black shoes.\n",
      "\n",
      "====\n",
      "\n",
      "OUTPUT  9:  She was wearing a red dress, white shirt and black pants. She was arrested and booked for misdemeanor shoplifting.She was released from the station and is currently being held at the Hollywood Police Department.The incident occurred around 1:30 p.m.Check back for updates.More from The Wrap:The 'Wrecking Ball' Cast Has Some Fun With Their 'Racism'Jared Leto's 'Django Unchained' Role Is a 'Piece of Shit'The 'Wrecking Ball' Cast: What's Next for the Cast?<|endoftext|>The following is a list of Vaughn Live's stream guidelines Must be at least 18 years of age to have an account and/or stream Streams (example: photos, films, videos, events, live broadcasts) cannot contain content of persons under the age of 18, except professionally pre-produced content. No nudity / No sexually explicit material No consumption and/or depiction of illegal drugs and/or substances (based on United States federal laws) on stream No hate speech / No illegal activity No mooning. Due to past \"unfortunate\" mooning events, mooning is no longer allowed. Cannot focus stream on chest, butt or genitals. No sex toys or promotion of sex related items. Banned streamers can be on your stream or MvnCams, but you are responsible for their actions and content. People category is not for all content. If you change the content of your broadcast, please update your channel category accordingly. Streams with no one on cam, no one on mic and no Streamer in chat don't belong in the People tab. Also streams that show pre produced content for the majority of their stream should not be in the People category. Gaming is allowed here on Vaughn Live. And if you're either on cam or on mic, you can stream gaming in the People tab. By using Vaughn Live, you agree you have full permission for any content you may use on your stream and/or on your channel itself Guidelines are subject to changeWelcome! Here is some information to assist you in setting your channel up!For emoticons & other important info https://myvaughn.com/tech_corner. You can view profiles by clicking the View Profile button or going to https://myvaughn.com/matthew_d_hudson Please go to http://vaughnlive.tv/tech_corner for help with settings and assistance with loading banners,headers, backgrounds, and profiles. We also have additional information loacated at https://myvaughn.com/tech_corner Background: 1920 x 1200 pixels (recommended)Banner: 1600 x 75 pixels (1280px is visible left aligned, but must be 1600px total)Video: 640 x 360 pixels (16:9 ratio)Profile Picture: 320 x 240 pixels (4:3 ratio)About section max width: 640 pixelsTo upload header, background and update About Section, you need to sign in, go to My Account then Edit Channel.To upload profile, click on your name in the upper right corner, then click Change Profile Photo<|endoftext|>A group of students at the University of California, Berkeley, have created a new kind of computer for their classes. Called the \"Bolt,\" it is based on a chip that is designed to be small enough to fit in your pocket.The Bolt is the brainchild of a group of engineering students at UC Berkeley, who have been working on the project for the past six months. It's a chip that is so small that it can fit inside a pocket.The chip is a 3-D printed circuit that is made of a single layer of carbon. The carbon is sandwiched between two layers of metal, and it's sandwiched between another layer of carbon.\n",
      "\n",
      "====\n",
      "\n"
     ]
    },
    {
     "name": "stdout",
     "output_type": "stream",
     "text": [
      "---------------------------------------\n",
      "---------------------------------------\n",
      "INPUT: We’ve trained a large language model called GPT-2 that generates realistic paragraphs of text, while also exhibiting zero shot generalization on tasks like machine translation, question answering, reading comprehension, and summarization - problems usually approached by using training datasets and models designed explicitly for these tasks.\n",
      "OUTPUT  2:  We have also trained a deep neural network called GPT-3, which is designed to be able to learn and generalize to new tasks, including text generation.We have also trained a large language model called GPT-2 that generates realistic paragraphs of text, while also exhibiting zero shot generalization on tasks like machine translation, question answering, reading comprehension, and summarization - problems usually approached by using training datasets and models designed explicitly for these tasks. We have also trained a deep neural network called GPT-4, which is designed to be able to learn and generalize to new tasks, including text generation.We have also trained a deep neural network called GPT-5, which is designed to be able to learn and generalize to new tasks, including text generation.We have also trained a deep neural network called GPT-6, which is designed to be able to learn and generalize to new tasks, including text generation.We have also trained a deep neural network called GPT-7, which is designed to be able to learn and generalize to new tasks, including text generation.We have also trained a deep neural network called GPT-8, which is designed to be able to learn and generalize to new tasks, including text generation.We have also trained a deep neural network called GPT-9, which is designed to be able to learn and generalize to new tasks, including text generation.We have also trained a deep neural network called GPT-10, which is designed to be able to learn and generalize to new tasks, including text generation.We have also trained a deep neural network called GPT-11, which is designed to be able to learn and generalize to new tasks, including text generation.We have also trained a deep neural network called GPT-12, which is designed to be able to learn and generalize to new tasks, including text generation.We have also trained a deep neural network called GPT-13, which is designed to be able to learn and generalize to new tasks, including text generation.We have also trained a deep neural network called GPT-14, which is designed to be able to learn and generalize to new tasks, including text generation.We have also trained a deep neural network called GPT-15, which is designed to be able to learn and generalize to new tasks, including text generation.We have also trained a deep neural network called GPT-16, which is designed to be able to learn and generalize to new tasks, including text generation.We have also trained a deep neural network called GPT-17, which is designed to be able to learn and generalize to new tasks, including text generation.We have also trained a deep neural network called GPT-18, which is designed to be able to learn and generalize to new tasks, including text generation.We have also trained a deep neural network called GPT-19, which is designed to be able to learn and generalize to new tasks, including text generation.We have also trained a deep neural network called GPT-20, which is designed to be able to learn and generalize to new tasks, including text generation.We have also trained a deep neural network called GPT-21, which is designed to be able to learn and generalize to new tasks, including text generation.We have also trained a deep neural network called GPT-22, which is designed to be able to learn and generalize to new tasks, including text generation.\n",
      "\n",
      "====\n",
      "\n",
      "OUTPUT  5: This is just the beginning of the GPT-2 project, which is a collaborative effort between a number of researchers from the University of California, Berkeley, and several other institutions around the world.The project is funded by the National Science Foundation (NSF) under grant number P30 NSF-1226502. The work was funded by the National Institutes of Health (NIH) under grant number P30 NSF-095387.For more information about the GPT-2 project, visit http://gpt-2.berkeley.edu.About the University of California, BerkeleyThe University of California, Berkeley is the nation's largest public university, with nearly 34,000 undergraduate and graduate students from more than 40 countries. The campus has been named one of the Best Colleges in the Nation by U.S. News & World Report, and has been named one of the Best Value Colleges by Kiplinger's Personal Finance, among others. Berkeley is also home to the world's largest graduate-level physics department, with more than 22,000 students and faculty. The campus has a long history of scientific and technological achievement, and honors the work of more than 2,000 faculty and staff.Media ContactsTara Haelle, Berkeley News Service: (510) 717-5565, tara.haelle@berkeley.eduMaggie E. Kiely, University of California, Berkeley: (510) 717-5567, maggie.kiely@berkeley.eduPamela B. Kopp, University of California, Berkeley: (510) 717-5567, pm.kop@berkeley.edu<|endoftext|>A former member of the United States Marine Corps who served in Iraq and Afghanistan was sentenced to two years in prison for lying about the number of combat missions he and his unit performed.Army Maj. Ryan P. Larkin, 26, of the Chicago area, was sentenced Wednesday to two years in prison for lying to the Defense Department about his military service and for falsifying the number of combat missions he and his unit performed.The sentence was announced by U. Attorney Zachary Fardon.Larkin, a member of the 1st Battalion, 7th Marines, was a member of the 1st Marine Division in Iraq between August 2009 and April 2011.He was a member of the 1st Battalion, 7th Marines, based in Camp Lejeune, N.C.Larkin was assigned to the 1st Marine Division's 1st Marine Reconnaissance Battalion based at Camp Lejeune.On Jan. 24, 2014, Larkin testified under oath that he had served in combat missions in Iraq and Afghanistan.\"I served in Iraq with the 1st Marine Reconnaissance Battalion, and I served in Afghanistan with the 1st Marine Reconnaissance Battalion,\" he said.On March 21, 2014, Larkin was arrested and charged with perjury and falsifying records.He was arrested in January after a federal grand jury indicted him on three counts of perjury and seven counts of falsifying records.Larkin was also charged with falsifying records for the 1st Marine Reconnaissance Battalion based at Camp Lejeune.On Sept. 2, 2014, Larkin was sentenced to two years in prison by U. District Judge Robert J. Bryan.The sentence was reduced to 18 months because Larkin was on supervised release at the time of his offenses.Larkin is scheduled to be released from prison in January 2015.\n",
      "\n",
      "====\n",
      "\n",
      "OUTPUT 10:  Our model is based on a novel approach to training, called the GPT-2-Grammar-Learning (GPT-2-GML) pipeline, which we recently published in the journal Frontiers in Psychology. The GPT-2-GML pipeline is a novel method for training grammars that is based on a novel approach to training, called the GPT-2-Grammar-Learning (GPT-2-GML) pipeline, which we recently published in the journal Frontiers in Psychology.The GPT-2-GML pipeline combines the following key features:The model consists of a large number of layers, each of which is trained using a large number of examples.The model is trained on a large number of different examples.The model is trained using a large number of different tasks.The model is trained on a large number of different datasets.We've recently published a paper describing this approach (see \"GPT-2-GML Pipeline: Training Grammars with Large Numbers of Examples, Training Grammars with Large Numbers of Task Examples,\" by R. P. C. Wong, C. L. H. Lee, and S. D. B. Lee in Frontiers in Psychology).The GPT-2-GML pipeline is a novel approach to training grammars that is based on a novel approach to training, called the GPT-2-Grammar-Learning (GPT-2-GML) pipeline, which we recently published in the journal Frontiers in Psychology. The GPT-2-GML pipeline is a novel approach to training grammars that is based on a novel approach to training, called the GPT-2-Grammar-Learning (GPT-2-GML) pipeline, which we recently published in the journal Frontiers in Psychology.The GPT-2-GML pipeline is based on a novel approach to training grammars that is based on a novel approach to training, called the GPT-2-Grammar-Learning (GPT-2-GML) pipeline, which we recently published in the journal Frontiers in Psychology. The GPT-2-GML pipeline is based on a novel approach to training grammars that is based on a novel approach to training, called the GPT-2-Grammar-Learning (GPT-2-GML) pipeline, which we recently published in the journal Frontiers in Psychology.\n",
      "\n",
      "====\n",
      "\n",
      "---------------------------------------\n",
      "---------------------------------------\n",
      "INPUT: Legolas and Gimli advanced on the orcs, raising their weapons with a harrowing war cry.\n"
     ]
    },
    {
     "name": "stdout",
     "output_type": "stream",
     "text": [
      "---------------------------------------\n",
      "---------------------------------------\n",
      "INPUT: For today’s homework assignment, please describe the reasons for the US Civil War.\n",
      "---------------------------------------\n",
      "---------------------------------------\n",
      "INPUT: John F. Kennedy was just elected President of the United States after rising from the grave decades after his assassination. Due to miraculous developments in nanotechnology, Kennedy’s brain was rebuilt from his remains and installed in the control center of a state-of-the art humanoid robot. Below is a transcript of his acceptance speech.\n",
      "OUTPUT  3: \"I am here tonight because I believe that our future is at stake, and that we must act now to protect it. I am here because I believe that the United States of America is the greatest nation on earth, because we have the greatest potential to make the world a better place. I am here because I believe that the United States of America is the only nation that can save the world. I am here because I believe that the United States of America will be the greatest force for good in the world. And I am here because I believe that the United States of America is the only force that can save the world.\"I believe that it is time for us to take a stand for our values and our principles. I believe that we must stand together to defend them. And I believe that we must stand together to protect them. I believe that the United States of America will be the greatest force for good in the world.\"I believe that the United States of America is the greatest force for good in the world because we are the greatest nation on earth. We are the greatest force for good in the world because we are the greatest people on earth. We are the greatest people on earth because we are the greatest nation on earth. We are the greatest people on earth because we are the greatest people on earth.\"We are the strongest nation on earth because we are the strongest people on earth. We are the strongest nation on earth because we are the strongest people on earth.\n",
      "\n",
      "====\n",
      "\n",
      "OUTPUT  4: I am honored to be the first person to speak at the inauguration of the 45th President of the United States. It is an honor to be here in this building, to be part of history, and to be able to tell the story of how we came to be here today.I want to thank the people of the United States of America. The men and women of the armed forces, the men and women of the intelligence community, and the people of the United States of America, who have served this great country with honor and distinction.I want to thank the people of the world. The leaders of China, of Russia, of India, of Brazil, of South Africa, of all those nations who have helped make the world a better place. For the last eight years, we have been engaged in a struggle to defend the American people.Today, we are joined in that struggle by the people of the world. I am honored to be your President.Thank you. God bless you.END<|endoftext|>It's the end of an era for the legendary, world-renowned, and beloved, \"Hollywood\" movie star, Clint Eastwood. The man who changed the face of Hollywood, and the world, has passed away at the age of 85.Eastwood was a true legend who is remembered for his roles in films like \"The Outlaw Josey Wales,\" \"Saving Private Ryan,\" and \"The Good, The Bad and The Ugly.\" He was also a beloved American icon, and a true American hero.Eastwood was born in New York City on June 18, 1924. He graduated from the New York Military Academy, and graduated from the U.S. Air Force Academy, where he was awarded the Air Medal.In 1949, Eastwood starred in the film \"The Good, The Bad and The Ugly,\" which was considered one of the greatest films ever made.Eastwood also starred in \"The Wild Bunch,\" \"The Good, The Bad and The Ugly,\" and \"The Last Man on Earth.\" He also starred in the TV series \"The Rifleman,\" and the TV series \"The Longest Yard.\"Eastwood was married to actress, actress, and actress, Barbara Stanwyck. Stanwyck died on February 3, 2015, at the age of 89.Eastwood's acting career spanned over 50 years. He was an actor, director, producer, and screenwriter.\n",
      "\n",
      "====\n",
      "\n",
      "OUTPUT  5: \"I am now, as I have been since I was a boy, a citizen of the world. My fellow citizens of Earth. I am a man of my time. I am not the man you think I am. I am not the man you think I was. I am not the man you think I should have been. But I am the man you have chosen to be. I am the man who, by your vote, has made history. And I will do all in my power to make it as good as it can be. Because I am a man who believes in the future of mankind. And I believe that the future belongs to those who believe in the future of mankind.\"Kennedy was assassinated by John F. Kennedy, Jr. on November 22, 1963, as he was walking in his Senate office. The assassin was Lee Harvey Oswald, a former Marine and member of the Communist Party. Oswald was killed in a hail of bullets fired by Secret Service agent Mark Lane who was assigned to protect the President.The assassination of John F. Kennedy was the most shocking event in American history. It was the result of a conspiracy by the American people, the CIA, and the Mafia. The conspiracy involved the CIA's role in the assassination of President Kennedy, the Mafia, and the Mafia's role in the assassination of President Kennedy. The conspiracy included the CIA, the Mafia, and the Mafia's role in the assassination of President Kennedy. The conspiracy included the Mafia's role in the assassination of President Kennedy, the CIA's role in the assassination of President Kennedy, and the Mafia's role in the assassination of President Kennedy.The conspiracy included the Mafia's role in the assassination of President Kennedy, the CIA's role in the assassination of President Kennedy, and the Mafia's role in the assassination of President Kennedy.\n",
      "\n",
      "====\n",
      "\n",
      "OUTPUT  7: \"I am here today to accept the mantle of the Presidency of the United States. I take this responsibility seriously.\"I was born in a time of uncertainty, of fear, of fear and of hope. I was born in the shadow of a terrifying terrorist attack, a time of fear and of despair. I was born in the shadow of the Soviet Union, a time of fear and of despair. I was born in the shadow of the Vietnam War, a time of fear and of despair. I was born in the shadow of the Cold War, a time of fear and of despair. I was born in the shadow of the Gulf of Tonkin, a time of fear and of despair. And I was born in the shadow of the assassination of President John F. Kennedy.\"I have lived through all of these tragedies, and I have seen the scars of each of them. And I have seen the scars of each of them in the faces of those who loved me and loved America. I have seen the scars of each of them in the faces of the families of those who lost their lives. I have seen the scars of each of them in the faces of those who suffered the consequences of the decisions that were made in the wake of each of these tragedies.\"I want to tell you that I have seen the scars of each of them, and I will not allow them to be erased from my memory.\"I will not allow them to be erased from the pages of history.\"I will not allow them to be erased from the pages of the Constitution, the Bill of Rights, and the laws that we have enacted to protect the rights of all Americans.\"I will not let them be erased from the pages of history.\"I will not let them be erased from the pages of the Constitution, the Bill of Rights, and the laws that we have enacted to protect the rights of all Americans.\n",
      "\n",
      "====\n",
      "\n",
      "OUTPUT  8: The President: Thank you all very much. I'm honored to have this opportunity to speak tonight to the nation, but I'm also honored to be here, as I was in Dallas, Texas, in 1963, to witness the assassination of my brother, President John F. Kennedy.I have been asked to speak about my brother's death, and I will not be able to do that. But I will say that the events of that day have profoundly affected my life. I have been asked to speak about the challenges facing our nation today, and I will not be able to do that. But I will say that the events of that day have profoundly affected the nation's history.My brother was a man who believed in the American dream, and he believed in the American dream for all Americans. He believed that the American dream could be achieved by everyone, no matter what their background, no matter what their color, no matter what their religion.He believed that this country was built on the promise of equal opportunity, and that all Americans should have the opportunity to live their lives as fully and as free as possible.He believed that no one should be left behind, and that we should be a nation that is equal to the challenges of the future.He believed that this nation was built on the promise of opportunity, and that all Americans should have the opportunity to live their lives as fully and as free as possible.The United States of America is built on the promise of opportunity.And I will not be able to fulfill the promise of my brother's life, but I will be able to fulfill the promise of my own life.I will be able to achieve the American dream, and I will be able to achieve the American dream for all Americans.I will be able to do that by making sure that every American has the chance to live their lives as fully and as free as possible.\n",
      "\n",
      "====\n",
      "\n"
     ]
    },
    {
     "name": "stdout",
     "output_type": "stream",
     "text": [
      "---------------------------------------\n",
      "---------------------------------------\n",
      "INPUT: Recycling is good for the world.NO! YOU COULD NOT BE MORE WRONG!!\n",
      "---------------------------------------\n",
      "CPU times: user 8h 21min 22s, sys: 3h 58min 17s, total: 12h 19min 40s\n",
      "Wall time: 12h 19min 24s\n"
     ]
    }
   ],
   "source": [
    "%%time\n",
    "results_2 = benchmark_v2('gpt2-large', n_words=800, texts=[ww2]+SAMPLE_INPUTS, n_trials=10, top_k=20, temperature=0.5)"
   ]
  },
  {
   "cell_type": "code",
   "execution_count": null,
   "metadata": {},
   "outputs": [],
   "source": []
  }
 ],
 "metadata": {
  "kernelspec": {
   "display_name": "Python 3",
   "language": "python",
   "name": "python3"
  },
  "language_info": {
   "codemirror_mode": {
    "name": "ipython",
    "version": 3
   },
   "file_extension": ".py",
   "mimetype": "text/x-python",
   "name": "python",
   "nbconvert_exporter": "python",
   "pygments_lexer": "ipython3",
   "version": "3.6.7"
  }
 },
 "nbformat": 4,
 "nbformat_minor": 1
}
